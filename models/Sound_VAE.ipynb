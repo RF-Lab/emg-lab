{
  "nbformat": 4,
  "nbformat_minor": 0,
  "metadata": {
    "colab": {
      "provenance": [],
      "gpuType": "T4",
      "collapsed_sections": [
        "VT4M2fv-uk4h",
        "M1MqHaETijJI"
      ],
      "include_colab_link": true
    },
    "kernelspec": {
      "name": "python3",
      "display_name": "Python 3"
    },
    "language_info": {
      "name": "python"
    },
    "accelerator": "GPU"
  },
  "cells": [
    {
      "cell_type": "markdown",
      "metadata": {
        "id": "view-in-github",
        "colab_type": "text"
      },
      "source": [
        "<a href=\"https://colab.research.google.com/github/MenDeLeeVe/Cars/blob/main/Sound_VAE.ipynb\" target=\"_parent\"><img src=\"https://colab.research.google.com/assets/colab-badge.svg\" alt=\"Open In Colab\"/></a>"
      ]
    },
    {
      "cell_type": "code",
      "execution_count": null,
      "metadata": {
        "colab": {
          "base_uri": "https://localhost:8080/"
        },
        "id": "6M57PJ46ezIF",
        "outputId": "42f01100-693d-41e7-d073-4c3e4fccad3a",
        "collapsed": true
      },
      "outputs": [
        {
          "output_type": "stream",
          "name": "stdout",
          "text": [
            "fatal: destination path 'Cars' already exists and is not an empty directory.\n",
            "Requirement already satisfied: torch-audiomentations in /usr/local/lib/python3.11/dist-packages (0.12.0)\n",
            "Requirement already satisfied: julius<0.3,>=0.2.3 in /usr/local/lib/python3.11/dist-packages (from torch-audiomentations) (0.2.7)\n",
            "Requirement already satisfied: torch>=1.7.0 in /usr/local/lib/python3.11/dist-packages (from torch-audiomentations) (2.6.0+cu124)\n",
            "Requirement already satisfied: torchaudio>=0.9.0 in /usr/local/lib/python3.11/dist-packages (from torch-audiomentations) (2.6.0+cu124)\n",
            "Requirement already satisfied: torch-pitch-shift>=1.2.2 in /usr/local/lib/python3.11/dist-packages (from torch-audiomentations) (1.2.5)\n",
            "Requirement already satisfied: filelock in /usr/local/lib/python3.11/dist-packages (from torch>=1.7.0->torch-audiomentations) (3.18.0)\n",
            "Requirement already satisfied: typing-extensions>=4.10.0 in /usr/local/lib/python3.11/dist-packages (from torch>=1.7.0->torch-audiomentations) (4.13.2)\n",
            "Requirement already satisfied: networkx in /usr/local/lib/python3.11/dist-packages (from torch>=1.7.0->torch-audiomentations) (3.4.2)\n",
            "Requirement already satisfied: jinja2 in /usr/local/lib/python3.11/dist-packages (from torch>=1.7.0->torch-audiomentations) (3.1.6)\n",
            "Requirement already satisfied: fsspec in /usr/local/lib/python3.11/dist-packages (from torch>=1.7.0->torch-audiomentations) (2025.3.2)\n",
            "Requirement already satisfied: nvidia-cuda-nvrtc-cu12==12.4.127 in /usr/local/lib/python3.11/dist-packages (from torch>=1.7.0->torch-audiomentations) (12.4.127)\n",
            "Requirement already satisfied: nvidia-cuda-runtime-cu12==12.4.127 in /usr/local/lib/python3.11/dist-packages (from torch>=1.7.0->torch-audiomentations) (12.4.127)\n",
            "Requirement already satisfied: nvidia-cuda-cupti-cu12==12.4.127 in /usr/local/lib/python3.11/dist-packages (from torch>=1.7.0->torch-audiomentations) (12.4.127)\n",
            "Requirement already satisfied: nvidia-cudnn-cu12==9.1.0.70 in /usr/local/lib/python3.11/dist-packages (from torch>=1.7.0->torch-audiomentations) (9.1.0.70)\n",
            "Requirement already satisfied: nvidia-cublas-cu12==12.4.5.8 in /usr/local/lib/python3.11/dist-packages (from torch>=1.7.0->torch-audiomentations) (12.4.5.8)\n",
            "Requirement already satisfied: nvidia-cufft-cu12==11.2.1.3 in /usr/local/lib/python3.11/dist-packages (from torch>=1.7.0->torch-audiomentations) (11.2.1.3)\n",
            "Requirement already satisfied: nvidia-curand-cu12==10.3.5.147 in /usr/local/lib/python3.11/dist-packages (from torch>=1.7.0->torch-audiomentations) (10.3.5.147)\n",
            "Requirement already satisfied: nvidia-cusolver-cu12==11.6.1.9 in /usr/local/lib/python3.11/dist-packages (from torch>=1.7.0->torch-audiomentations) (11.6.1.9)\n",
            "Requirement already satisfied: nvidia-cusparse-cu12==12.3.1.170 in /usr/local/lib/python3.11/dist-packages (from torch>=1.7.0->torch-audiomentations) (12.3.1.170)\n",
            "Requirement already satisfied: nvidia-cusparselt-cu12==0.6.2 in /usr/local/lib/python3.11/dist-packages (from torch>=1.7.0->torch-audiomentations) (0.6.2)\n",
            "Requirement already satisfied: nvidia-nccl-cu12==2.21.5 in /usr/local/lib/python3.11/dist-packages (from torch>=1.7.0->torch-audiomentations) (2.21.5)\n",
            "Requirement already satisfied: nvidia-nvtx-cu12==12.4.127 in /usr/local/lib/python3.11/dist-packages (from torch>=1.7.0->torch-audiomentations) (12.4.127)\n",
            "Requirement already satisfied: nvidia-nvjitlink-cu12==12.4.127 in /usr/local/lib/python3.11/dist-packages (from torch>=1.7.0->torch-audiomentations) (12.4.127)\n",
            "Requirement already satisfied: triton==3.2.0 in /usr/local/lib/python3.11/dist-packages (from torch>=1.7.0->torch-audiomentations) (3.2.0)\n",
            "Requirement already satisfied: sympy==1.13.1 in /usr/local/lib/python3.11/dist-packages (from torch>=1.7.0->torch-audiomentations) (1.13.1)\n",
            "Requirement already satisfied: mpmath<1.4,>=1.1.0 in /usr/local/lib/python3.11/dist-packages (from sympy==1.13.1->torch>=1.7.0->torch-audiomentations) (1.3.0)\n",
            "Requirement already satisfied: primePy>=1.3 in /usr/local/lib/python3.11/dist-packages (from torch-pitch-shift>=1.2.2->torch-audiomentations) (1.3)\n",
            "Requirement already satisfied: packaging>=21.3 in /usr/local/lib/python3.11/dist-packages (from torch-pitch-shift>=1.2.2->torch-audiomentations) (24.2)\n",
            "Requirement already satisfied: MarkupSafe>=2.0 in /usr/local/lib/python3.11/dist-packages (from jinja2->torch>=1.7.0->torch-audiomentations) (3.0.2)\n",
            "fatal: destination path 'emg_gestures_dataset' already exists and is not an empty directory.\n",
            "fatal: destination path 'Models' already exists and is not an empty directory.\n"
          ]
        }
      ],
      "source": [
        "import os\n",
        "import torch\n",
        "import torch.nn as nn\n",
        "import IPython\n",
        "from IPython.display import Audio\n",
        "from torchvision import datasets, transforms\n",
        "from torch.utils.data import TensorDataset, DataLoader, random_split, ConcatDataset\n",
        "from torch.distributions.normal import Normal\n",
        "import torchvision.utils as vutils\n",
        "import torch.nn.functional as F\n",
        "import torch.nn.utils as nn_utils\n",
        "import math\n",
        "import numpy as np\n",
        "import matplotlib.pyplot as plt\n",
        "from tqdm import tqdm\n",
        "import time\n",
        "import random\n",
        "import librosa\n",
        "import librosa.display\n",
        "import soundfile as sf\n",
        "!git clone https://github.com/MenDeLeeVe/Cars.git\n",
        "!pip install torch-audiomentations\n",
        "from torch_audiomentations import Compose, AddColoredNoise, Gain, PolarityInversion, Shift, PitchShift\n",
        "!git clone https://github.com/zoders/emg_gestures_dataset.git\n",
        "!git clone https://github.com/MenDeLeeVe/Models.git"
      ]
    },
    {
      "cell_type": "code",
      "source": [
        "data_dir = './Cars'\n",
        "data_labels = os.listdir(data_dir)\n",
        "data = []\n",
        "labels = []\n",
        "sr = 8000\n",
        "\n",
        "label_to_idx = {'.git': 2, 'acceleration': 0, 'breaking': 1}\n",
        "\n",
        "for label in data_labels:\n",
        "  if label[0]=='.':\n",
        "    continue\n",
        "  file_names = os.listdir(os.path.join(data_dir,label))\n",
        "  for fname in file_names:\n",
        "      signal, samplerate = librosa.load(os.path.join(data_dir,label,fname), sr=sr, mono=True)\n",
        "      signal = signal - np.mean(signal)\n",
        "      data.append(signal)\n",
        "      labels.append(label_to_idx[label])\n",
        "\n",
        "min_len = min(signal.shape[0] for signal in data)\n",
        "#print(min_len)\n",
        "\n",
        "idx = 0\n",
        "for idx, signal in enumerate(data):\n",
        "  data[idx] = signal[:min_len]\n",
        "\n",
        "data = np.array(data)\n",
        "#display(IPython.display.Audio(data[0], rate = sr))\n",
        "#print(data.shape,labels)"
      ],
      "metadata": {
        "id": "CwIyn42ilXJd",
        "colab": {
          "base_uri": "https://localhost:8080/"
        },
        "outputId": "dc93eb71-ce23-4c8c-cb04-57b9fdcae570"
      },
      "execution_count": null,
      "outputs": [
        {
          "output_type": "stream",
          "name": "stderr",
          "text": [
            "<ipython-input-103-557044d86951>:14: UserWarning: PySoundFile failed. Trying audioread instead.\n",
            "  signal, samplerate = librosa.load(os.path.join(data_dir,label,fname), sr=sr, mono=True)\n",
            "/usr/local/lib/python3.11/dist-packages/librosa/core/audio.py:184: FutureWarning: librosa.core.audio.__audioread_load\n",
            "\tDeprecated as of librosa version 0.10.0.\n",
            "\tIt will be removed in librosa version 1.0.\n",
            "  y, sr_native = __audioread_load(path, offset, duration, dtype)\n"
          ]
        }
      ]
    },
    {
      "cell_type": "code",
      "execution_count": null,
      "metadata": {
        "id": "79fc60ca-842b-4926-90b2-358a589a3650"
      },
      "outputs": [],
      "source": [
        "# Загрузка данных\n",
        "def get_dataset(dataset_path):\n",
        "    data = []\n",
        "    labels = []\n",
        "    muap_paths = []\n",
        "\n",
        "    # Получаем список папок, игнорируя скрытые файлы\n",
        "    folders = ['0','1']\n",
        "\n",
        "    for folder in folders:\n",
        "        folder_path = os.path.join(dataset_path, folder)\n",
        "\n",
        "        # Получаем список файлов в папке, игнорируя скрытые файлы\n",
        "        muap_files = [f for f in os.listdir(folder_path)\n",
        "                     if not f.startswith('.') and os.path.isfile(os.path.join(folder_path, f))]\n",
        "\n",
        "        for muap_file in muap_files:\n",
        "            path = os.path.join(folder_path, muap_file)\n",
        "            muap_paths.append(path)\n",
        "\n",
        "    random.seed(42)\n",
        "    random.shuffle(muap_paths)\n",
        "\n",
        "    for muap_path in muap_paths:\n",
        "        try:\n",
        "            muap = np.loadtxt(muap_path)\n",
        "            data.append(muap)\n",
        "            label = os.path.basename(os.path.dirname(muap_path))\n",
        "            labels.append(label)\n",
        "        except Exception as e:\n",
        "            print(f\"Ошибка при загрузке файла {muap_path}: {str(e)}\")\n",
        "            continue\n",
        "    print\n",
        "    return np.asarray(data, dtype=np.float32), np.asarray(labels, dtype=np.long)"
      ]
    },
    {
      "cell_type": "code",
      "execution_count": null,
      "metadata": {
        "id": "44f2683e-0861-40e0-9de7-590c8b441b0e"
      },
      "outputs": [],
      "source": [
        "# Предобработка данных\n",
        "signals, actions = get_dataset(\"/content/emg_gestures_dataset/gestures\")\n",
        "signals = signals[:,:]  # Берем все данные\n",
        "actions = actions[:]\n",
        "\n",
        "# Удаляем выбросы (где сумма абсолютных значений > 50)\n",
        "tmp = np.sum(np.abs(signals), axis=1)\n",
        "signals = np.delete(signals, tmp > 50, axis=0)\n",
        "actions = np.delete(actions, tmp > 50, axis=0)"
      ]
    },
    {
      "cell_type": "code",
      "source": [
        "print(actions.shape)"
      ],
      "metadata": {
        "colab": {
          "base_uri": "https://localhost:8080/"
        },
        "id": "oZcT0KmDBHAt",
        "outputId": "c12a3cd5-cfaf-4838-8615-c31892839ce8"
      },
      "execution_count": null,
      "outputs": [
        {
          "output_type": "stream",
          "name": "stdout",
          "text": [
            "(2363,)\n"
          ]
        }
      ]
    },
    {
      "cell_type": "code",
      "source": [
        "AUGMENTATIONS = [\n",
        "    #AddColoredNoise(min_snr_in_db=0.1, max_snr_in_db=1.0, p=1.0),\n",
        "    Gain(min_gain_in_db=-1.0, max_gain_in_db=1.0, p=1.0),\n",
        "    PolarityInversion(p=1.0),\n",
        "    Shift(min_shift=-0.2, max_shift=0.2, p=1.0),\n",
        "    PitchShift(min_transpose_semitones=-5, max_transpose_semitones=5, p=1.0, sample_rate=sr),\n",
        "]\n",
        "\n",
        "def random_augment_one(audio_tensor, sample_rate):\n",
        "    num_augs = random.randint(0, 3)\n",
        "    chosen_augs = random.sample(AUGMENTATIONS, num_augs)\n",
        "    random.shuffle(chosen_augs)\n",
        "    apply_augmentation = Compose(transforms=chosen_augs)\n",
        "    augmented = apply_augmentation(audio_tensor, sample_rate=sr)\n",
        "    return augmented\n",
        "\n",
        "augmented_data = []\n",
        "augmented_labels = []\n",
        "\n",
        "for id in range(len(data)):\n",
        "  x = torch.tensor(data[id], dtype=torch.float32).unsqueeze(0).unsqueeze(0)\n",
        "  for j in range(10):\n",
        "    augmented = random_augment_one(x, sr)\n",
        "    augmented_data.append(augmented.cpu().numpy())\n",
        "    augmented_labels.append(labels[id])\n",
        "\n",
        "augmented_data = np.array(augmented_data)\n",
        "augmented_labels = np.array(augmented_labels)"
      ],
      "metadata": {
        "colab": {
          "base_uri": "https://localhost:8080/"
        },
        "id": "FLyNLnFy2XmK",
        "outputId": "a2a32277-4905-4949-fba1-bab419859fea"
      },
      "execution_count": null,
      "outputs": [
        {
          "output_type": "stream",
          "name": "stderr",
          "text": [
            "/usr/local/lib/python3.11/dist-packages/torch_audiomentations/core/transforms_interface.py:76: FutureWarning: Transforms now expect an `output_type` argument that currently defaults to 'tensor', will default to 'dict' in v0.12, and will be removed in v0.13. Make sure to update your code to something like:\n",
            "  >>> augment = Gain(..., output_type='dict')\n",
            "  >>> augmented_samples = augment(samples).samples\n",
            "  warnings.warn(\n",
            "/usr/local/lib/python3.11/dist-packages/torch_audiomentations/core/transforms_interface.py:76: FutureWarning: Transforms now expect an `output_type` argument that currently defaults to 'tensor', will default to 'dict' in v0.12, and will be removed in v0.13. Make sure to update your code to something like:\n",
            "  >>> augment = PolarityInversion(..., output_type='dict')\n",
            "  >>> augmented_samples = augment(samples).samples\n",
            "  warnings.warn(\n",
            "/usr/local/lib/python3.11/dist-packages/torch_audiomentations/core/transforms_interface.py:76: FutureWarning: Transforms now expect an `output_type` argument that currently defaults to 'tensor', will default to 'dict' in v0.12, and will be removed in v0.13. Make sure to update your code to something like:\n",
            "  >>> augment = Shift(..., output_type='dict')\n",
            "  >>> augmented_samples = augment(samples).samples\n",
            "  warnings.warn(\n",
            "/usr/local/lib/python3.11/dist-packages/torch_audiomentations/core/transforms_interface.py:76: FutureWarning: Transforms now expect an `output_type` argument that currently defaults to 'tensor', will default to 'dict' in v0.12, and will be removed in v0.13. Make sure to update your code to something like:\n",
            "  >>> augment = PitchShift(..., output_type='dict')\n",
            "  >>> augmented_samples = augment(samples).samples\n",
            "  warnings.warn(\n",
            "/usr/local/lib/python3.11/dist-packages/torch_audiomentations/core/composition.py:42: FutureWarning: Transforms now expect an `output_type` argument that currently defaults to 'tensor', will default to 'dict' in v0.12, and will be removed in v0.13. Make sure to update your code to something like:\n",
            "  >>> augment = Compose(..., output_type='dict')\n",
            "  >>> augmented_samples = augment(samples).samples\n",
            "  warnings.warn(\n"
          ]
        }
      ]
    },
    {
      "cell_type": "code",
      "source": [
        "j = 0\n",
        "sorted_signals = []\n",
        "sorted_actions = []\n",
        "for i, label in enumerate(augmented_labels):\n",
        "    while label != actions[j]:\n",
        "        j += 1\n",
        "    sorted_signals.append(signals[j])\n",
        "    sorted_actions.append(int(actions[j]))\n",
        "    j += 1\n",
        "\n",
        "sorted_signals = np.array(sorted_signals)"
      ],
      "metadata": {
        "id": "6adfw-KTFjdv"
      },
      "execution_count": null,
      "outputs": []
    },
    {
      "cell_type": "code",
      "source": [
        "tensor_data = torch.tensor(augmented_data, dtype=torch.float32).squeeze(1)\n",
        "tensor_labels = torch.tensor(augmented_labels, dtype=torch.long)\n",
        "tensor_signals = torch.tensor(sorted_signals, dtype=torch.float32).unsqueeze(1)\n",
        "\n",
        "dataset = TensorDataset(tensor_data, tensor_labels, tensor_signals)\n",
        "val_percent = 0.1\n",
        "n_total = len(dataset)\n",
        "n_val = int(n_total * val_percent)\n",
        "n_train = n_total - n_val\n",
        "train_dataset, val_dataset = random_split(dataset, [n_train, n_val])\n",
        "loader = DataLoader(train_dataset, batch_size=49, shuffle=True)\n",
        "val_loader = DataLoader(val_dataset, batch_size=13, shuffle=True)\n"
      ],
      "metadata": {
        "id": "tR6oB61vaBsz"
      },
      "execution_count": null,
      "outputs": []
    },
    {
      "cell_type": "code",
      "source": [
        "print(dataset.tensors[2].shape)"
      ],
      "metadata": {
        "colab": {
          "base_uri": "https://localhost:8080/"
        },
        "id": "QMzOjemaZb-g",
        "outputId": "3c48bb8d-0c31-4f40-eaeb-d8ce86f09f69"
      },
      "execution_count": null,
      "outputs": [
        {
          "output_type": "stream",
          "name": "stdout",
          "text": [
            "torch.Size([980, 1, 2000])\n"
          ]
        }
      ]
    },
    {
      "cell_type": "code",
      "source": [
        "def set_seed(seed_value=42):\n",
        "    # Python's built-in random module\n",
        "    random.seed(seed_value)\n",
        "    # NumPy\n",
        "    np.random.seed(seed_value)\n",
        "    # PyTorch\n",
        "    torch.manual_seed(seed_value)\n",
        "    torch.cuda.manual_seed_all(seed_value)"
      ],
      "metadata": {
        "id": "VK5s0NjoIEUe"
      },
      "execution_count": null,
      "outputs": []
    },
    {
      "cell_type": "code",
      "source": [
        "set_seed(42)"
      ],
      "metadata": {
        "id": "8VWF5RSxIJbM"
      },
      "execution_count": null,
      "outputs": []
    },
    {
      "cell_type": "code",
      "execution_count": null,
      "metadata": {
        "colab": {
          "base_uri": "https://localhost:8080/"
        },
        "id": "9zC9Gmd56JfN",
        "outputId": "b95cb860-2a95-473b-e17a-30ed9bff0e7a"
      },
      "outputs": [
        {
          "output_type": "stream",
          "name": "stdout",
          "text": [
            "Using cuda device\n"
          ]
        }
      ],
      "source": [
        "device = 'cuda' if torch.cuda.is_available() else 'cpu'\n",
        "print(f'Using {device} device')"
      ]
    },
    {
      "cell_type": "code",
      "execution_count": null,
      "metadata": {
        "colab": {
          "base_uri": "https://localhost:8080/"
        },
        "id": "EVnMC7xBanoa",
        "outputId": "726ad3cf-89f0-47f8-adf5-1aa78fc57f90"
      },
      "outputs": [
        {
          "output_type": "stream",
          "name": "stdout",
          "text": [
            "torch.Size([49, 1, 6067]) torch.Size([49]) torch.Size([49, 1, 2000])\n"
          ]
        }
      ],
      "source": [
        "sounds, labels, signals = next(iter(loader))\n",
        "print(sounds.shape, labels.shape, signals.shape)"
      ]
    },
    {
      "cell_type": "code",
      "source": [
        "print(np.array(labels))\n",
        "signal_and_augmented_signal(sounds[0].squeeze().numpy(),sounds[2].squeeze().numpy(),sr)\n",
        "display(IPython.display.Audio(sounds[17].cpu().squeeze() , rate = sr))\n",
        "display(IPython.display.Audio(sounds[4].cpu().squeeze() , rate = sr))"
      ],
      "metadata": {
        "colab": {
          "base_uri": "https://localhost:8080/",
          "height": 637
        },
        "id": "cIZIJv8b4Mfr",
        "outputId": "1dcce90c-5295-4873-f72e-8ac9dc238441"
      },
      "execution_count": null,
      "outputs": [
        {
          "output_type": "stream",
          "name": "stdout",
          "text": [
            "[0 0 1 0 0 1 0 1 0 1 1 1 0 1 1 0 0 1 1 1 0 0 0 1 1 0 1 1 1 0 1 1 1 0 1 1 1\n",
            " 1 1 1 0 1 1 0 0 1 0 1 0]\n"
          ]
        },
        {
          "output_type": "display_data",
          "data": {
            "text/plain": [
              "<Figure size 640x480 with 2 Axes>"
            ],
            "image/png": "[encoded data removed]"
          },
          "metadata": {}
        },
        {
          "output_type": "display_data",
          "data": {
            "text/plain": [
              "<IPython.lib.display.Audio object>"
            ],
            "text/html": [
              "\n",
              "                <audio  controls=\"controls\" >\n",
              "                    <source src=\"data:audio/wav;base64,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\" type=\"audio/wav\" />\n",
              "                    Your browser does not support the audio element.\n",
              "                </audio>\n",
              "              "
            ]
          },
          "metadata": {}
        },
        {
          "output_type": "display_data",
          "data": {
            "text/plain": [
              "<IPython.lib.display.Audio object>"
            ],
            "text/html": [
              "\n",
              "                <audio  controls=\"controls\" >\n",
              "                    <source src=\"data:audio/wav;base64,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\" type=\"audio/wav\" />\n",
              "                    Your browser does not support the audio element.\n",
              "                </audio>\n",
              "              "
            ]
          },
          "metadata": {}
        }
      ]
    },
    {
      "cell_type": "code",
      "source": [
        "def signal_and_augmented_signal(signal, reconstructed_signal, sr):\n",
        "    fig, ax = plt.subplots(nrows=2,)\n",
        "    librosa.display.waveshow(signal, sr=sr, ax=ax[0])\n",
        "    ax[0].set(title=\"Original signal\")\n",
        "    librosa.display.waveshow(reconstructed_signal, sr=sr, ax=ax[1])\n",
        "    ax[1].set(title=\"Reconstructed signal\")\n",
        "    plt.tight_layout()\n",
        "    plt.show()"
      ],
      "metadata": {
        "id": "GYBfSDdNonXc"
      },
      "execution_count": null,
      "outputs": []
    },
    {
      "cell_type": "markdown",
      "source": [
        "# EMG"
      ],
      "metadata": {
        "id": "6tBIyO5ypkQu"
      }
    },
    {
      "cell_type": "code",
      "source": [
        "class EMGModel(nn.Module):\n",
        "    def __init__(self, input_size, num_classes):\n",
        "        super(EMGModel, self).__init__()\n",
        "        self.conv1 = nn.Conv1d(1, 40, kernel_size=200, stride=1, padding='same')\n",
        "        self.conv2 = nn.Conv1d(40, 25, kernel_size=10, stride=1, padding='same')\n",
        "        self.pool1 = nn.MaxPool1d(4)\n",
        "        self.conv3 = nn.Conv1d(25, 100, kernel_size=10, stride=1, padding='same')\n",
        "        self.conv4 = nn.Conv1d(100, 50, kernel_size=10, stride=1, padding='same')\n",
        "        self.pool2 = nn.MaxPool1d(4)\n",
        "        self.dropout = nn.Dropout(0.5)\n",
        "        self.conv5 = nn.Conv1d(50, 100, kernel_size=10, stride=1, padding='same')\n",
        "        self.global_pool = nn.AdaptiveAvgPool1d(1)\n",
        "        self.fc = nn.Linear(100, num_classes)\n",
        "\n",
        "    def forward(self, x):\n",
        "        x = torch.relu(self.conv1(x))\n",
        "        x = torch.relu(self.conv2(x))\n",
        "        x = self.pool1(x)\n",
        "        x = torch.relu(self.conv3(x))\n",
        "        x = torch.relu(self.conv4(x))\n",
        "        x = self.pool2(x)\n",
        "        x = self.dropout(x)\n",
        "        x = torch.relu(self.conv5(x))\n",
        "        x = self.global_pool(x)\n",
        "        x = x.view(x.size(0), -1)  # Выравнивание для полносвязного слоя\n",
        "        x = self.fc(x)\n",
        "        return x"
      ],
      "metadata": {
        "id": "YGH-Zd4upeM4"
      },
      "execution_count": null,
      "outputs": []
    },
    {
      "cell_type": "markdown",
      "source": [
        "# CVAE"
      ],
      "metadata": {
        "id": "vnF8P9pkp2f_"
      }
    },
    {
      "cell_type": "code",
      "source": [
        "class ClassEmbedder(nn.Module):\n",
        "    def __init__(self, num_classes=2, class_dim=32):\n",
        "        super().__init__()\n",
        "        self.embedding = nn.Embedding(num_classes, class_dim)\n",
        "\n",
        "    def forward(self, labels):\n",
        "        return self.embedding(labels.long())"
      ],
      "metadata": {
        "id": "OrxzyeAXohka"
      },
      "execution_count": null,
      "outputs": []
    },
    {
      "cell_type": "code",
      "source": [
        "class FullConnected(nn.Module):\n",
        "    def __init__(self, num_classes=2, class_dim=32):\n",
        "        super().__init__()\n",
        "        self.fc = nn.Linear(num_classes, class_dim)\n",
        "\n",
        "    def forward(self, emg):\n",
        "        return self.fc(emg)"
      ],
      "metadata": {
        "id": "ZD2yNh5DpjRh"
      },
      "execution_count": null,
      "outputs": []
    },
    {
      "cell_type": "code",
      "source": [
        "class CombinedModel(nn.Module):\n",
        "    def __init__(self, input_size, num_classes=2, z_dim=1024, im_chan=1, path=None,\n",
        "                 emg_path=False, vae_path=False, vae_path_adap=False,\n",
        "                 freeze_emg=False, freeze_vae=False, freeze_adap=False, device=device, generate=False):\n",
        "        super().__init__()\n",
        "        self.emg = EMGModel(input_size, num_classes)\n",
        "        if emg_path:\n",
        "            self.load_emg(path, freeze=freeze_emg)\n",
        "\n",
        "\n",
        "        self.encoder = Encoder(im_chan, z_dim)\n",
        "        self.decoder = Decoder(z_dim, im_chan)\n",
        "        if vae_path:\n",
        "            self.load_vae(path, freeze=freeze_vae)\n",
        "\n",
        "\n",
        "        self.class_embed_emg = FullConnected(num_classes, z_dim)\n",
        "        self.class_embed_labels = ClassEmbedder(num_classes, z_dim)\n",
        "        self.class_embed_conctatination = FullConnected(3072, z_dim)\n",
        "        self.losses = []\n",
        "        self.val_losses = []\n",
        "        if vae_path_adap:\n",
        "            self.load_adap(path, freeze=freeze_adap)\n",
        "\n",
        "        self.stds = []\n",
        "\n",
        "\n",
        "    def load_emg(self, path, freeze=True):\n",
        "        checkpoint = torch.load(path, map_location=device)\n",
        "        self.emg.load_state_dict(checkpoint['emg'])\n",
        "        if freeze:\n",
        "            for name, param in self.emg.named_parameters():\n",
        "                param.requires_grad = False\n",
        "\n",
        "\n",
        "    def load_vae(self, path, freeze=True):\n",
        "        checkpoint = torch.load(path, map_location=device)\n",
        "        self.encoder.load_state_dict(checkpoint['encoder'])\n",
        "        self.decoder.load_state_dict(checkpoint['decoder'])\n",
        "        if freeze:\n",
        "            for param in self.encoder.parameters():\n",
        "                param.requires_grad = False\n",
        "            for param in self.decoder.parameters():\n",
        "                param.requires_grad = False\n",
        "\n",
        "\n",
        "    def load_adap(self, path, freeze=True):\n",
        "        checkpoint = torch.load(path, map_location=device)\n",
        "        self.class_embed_emg.load_state_dict(checkpoint['class_embed_emg'])\n",
        "        self.class_embed_labels.load_state_dict(checkpoint['class_embed_labels'])\n",
        "        self.class_embed_conctatination.load_state_dict(checkpoint['class_embed_conctatination'])\n",
        "        if freeze:\n",
        "            for param in self.class_embed_emg.parameters():\n",
        "                param.requires_grad = False\n",
        "            for param in self.class_embed_labels.parameters():\n",
        "                param.requires_grad = False\n",
        "            for param in self.class_embed_conctatination.parameters():\n",
        "                param.requires_grad = False\n",
        "\n",
        "\n",
        "    def match_length(self,x, target_length):\n",
        "        current_length = x.shape[-1]\n",
        "        if current_length == target_length:\n",
        "          return x\n",
        "        elif current_length > target_length:\n",
        "            return x[..., :target_length]\n",
        "        else:\n",
        "            pad_len = target_length - current_length\n",
        "            return F.pad(x, (0, pad_len))\n",
        "\n",
        "\n",
        "    def forward(self, sounds, labels, emg_signals, generate=False):\n",
        "        emg_labels = self.emg(emg_signals)\n",
        "        #print(emg_labels.shape)\n",
        "        class_vec_emg = self.class_embed_emg(emg_labels)\n",
        "        #print(class_vec_emg.shape)\n",
        "        if generate:\n",
        "            std = np.mean(self.stds)\n",
        "            z_dist = Normal(class_vec_emg, std)\n",
        "            z = z_dist.rsample()\n",
        "            return self.decoder(z)\n",
        "        if not generate:\n",
        "            mean, std = self.encoder(sounds)\n",
        "            self.stds.append(torch.exp(std).item())\n",
        "            z_dist = Normal(mean, std)\n",
        "            z = z_dist.rsample()\n",
        "            #print(labels.shape)\n",
        "            class_vec_labels = self.class_embed_labels(labels)\n",
        "            #print(class_vec_labels.shape)\n",
        "            class_vec = torch.cat([class_vec_labels, class_vec_emg], dim=1)\n",
        "            #print(class_vec.shape)\n",
        "            #print(z.shape)\n",
        "            z = torch.cat([z, class_vec], dim=1)\n",
        "            #print(z.shape)\n",
        "            z = self.class_embed_conctatination(z)\n",
        "            #print(z.shape)\n",
        "            decoding = self.decoder(z)\n",
        "            return decoding, z_dist, emg_labels\n",
        "        return None, None, emg_labels"
      ],
      "metadata": {
        "id": "POx-zd2vp1iI"
      },
      "execution_count": null,
      "outputs": []
    },
    {
      "cell_type": "code",
      "source": [
        "model = CombinedModel(\n",
        "    input_size=2000,\n",
        "    num_classes=2,\n",
        "    path=\"/content/Models/SoundVAE.pth\",\n",
        "    emg_path=True,\n",
        "    #vae_path=True,\n",
        "    #vae_path_adap=True,\n",
        "    freeze_emg=True,\n",
        "    #freeze_vae=True,\n",
        "    #freeze_adap=True,\n",
        "    device=device,\n",
        "    generate=False,\n",
        "    ).to(device)"
      ],
      "metadata": {
        "id": "HY-EOZRmrBTk"
      },
      "execution_count": null,
      "outputs": []
    },
    {
      "cell_type": "code",
      "source": [
        "def train_model(model, loader, val_loader, epochs=10):\n",
        "    model_opt = torch.optim.Adam(model.parameters(), lr = 5e-5, weight_decay=5e-5)\n",
        "    for epoch in range(epochs):\n",
        "        model.train()\n",
        "        print(f\"Epoch {epoch}\")\n",
        "        for sounds, labels, emg_signals in tqdm(loader):\n",
        "            sounds = sounds.to(device)\n",
        "            labels = labels.to(device)\n",
        "            emg_signals = emg_signals.to(device)\n",
        "            model_opt.zero_grad()\n",
        "            recon_sounds, encoding, _ = model(sounds, labels, emg_signals)\n",
        "            recon_sounds = model.match_length(recon_sounds, sounds.shape[-1])\n",
        "            loss = reconstruction_loss(recon_sounds, sounds)+ kl_divergence_loss(encoding)\n",
        "            model.losses.append(loss)\n",
        "            loss.backward()\n",
        "            nn_utils.clip_grad_norm_(model.parameters(), max_norm=1000.0)\n",
        "            model_opt.step()\n",
        "            \"\"\"\n",
        "            original = sounds[0, 0].detach().cpu().numpy()\n",
        "            reconstructed = recon_sounds[0, 0].detach().cpu().numpy()\n",
        "            signal_and_augmented_signal(original,reconstructed,sr=sr)\n",
        "            print(\"loss:\", loss.item())\n",
        "            \"\"\"\n",
        "\n",
        "\n",
        "        val_losses = []\n",
        "        model.eval()\n",
        "        with torch.no_grad():\n",
        "            for sounds, labels, emg_signals in val_loader:\n",
        "                sounds = sounds.to(device)\n",
        "                labels = labels.to(device)\n",
        "                emg_signals = emg_signals.to(device)\n",
        "                recon_sounds, encoding, _ = model(sounds, labels, emg_signals)\n",
        "                recon_sounds = model.match_length(recon_sounds, sounds.shape[-1])\n",
        "                val_loss = reconstruction_loss(recon_sounds, sounds)+ kl_divergence_loss(encoding)\n",
        "                model.val_losses.append(val_loss)"
      ],
      "metadata": {
        "id": "rmPGniYsq8Ym"
      },
      "execution_count": null,
      "outputs": []
    },
    {
      "cell_type": "code",
      "source": [
        "# Обучение только размороженных параметров\n",
        "train_model(model, loader, val_loader, epochs=100)"
      ],
      "metadata": {
        "colab": {
          "base_uri": "https://localhost:8080/"
        },
        "id": "UjgfovsFrD_D",
        "outputId": "b5031f27-d331-4949-8e0b-1ea5a81ac827"
      },
      "execution_count": null,
      "outputs": [
        {
          "output_type": "stream",
          "name": "stdout",
          "text": [
            "Epoch 0\n"
          ]
        },
        {
          "output_type": "stream",
          "name": "stderr",
          "text": [
            "\r  0%|          | 0/2 [00:00<?, ?it/s]"
          ]
        },
        {
          "output_type": "stream",
          "name": "stdout",
          "text": [
            "Input: shape=torch.Size([49, 1, 6067])\n",
            "After layer 0: shape=torch.Size([49, 512, 380])\n",
            "After layer 1: shape=torch.Size([49, 1024, 48])\n",
            "After layer 2: shape=torch.Size([49, 2048, 1])\n",
            "Input: shape=torch.Size([49, 1024])\n",
            "After reshape: shape=torch.Size([49, 1024, 1])\n",
            "After layer 0: shape=torch.Size([49, 512, 48])\n",
            "After layer 1: shape=torch.Size([49, 256, 378])\n",
            "After layer 2: shape=torch.Size([49, 1, 6034])\n"
          ]
        },
        {
          "output_type": "stream",
          "name": "stderr",
          "text": [
            "100%|██████████| 2/2 [00:00<00:00,  3.27it/s]"
          ]
        },
        {
          "output_type": "stream",
          "name": "stdout",
          "text": [
            "Input: shape=torch.Size([40, 1, 6067])\n",
            "After layer 0: shape=torch.Size([40, 512, 380])\n",
            "After layer 1: shape=torch.Size([40, 1024, 48])\n",
            "After layer 2: shape=torch.Size([40, 2048, 1])\n",
            "Input: shape=torch.Size([40, 1024])\n",
            "After reshape: shape=torch.Size([40, 1024, 1])\n",
            "After layer 0: shape=torch.Size([40, 512, 48])\n",
            "After layer 1: shape=torch.Size([40, 256, 378])\n",
            "After layer 2: shape=torch.Size([40, 1, 6034])\n"
          ]
        },
        {
          "output_type": "stream",
          "name": "stderr",
          "text": [
            "\n"
          ]
        },
        {
          "output_type": "stream",
          "name": "stdout",
          "text": [
            "Input: shape=torch.Size([9, 1, 6067])\n",
            "After layer 0: shape=torch.Size([9, 512, 380])\n",
            "After layer 1: shape=torch.Size([9, 1024, 48])\n",
            "After layer 2: shape=torch.Size([9, 2048, 1])\n",
            "Input: shape=torch.Size([9, 1024])\n",
            "After reshape: shape=torch.Size([9, 1024, 1])\n",
            "After layer 0: shape=torch.Size([9, 512, 48])\n",
            "After layer 1: shape=torch.Size([9, 256, 378])\n",
            "After layer 2: shape=torch.Size([9, 1, 6034])\n",
            "Epoch 1\n"
          ]
        },
        {
          "output_type": "stream",
          "name": "stderr",
          "text": [
            " 50%|█████     | 1/2 [00:00<00:00,  8.05it/s]"
          ]
        },
        {
          "output_type": "stream",
          "name": "stdout",
          "text": [
            "Input: shape=torch.Size([49, 1, 6067])\n",
            "After layer 0: shape=torch.Size([49, 512, 380])\n",
            "After layer 1: shape=torch.Size([49, 1024, 48])\n",
            "After layer 2: shape=torch.Size([49, 2048, 1])\n",
            "Input: shape=torch.Size([49, 1024])\n",
            "After reshape: shape=torch.Size([49, 1024, 1])\n",
            "After layer 0: shape=torch.Size([49, 512, 48])\n",
            "After layer 1: shape=torch.Size([49, 256, 378])\n",
            "After layer 2: shape=torch.Size([49, 1, 6034])\n"
          ]
        },
        {
          "output_type": "stream",
          "name": "stderr",
          "text": [
            "100%|██████████| 2/2 [00:00<00:00,  4.09it/s]"
          ]
        },
        {
          "output_type": "stream",
          "name": "stdout",
          "text": [
            "Input: shape=torch.Size([40, 1, 6067])\n",
            "After layer 0: shape=torch.Size([40, 512, 380])\n",
            "After layer 1: shape=torch.Size([40, 1024, 48])\n",
            "After layer 2: shape=torch.Size([40, 2048, 1])\n",
            "Input: shape=torch.Size([40, 1024])\n",
            "After reshape: shape=torch.Size([40, 1024, 1])\n",
            "After layer 0: shape=torch.Size([40, 512, 48])\n",
            "After layer 1: shape=torch.Size([40, 256, 378])\n",
            "After layer 2: shape=torch.Size([40, 1, 6034])\n"
          ]
        },
        {
          "output_type": "stream",
          "name": "stderr",
          "text": [
            "\n"
          ]
        },
        {
          "output_type": "stream",
          "name": "stdout",
          "text": [
            "Input: shape=torch.Size([9, 1, 6067])\n",
            "After layer 0: shape=torch.Size([9, 512, 380])\n",
            "After layer 1: shape=torch.Size([9, 1024, 48])\n",
            "After layer 2: shape=torch.Size([9, 2048, 1])\n",
            "Input: shape=torch.Size([9, 1024])\n",
            "After reshape: shape=torch.Size([9, 1024, 1])\n",
            "After layer 0: shape=torch.Size([9, 512, 48])\n",
            "After layer 1: shape=torch.Size([9, 256, 378])\n",
            "After layer 2: shape=torch.Size([9, 1, 6034])\n",
            "Epoch 2\n"
          ]
        },
        {
          "output_type": "stream",
          "name": "stderr",
          "text": [
            " 50%|█████     | 1/2 [00:00<00:00,  7.94it/s]"
          ]
        },
        {
          "output_type": "stream",
          "name": "stdout",
          "text": [
            "Input: shape=torch.Size([49, 1, 6067])\n",
            "After layer 0: shape=torch.Size([49, 512, 380])\n",
            "After layer 1: shape=torch.Size([49, 1024, 48])\n",
            "After layer 2: shape=torch.Size([49, 2048, 1])\n",
            "Input: shape=torch.Size([49, 1024])\n",
            "After reshape: shape=torch.Size([49, 1024, 1])\n",
            "After layer 0: shape=torch.Size([49, 512, 48])\n",
            "After layer 1: shape=torch.Size([49, 256, 378])\n",
            "After layer 2: shape=torch.Size([49, 1, 6034])\n"
          ]
        },
        {
          "output_type": "stream",
          "name": "stderr",
          "text": [
            "100%|██████████| 2/2 [00:00<00:00,  4.07it/s]"
          ]
        },
        {
          "output_type": "stream",
          "name": "stdout",
          "text": [
            "Input: shape=torch.Size([40, 1, 6067])\n",
            "After layer 0: shape=torch.Size([40, 512, 380])\n",
            "After layer 1: shape=torch.Size([40, 1024, 48])\n",
            "After layer 2: shape=torch.Size([40, 2048, 1])\n",
            "Input: shape=torch.Size([40, 1024])\n",
            "After reshape: shape=torch.Size([40, 1024, 1])\n",
            "After layer 0: shape=torch.Size([40, 512, 48])\n",
            "After layer 1: shape=torch.Size([40, 256, 378])\n",
            "After layer 2: shape=torch.Size([40, 1, 6034])\n"
          ]
        },
        {
          "output_type": "stream",
          "name": "stderr",
          "text": [
            "\n"
          ]
        },
        {
          "output_type": "stream",
          "name": "stdout",
          "text": [
            "Input: shape=torch.Size([9, 1, 6067])\n",
            "After layer 0: shape=torch.Size([9, 512, 380])\n",
            "After layer 1: shape=torch.Size([9, 1024, 48])\n",
            "After layer 2: shape=torch.Size([9, 2048, 1])\n",
            "Input: shape=torch.Size([9, 1024])\n",
            "After reshape: shape=torch.Size([9, 1024, 1])\n",
            "After layer 0: shape=torch.Size([9, 512, 48])\n",
            "After layer 1: shape=torch.Size([9, 256, 378])\n",
            "After layer 2: shape=torch.Size([9, 1, 6034])\n",
            "Epoch 3\n"
          ]
        },
        {
          "output_type": "stream",
          "name": "stderr",
          "text": [
            " 50%|█████     | 1/2 [00:00<00:00,  7.87it/s]"
          ]
        },
        {
          "output_type": "stream",
          "name": "stdout",
          "text": [
            "Input: shape=torch.Size([49, 1, 6067])\n",
            "After layer 0: shape=torch.Size([49, 512, 380])\n",
            "After layer 1: shape=torch.Size([49, 1024, 48])\n",
            "After layer 2: shape=torch.Size([49, 2048, 1])\n",
            "Input: shape=torch.Size([49, 1024])\n",
            "After reshape: shape=torch.Size([49, 1024, 1])\n",
            "After layer 0: shape=torch.Size([49, 512, 48])\n",
            "After layer 1: shape=torch.Size([49, 256, 378])\n",
            "After layer 2: shape=torch.Size([49, 1, 6034])\n"
          ]
        },
        {
          "output_type": "stream",
          "name": "stderr",
          "text": [
            "100%|██████████| 2/2 [00:00<00:00,  4.07it/s]"
          ]
        },
        {
          "output_type": "stream",
          "name": "stdout",
          "text": [
            "Input: shape=torch.Size([40, 1, 6067])\n",
            "After layer 0: shape=torch.Size([40, 512, 380])\n",
            "After layer 1: shape=torch.Size([40, 1024, 48])\n",
            "After layer 2: shape=torch.Size([40, 2048, 1])\n",
            "Input: shape=torch.Size([40, 1024])\n",
            "After reshape: shape=torch.Size([40, 1024, 1])\n",
            "After layer 0: shape=torch.Size([40, 512, 48])\n",
            "After layer 1: shape=torch.Size([40, 256, 378])\n",
            "After layer 2: shape=torch.Size([40, 1, 6034])\n"
          ]
        },
        {
          "output_type": "stream",
          "name": "stderr",
          "text": [
            "\n"
          ]
        },
        {
          "output_type": "stream",
          "name": "stdout",
          "text": [
            "Input: shape=torch.Size([9, 1, 6067])\n",
            "After layer 0: shape=torch.Size([9, 512, 380])\n",
            "After layer 1: shape=torch.Size([9, 1024, 48])\n",
            "After layer 2: shape=torch.Size([9, 2048, 1])\n",
            "Input: shape=torch.Size([9, 1024])\n",
            "After reshape: shape=torch.Size([9, 1024, 1])\n",
            "After layer 0: shape=torch.Size([9, 512, 48])\n",
            "After layer 1: shape=torch.Size([9, 256, 378])\n",
            "After layer 2: shape=torch.Size([9, 1, 6034])\n",
            "Epoch 4\n"
          ]
        },
        {
          "output_type": "stream",
          "name": "stderr",
          "text": [
            " 50%|█████     | 1/2 [00:00<00:00,  7.90it/s]"
          ]
        },
        {
          "output_type": "stream",
          "name": "stdout",
          "text": [
            "Input: shape=torch.Size([49, 1, 6067])\n",
            "After layer 0: shape=torch.Size([49, 512, 380])\n",
            "After layer 1: shape=torch.Size([49, 1024, 48])\n",
            "After layer 2: shape=torch.Size([49, 2048, 1])\n",
            "Input: shape=torch.Size([49, 1024])\n",
            "After reshape: shape=torch.Size([49, 1024, 1])\n",
            "After layer 0: shape=torch.Size([49, 512, 48])\n",
            "After layer 1: shape=torch.Size([49, 256, 378])\n",
            "After layer 2: shape=torch.Size([49, 1, 6034])\n"
          ]
        },
        {
          "output_type": "stream",
          "name": "stderr",
          "text": [
            "100%|██████████| 2/2 [00:00<00:00,  4.04it/s]"
          ]
        },
        {
          "output_type": "stream",
          "name": "stdout",
          "text": [
            "Input: shape=torch.Size([40, 1, 6067])\n",
            "After layer 0: shape=torch.Size([40, 512, 380])\n",
            "After layer 1: shape=torch.Size([40, 1024, 48])\n",
            "After layer 2: shape=torch.Size([40, 2048, 1])\n",
            "Input: shape=torch.Size([40, 1024])\n",
            "After reshape: shape=torch.Size([40, 1024, 1])\n",
            "After layer 0: shape=torch.Size([40, 512, 48])\n",
            "After layer 1: shape=torch.Size([40, 256, 378])\n",
            "After layer 2: shape=torch.Size([40, 1, 6034])\n"
          ]
        },
        {
          "output_type": "stream",
          "name": "stderr",
          "text": [
            "\n"
          ]
        },
        {
          "output_type": "stream",
          "name": "stdout",
          "text": [
            "Input: shape=torch.Size([9, 1, 6067])\n",
            "After layer 0: shape=torch.Size([9, 512, 380])\n",
            "After layer 1: shape=torch.Size([9, 1024, 48])\n",
            "After layer 2: shape=torch.Size([9, 2048, 1])\n",
            "Input: shape=torch.Size([9, 1024])\n",
            "After reshape: shape=torch.Size([9, 1024, 1])\n",
            "After layer 0: shape=torch.Size([9, 512, 48])\n",
            "After layer 1: shape=torch.Size([9, 256, 378])\n",
            "After layer 2: shape=torch.Size([9, 1, 6034])\n",
            "Epoch 5\n"
          ]
        },
        {
          "output_type": "stream",
          "name": "stderr",
          "text": [
            " 50%|█████     | 1/2 [00:00<00:00,  8.03it/s]"
          ]
        },
        {
          "output_type": "stream",
          "name": "stdout",
          "text": [
            "Input: shape=torch.Size([49, 1, 6067])\n",
            "After layer 0: shape=torch.Size([49, 512, 380])\n",
            "After layer 1: shape=torch.Size([49, 1024, 48])\n",
            "After layer 2: shape=torch.Size([49, 2048, 1])\n",
            "Input: shape=torch.Size([49, 1024])\n",
            "After reshape: shape=torch.Size([49, 1024, 1])\n",
            "After layer 0: shape=torch.Size([49, 512, 48])\n",
            "After layer 1: shape=torch.Size([49, 256, 378])\n",
            "After layer 2: shape=torch.Size([49, 1, 6034])\n"
          ]
        },
        {
          "output_type": "stream",
          "name": "stderr",
          "text": [
            "100%|██████████| 2/2 [00:00<00:00,  4.02it/s]"
          ]
        },
        {
          "output_type": "stream",
          "name": "stdout",
          "text": [
            "Input: shape=torch.Size([40, 1, 6067])\n",
            "After layer 0: shape=torch.Size([40, 512, 380])\n",
            "After layer 1: shape=torch.Size([40, 1024, 48])\n",
            "After layer 2: shape=torch.Size([40, 2048, 1])\n",
            "Input: shape=torch.Size([40, 1024])\n",
            "After reshape: shape=torch.Size([40, 1024, 1])\n",
            "After layer 0: shape=torch.Size([40, 512, 48])\n",
            "After layer 1: shape=torch.Size([40, 256, 378])\n",
            "After layer 2: shape=torch.Size([40, 1, 6034])\n"
          ]
        },
        {
          "output_type": "stream",
          "name": "stderr",
          "text": [
            "\n"
          ]
        },
        {
          "output_type": "stream",
          "name": "stdout",
          "text": [
            "Input: shape=torch.Size([9, 1, 6067])\n",
            "After layer 0: shape=torch.Size([9, 512, 380])\n",
            "After layer 1: shape=torch.Size([9, 1024, 48])\n",
            "After layer 2: shape=torch.Size([9, 2048, 1])\n",
            "Input: shape=torch.Size([9, 1024])\n",
            "After reshape: shape=torch.Size([9, 1024, 1])\n",
            "After layer 0: shape=torch.Size([9, 512, 48])\n",
            "After layer 1: shape=torch.Size([9, 256, 378])\n",
            "After layer 2: shape=torch.Size([9, 1, 6034])\n",
            "Epoch 6\n"
          ]
        },
        {
          "output_type": "stream",
          "name": "stderr",
          "text": [
            " 50%|█████     | 1/2 [00:00<00:00,  8.03it/s]"
          ]
        },
        {
          "output_type": "stream",
          "name": "stdout",
          "text": [
            "Input: shape=torch.Size([49, 1, 6067])\n",
            "After layer 0: shape=torch.Size([49, 512, 380])\n",
            "After layer 1: shape=torch.Size([49, 1024, 48])\n",
            "After layer 2: shape=torch.Size([49, 2048, 1])\n",
            "Input: shape=torch.Size([49, 1024])\n",
            "After reshape: shape=torch.Size([49, 1024, 1])\n",
            "After layer 0: shape=torch.Size([49, 512, 48])\n",
            "After layer 1: shape=torch.Size([49, 256, 378])\n",
            "After layer 2: shape=torch.Size([49, 1, 6034])\n"
          ]
        },
        {
          "output_type": "stream",
          "name": "stderr",
          "text": [
            "100%|██████████| 2/2 [00:00<00:00,  4.03it/s]"
          ]
        },
        {
          "output_type": "stream",
          "name": "stdout",
          "text": [
            "Input: shape=torch.Size([40, 1, 6067])\n",
            "After layer 0: shape=torch.Size([40, 512, 380])\n",
            "After layer 1: shape=torch.Size([40, 1024, 48])\n",
            "After layer 2: shape=torch.Size([40, 2048, 1])\n",
            "Input: shape=torch.Size([40, 1024])\n",
            "After reshape: shape=torch.Size([40, 1024, 1])\n",
            "After layer 0: shape=torch.Size([40, 512, 48])\n",
            "After layer 1: shape=torch.Size([40, 256, 378])\n",
            "After layer 2: shape=torch.Size([40, 1, 6034])\n"
          ]
        },
        {
          "output_type": "stream",
          "name": "stderr",
          "text": [
            "\n"
          ]
        },
        {
          "output_type": "stream",
          "name": "stdout",
          "text": [
            "Input: shape=torch.Size([9, 1, 6067])\n",
            "After layer 0: shape=torch.Size([9, 512, 380])\n",
            "After layer 1: shape=torch.Size([9, 1024, 48])\n",
            "After layer 2: shape=torch.Size([9, 2048, 1])\n",
            "Input: shape=torch.Size([9, 1024])\n",
            "After reshape: shape=torch.Size([9, 1024, 1])\n",
            "After layer 0: shape=torch.Size([9, 512, 48])\n",
            "After layer 1: shape=torch.Size([9, 256, 378])\n",
            "After layer 2: shape=torch.Size([9, 1, 6034])\n",
            "Epoch 7\n"
          ]
        },
        {
          "output_type": "stream",
          "name": "stderr",
          "text": [
            " 50%|█████     | 1/2 [00:00<00:00,  7.92it/s]"
          ]
        },
        {
          "output_type": "stream",
          "name": "stdout",
          "text": [
            "Input: shape=torch.Size([49, 1, 6067])\n",
            "After layer 0: shape=torch.Size([49, 512, 380])\n",
            "After layer 1: shape=torch.Size([49, 1024, 48])\n",
            "After layer 2: shape=torch.Size([49, 2048, 1])\n",
            "Input: shape=torch.Size([49, 1024])\n",
            "After reshape: shape=torch.Size([49, 1024, 1])\n",
            "After layer 0: shape=torch.Size([49, 512, 48])\n",
            "After layer 1: shape=torch.Size([49, 256, 378])\n",
            "After layer 2: shape=torch.Size([49, 1, 6034])\n"
          ]
        },
        {
          "output_type": "stream",
          "name": "stderr",
          "text": [
            "100%|██████████| 2/2 [00:00<00:00,  4.04it/s]"
          ]
        },
        {
          "output_type": "stream",
          "name": "stdout",
          "text": [
            "Input: shape=torch.Size([40, 1, 6067])\n",
            "After layer 0: shape=torch.Size([40, 512, 380])\n",
            "After layer 1: shape=torch.Size([40, 1024, 48])\n",
            "After layer 2: shape=torch.Size([40, 2048, 1])\n",
            "Input: shape=torch.Size([40, 1024])\n",
            "After reshape: shape=torch.Size([40, 1024, 1])\n",
            "After layer 0: shape=torch.Size([40, 512, 48])\n",
            "After layer 1: shape=torch.Size([40, 256, 378])\n",
            "After layer 2: shape=torch.Size([40, 1, 6034])\n"
          ]
        },
        {
          "output_type": "stream",
          "name": "stderr",
          "text": [
            "\n"
          ]
        },
        {
          "output_type": "stream",
          "name": "stdout",
          "text": [
            "Input: shape=torch.Size([9, 1, 6067])\n",
            "After layer 0: shape=torch.Size([9, 512, 380])\n",
            "After layer 1: shape=torch.Size([9, 1024, 48])\n",
            "After layer 2: shape=torch.Size([9, 2048, 1])\n",
            "Input: shape=torch.Size([9, 1024])\n",
            "After reshape: shape=torch.Size([9, 1024, 1])\n",
            "After layer 0: shape=torch.Size([9, 512, 48])\n",
            "After layer 1: shape=torch.Size([9, 256, 378])\n",
            "After layer 2: shape=torch.Size([9, 1, 6034])\n",
            "Epoch 8\n"
          ]
        },
        {
          "output_type": "stream",
          "name": "stderr",
          "text": [
            " 50%|█████     | 1/2 [00:00<00:00,  7.84it/s]"
          ]
        },
        {
          "output_type": "stream",
          "name": "stdout",
          "text": [
            "Input: shape=torch.Size([49, 1, 6067])\n",
            "After layer 0: shape=torch.Size([49, 512, 380])\n",
            "After layer 1: shape=torch.Size([49, 1024, 48])\n",
            "After layer 2: shape=torch.Size([49, 2048, 1])\n",
            "Input: shape=torch.Size([49, 1024])\n",
            "After reshape: shape=torch.Size([49, 1024, 1])\n",
            "After layer 0: shape=torch.Size([49, 512, 48])\n",
            "After layer 1: shape=torch.Size([49, 256, 378])\n",
            "After layer 2: shape=torch.Size([49, 1, 6034])\n"
          ]
        },
        {
          "output_type": "stream",
          "name": "stderr",
          "text": [
            "100%|██████████| 2/2 [00:00<00:00,  4.03it/s]"
          ]
        },
        {
          "output_type": "stream",
          "name": "stdout",
          "text": [
            "Input: shape=torch.Size([40, 1, 6067])\n",
            "After layer 0: shape=torch.Size([40, 512, 380])\n",
            "After layer 1: shape=torch.Size([40, 1024, 48])\n",
            "After layer 2: shape=torch.Size([40, 2048, 1])\n",
            "Input: shape=torch.Size([40, 1024])\n",
            "After reshape: shape=torch.Size([40, 1024, 1])\n",
            "After layer 0: shape=torch.Size([40, 512, 48])\n",
            "After layer 1: shape=torch.Size([40, 256, 378])\n",
            "After layer 2: shape=torch.Size([40, 1, 6034])\n"
          ]
        },
        {
          "output_type": "stream",
          "name": "stderr",
          "text": [
            "\n"
          ]
        },
        {
          "output_type": "stream",
          "name": "stdout",
          "text": [
            "Input: shape=torch.Size([9, 1, 6067])\n",
            "After layer 0: shape=torch.Size([9, 512, 380])\n",
            "After layer 1: shape=torch.Size([9, 1024, 48])\n",
            "After layer 2: shape=torch.Size([9, 2048, 1])\n",
            "Input: shape=torch.Size([9, 1024])\n",
            "After reshape: shape=torch.Size([9, 1024, 1])\n",
            "After layer 0: shape=torch.Size([9, 512, 48])\n",
            "After layer 1: shape=torch.Size([9, 256, 378])\n",
            "After layer 2: shape=torch.Size([9, 1, 6034])\n",
            "Epoch 9\n"
          ]
        },
        {
          "output_type": "stream",
          "name": "stderr",
          "text": [
            " 50%|█████     | 1/2 [00:00<00:00,  7.88it/s]"
          ]
        },
        {
          "output_type": "stream",
          "name": "stdout",
          "text": [
            "Input: shape=torch.Size([49, 1, 6067])\n",
            "After layer 0: shape=torch.Size([49, 512, 380])\n",
            "After layer 1: shape=torch.Size([49, 1024, 48])\n",
            "After layer 2: shape=torch.Size([49, 2048, 1])\n",
            "Input: shape=torch.Size([49, 1024])\n",
            "After reshape: shape=torch.Size([49, 1024, 1])\n",
            "After layer 0: shape=torch.Size([49, 512, 48])\n",
            "After layer 1: shape=torch.Size([49, 256, 378])\n",
            "After layer 2: shape=torch.Size([49, 1, 6034])\n"
          ]
        },
        {
          "output_type": "stream",
          "name": "stderr",
          "text": [
            "100%|██████████| 2/2 [00:00<00:00,  4.01it/s]"
          ]
        },
        {
          "output_type": "stream",
          "name": "stdout",
          "text": [
            "Input: shape=torch.Size([40, 1, 6067])\n",
            "After layer 0: shape=torch.Size([40, 512, 380])\n",
            "After layer 1: shape=torch.Size([40, 1024, 48])\n",
            "After layer 2: shape=torch.Size([40, 2048, 1])\n",
            "Input: shape=torch.Size([40, 1024])\n",
            "After reshape: shape=torch.Size([40, 1024, 1])\n",
            "After layer 0: shape=torch.Size([40, 512, 48])\n",
            "After layer 1: shape=torch.Size([40, 256, 378])\n",
            "After layer 2: shape=torch.Size([40, 1, 6034])\n"
          ]
        },
        {
          "output_type": "stream",
          "name": "stderr",
          "text": [
            "\n"
          ]
        },
        {
          "output_type": "stream",
          "name": "stdout",
          "text": [
            "Input: shape=torch.Size([9, 1, 6067])\n",
            "After layer 0: shape=torch.Size([9, 512, 380])\n",
            "After layer 1: shape=torch.Size([9, 1024, 48])\n",
            "After layer 2: shape=torch.Size([9, 2048, 1])\n",
            "Input: shape=torch.Size([9, 1024])\n",
            "After reshape: shape=torch.Size([9, 1024, 1])\n",
            "After layer 0: shape=torch.Size([9, 512, 48])\n",
            "After layer 1: shape=torch.Size([9, 256, 378])\n",
            "After layer 2: shape=torch.Size([9, 1, 6034])\n",
            "Epoch 10\n"
          ]
        },
        {
          "output_type": "stream",
          "name": "stderr",
          "text": [
            " 50%|█████     | 1/2 [00:00<00:00,  7.86it/s]"
          ]
        },
        {
          "output_type": "stream",
          "name": "stdout",
          "text": [
            "Input: shape=torch.Size([49, 1, 6067])\n",
            "After layer 0: shape=torch.Size([49, 512, 380])\n",
            "After layer 1: shape=torch.Size([49, 1024, 48])\n",
            "After layer 2: shape=torch.Size([49, 2048, 1])\n",
            "Input: shape=torch.Size([49, 1024])\n",
            "After reshape: shape=torch.Size([49, 1024, 1])\n",
            "After layer 0: shape=torch.Size([49, 512, 48])\n",
            "After layer 1: shape=torch.Size([49, 256, 378])\n",
            "After layer 2: shape=torch.Size([49, 1, 6034])\n"
          ]
        },
        {
          "output_type": "stream",
          "name": "stderr",
          "text": [
            "100%|██████████| 2/2 [00:00<00:00,  4.15it/s]"
          ]
        },
        {
          "output_type": "stream",
          "name": "stdout",
          "text": [
            "Input: shape=torch.Size([40, 1, 6067])\n",
            "After layer 0: shape=torch.Size([40, 512, 380])\n",
            "After layer 1: shape=torch.Size([40, 1024, 48])\n",
            "After layer 2: shape=torch.Size([40, 2048, 1])\n",
            "Input: shape=torch.Size([40, 1024])\n",
            "After reshape: shape=torch.Size([40, 1024, 1])\n",
            "After layer 0: shape=torch.Size([40, 512, 48])\n",
            "After layer 1: shape=torch.Size([40, 256, 378])\n",
            "After layer 2: shape=torch.Size([40, 1, 6034])\n"
          ]
        },
        {
          "output_type": "stream",
          "name": "stderr",
          "text": [
            "\n"
          ]
        },
        {
          "output_type": "stream",
          "name": "stdout",
          "text": [
            "Input: shape=torch.Size([9, 1, 6067])\n",
            "After layer 0: shape=torch.Size([9, 512, 380])\n",
            "After layer 1: shape=torch.Size([9, 1024, 48])\n",
            "After layer 2: shape=torch.Size([9, 2048, 1])\n",
            "Input: shape=torch.Size([9, 1024])\n",
            "After reshape: shape=torch.Size([9, 1024, 1])\n",
            "After layer 0: shape=torch.Size([9, 512, 48])\n",
            "After layer 1: shape=torch.Size([9, 256, 378])\n",
            "After layer 2: shape=torch.Size([9, 1, 6034])\n",
            "Epoch 11\n"
          ]
        },
        {
          "output_type": "stream",
          "name": "stderr",
          "text": [
            " 50%|█████     | 1/2 [00:00<00:00,  7.73it/s]"
          ]
        },
        {
          "output_type": "stream",
          "name": "stdout",
          "text": [
            "Input: shape=torch.Size([49, 1, 6067])\n",
            "After layer 0: shape=torch.Size([49, 512, 380])\n",
            "After layer 1: shape=torch.Size([49, 1024, 48])\n",
            "After layer 2: shape=torch.Size([49, 2048, 1])\n",
            "Input: shape=torch.Size([49, 1024])\n",
            "After reshape: shape=torch.Size([49, 1024, 1])\n",
            "After layer 0: shape=torch.Size([49, 512, 48])\n",
            "After layer 1: shape=torch.Size([49, 256, 378])\n",
            "After layer 2: shape=torch.Size([49, 1, 6034])\n"
          ]
        },
        {
          "output_type": "stream",
          "name": "stderr",
          "text": [
            "100%|██████████| 2/2 [00:00<00:00,  3.98it/s]"
          ]
        },
        {
          "output_type": "stream",
          "name": "stdout",
          "text": [
            "Input: shape=torch.Size([40, 1, 6067])\n",
            "After layer 0: shape=torch.Size([40, 512, 380])\n",
            "After layer 1: shape=torch.Size([40, 1024, 48])\n",
            "After layer 2: shape=torch.Size([40, 2048, 1])\n",
            "Input: shape=torch.Size([40, 1024])\n",
            "After reshape: shape=torch.Size([40, 1024, 1])\n",
            "After layer 0: shape=torch.Size([40, 512, 48])\n",
            "After layer 1: shape=torch.Size([40, 256, 378])\n",
            "After layer 2: shape=torch.Size([40, 1, 6034])\n"
          ]
        },
        {
          "output_type": "stream",
          "name": "stderr",
          "text": [
            "\n"
          ]
        },
        {
          "output_type": "stream",
          "name": "stdout",
          "text": [
            "Input: shape=torch.Size([9, 1, 6067])\n",
            "After layer 0: shape=torch.Size([9, 512, 380])\n",
            "After layer 1: shape=torch.Size([9, 1024, 48])\n",
            "After layer 2: shape=torch.Size([9, 2048, 1])\n",
            "Input: shape=torch.Size([9, 1024])\n",
            "After reshape: shape=torch.Size([9, 1024, 1])\n",
            "After layer 0: shape=torch.Size([9, 512, 48])\n",
            "After layer 1: shape=torch.Size([9, 256, 378])\n",
            "After layer 2: shape=torch.Size([9, 1, 6034])\n",
            "Epoch 12\n"
          ]
        },
        {
          "output_type": "stream",
          "name": "stderr",
          "text": [
            " 50%|█████     | 1/2 [00:00<00:00,  7.64it/s]"
          ]
        },
        {
          "output_type": "stream",
          "name": "stdout",
          "text": [
            "Input: shape=torch.Size([49, 1, 6067])\n",
            "After layer 0: shape=torch.Size([49, 512, 380])\n",
            "After layer 1: shape=torch.Size([49, 1024, 48])\n",
            "After layer 2: shape=torch.Size([49, 2048, 1])\n",
            "Input: shape=torch.Size([49, 1024])\n",
            "After reshape: shape=torch.Size([49, 1024, 1])\n",
            "After layer 0: shape=torch.Size([49, 512, 48])\n",
            "After layer 1: shape=torch.Size([49, 256, 378])\n",
            "After layer 2: shape=torch.Size([49, 1, 6034])\n"
          ]
        },
        {
          "output_type": "stream",
          "name": "stderr",
          "text": [
            "100%|██████████| 2/2 [00:00<00:00,  3.94it/s]"
          ]
        },
        {
          "output_type": "stream",
          "name": "stdout",
          "text": [
            "Input: shape=torch.Size([40, 1, 6067])\n",
            "After layer 0: shape=torch.Size([40, 512, 380])\n",
            "After layer 1: shape=torch.Size([40, 1024, 48])\n",
            "After layer 2: shape=torch.Size([40, 2048, 1])\n",
            "Input: shape=torch.Size([40, 1024])\n",
            "After reshape: shape=torch.Size([40, 1024, 1])\n",
            "After layer 0: shape=torch.Size([40, 512, 48])\n",
            "After layer 1: shape=torch.Size([40, 256, 378])\n",
            "After layer 2: shape=torch.Size([40, 1, 6034])\n"
          ]
        },
        {
          "output_type": "stream",
          "name": "stderr",
          "text": [
            "\n"
          ]
        },
        {
          "output_type": "stream",
          "name": "stdout",
          "text": [
            "Input: shape=torch.Size([9, 1, 6067])\n",
            "After layer 0: shape=torch.Size([9, 512, 380])\n",
            "After layer 1: shape=torch.Size([9, 1024, 48])\n",
            "After layer 2: shape=torch.Size([9, 2048, 1])\n",
            "Input: shape=torch.Size([9, 1024])\n",
            "After reshape: shape=torch.Size([9, 1024, 1])\n",
            "After layer 0: shape=torch.Size([9, 512, 48])\n",
            "After layer 1: shape=torch.Size([9, 256, 378])\n",
            "After layer 2: shape=torch.Size([9, 1, 6034])\n",
            "Epoch 13\n"
          ]
        },
        {
          "output_type": "stream",
          "name": "stderr",
          "text": [
            " 50%|█████     | 1/2 [00:00<00:00,  7.77it/s]"
          ]
        },
        {
          "output_type": "stream",
          "name": "stdout",
          "text": [
            "Input: shape=torch.Size([49, 1, 6067])\n",
            "After layer 0: shape=torch.Size([49, 512, 380])\n",
            "After layer 1: shape=torch.Size([49, 1024, 48])\n",
            "After layer 2: shape=torch.Size([49, 2048, 1])\n",
            "Input: shape=torch.Size([49, 1024])\n",
            "After reshape: shape=torch.Size([49, 1024, 1])\n",
            "After layer 0: shape=torch.Size([49, 512, 48])\n",
            "After layer 1: shape=torch.Size([49, 256, 378])\n",
            "After layer 2: shape=torch.Size([49, 1, 6034])\n"
          ]
        },
        {
          "output_type": "stream",
          "name": "stderr",
          "text": [
            "100%|██████████| 2/2 [00:00<00:00,  4.01it/s]"
          ]
        },
        {
          "output_type": "stream",
          "name": "stdout",
          "text": [
            "Input: shape=torch.Size([40, 1, 6067])\n",
            "After layer 0: shape=torch.Size([40, 512, 380])\n",
            "After layer 1: shape=torch.Size([40, 1024, 48])\n",
            "After layer 2: shape=torch.Size([40, 2048, 1])\n",
            "Input: shape=torch.Size([40, 1024])\n",
            "After reshape: shape=torch.Size([40, 1024, 1])\n",
            "After layer 0: shape=torch.Size([40, 512, 48])\n",
            "After layer 1: shape=torch.Size([40, 256, 378])\n",
            "After layer 2: shape=torch.Size([40, 1, 6034])\n"
          ]
        },
        {
          "output_type": "stream",
          "name": "stderr",
          "text": [
            "\n"
          ]
        },
        {
          "output_type": "stream",
          "name": "stdout",
          "text": [
            "Input: shape=torch.Size([9, 1, 6067])\n",
            "After layer 0: shape=torch.Size([9, 512, 380])\n",
            "After layer 1: shape=torch.Size([9, 1024, 48])\n",
            "After layer 2: shape=torch.Size([9, 2048, 1])\n",
            "Input: shape=torch.Size([9, 1024])\n",
            "After reshape: shape=torch.Size([9, 1024, 1])\n",
            "After layer 0: shape=torch.Size([9, 512, 48])\n",
            "After layer 1: shape=torch.Size([9, 256, 378])\n",
            "After layer 2: shape=torch.Size([9, 1, 6034])\n",
            "Epoch 14\n"
          ]
        },
        {
          "output_type": "stream",
          "name": "stderr",
          "text": [
            " 50%|█████     | 1/2 [00:00<00:00,  7.77it/s]"
          ]
        },
        {
          "output_type": "stream",
          "name": "stdout",
          "text": [
            "Input: shape=torch.Size([49, 1, 6067])\n",
            "After layer 0: shape=torch.Size([49, 512, 380])\n",
            "After layer 1: shape=torch.Size([49, 1024, 48])\n",
            "After layer 2: shape=torch.Size([49, 2048, 1])\n",
            "Input: shape=torch.Size([49, 1024])\n",
            "After reshape: shape=torch.Size([49, 1024, 1])\n",
            "After layer 0: shape=torch.Size([49, 512, 48])\n",
            "After layer 1: shape=torch.Size([49, 256, 378])\n",
            "After layer 2: shape=torch.Size([49, 1, 6034])\n"
          ]
        },
        {
          "output_type": "stream",
          "name": "stderr",
          "text": [
            "100%|██████████| 2/2 [00:00<00:00,  3.98it/s]"
          ]
        },
        {
          "output_type": "stream",
          "name": "stdout",
          "text": [
            "Input: shape=torch.Size([40, 1, 6067])\n",
            "After layer 0: shape=torch.Size([40, 512, 380])\n",
            "After layer 1: shape=torch.Size([40, 1024, 48])\n",
            "After layer 2: shape=torch.Size([40, 2048, 1])\n",
            "Input: shape=torch.Size([40, 1024])\n",
            "After reshape: shape=torch.Size([40, 1024, 1])\n",
            "After layer 0: shape=torch.Size([40, 512, 48])\n",
            "After layer 1: shape=torch.Size([40, 256, 378])\n",
            "After layer 2: shape=torch.Size([40, 1, 6034])\n"
          ]
        },
        {
          "output_type": "stream",
          "name": "stderr",
          "text": [
            "\n"
          ]
        },
        {
          "output_type": "stream",
          "name": "stdout",
          "text": [
            "Input: shape=torch.Size([9, 1, 6067])\n",
            "After layer 0: shape=torch.Size([9, 512, 380])\n",
            "After layer 1: shape=torch.Size([9, 1024, 48])\n",
            "After layer 2: shape=torch.Size([9, 2048, 1])\n",
            "Input: shape=torch.Size([9, 1024])\n",
            "After reshape: shape=torch.Size([9, 1024, 1])\n",
            "After layer 0: shape=torch.Size([9, 512, 48])\n",
            "After layer 1: shape=torch.Size([9, 256, 378])\n",
            "After layer 2: shape=torch.Size([9, 1, 6034])\n",
            "Epoch 15\n"
          ]
        },
        {
          "output_type": "stream",
          "name": "stderr",
          "text": [
            " 50%|█████     | 1/2 [00:00<00:00,  7.78it/s]"
          ]
        },
        {
          "output_type": "stream",
          "name": "stdout",
          "text": [
            "Input: shape=torch.Size([49, 1, 6067])\n",
            "After layer 0: shape=torch.Size([49, 512, 380])\n",
            "After layer 1: shape=torch.Size([49, 1024, 48])\n",
            "After layer 2: shape=torch.Size([49, 2048, 1])\n",
            "Input: shape=torch.Size([49, 1024])\n",
            "After reshape: shape=torch.Size([49, 1024, 1])\n",
            "After layer 0: shape=torch.Size([49, 512, 48])\n",
            "After layer 1: shape=torch.Size([49, 256, 378])\n",
            "After layer 2: shape=torch.Size([49, 1, 6034])\n"
          ]
        },
        {
          "output_type": "stream",
          "name": "stderr",
          "text": [
            "100%|██████████| 2/2 [00:00<00:00,  4.00it/s]"
          ]
        },
        {
          "output_type": "stream",
          "name": "stdout",
          "text": [
            "Input: shape=torch.Size([40, 1, 6067])\n",
            "After layer 0: shape=torch.Size([40, 512, 380])\n",
            "After layer 1: shape=torch.Size([40, 1024, 48])\n",
            "After layer 2: shape=torch.Size([40, 2048, 1])\n",
            "Input: shape=torch.Size([40, 1024])\n",
            "After reshape: shape=torch.Size([40, 1024, 1])\n",
            "After layer 0: shape=torch.Size([40, 512, 48])\n",
            "After layer 1: shape=torch.Size([40, 256, 378])\n",
            "After layer 2: shape=torch.Size([40, 1, 6034])\n"
          ]
        },
        {
          "output_type": "stream",
          "name": "stderr",
          "text": [
            "\n"
          ]
        },
        {
          "output_type": "stream",
          "name": "stdout",
          "text": [
            "Input: shape=torch.Size([9, 1, 6067])\n",
            "After layer 0: shape=torch.Size([9, 512, 380])\n",
            "After layer 1: shape=torch.Size([9, 1024, 48])\n",
            "After layer 2: shape=torch.Size([9, 2048, 1])\n",
            "Input: shape=torch.Size([9, 1024])\n",
            "After reshape: shape=torch.Size([9, 1024, 1])\n",
            "After layer 0: shape=torch.Size([9, 512, 48])\n",
            "After layer 1: shape=torch.Size([9, 256, 378])\n",
            "After layer 2: shape=torch.Size([9, 1, 6034])\n",
            "Epoch 16\n"
          ]
        },
        {
          "output_type": "stream",
          "name": "stderr",
          "text": [
            " 50%|█████     | 1/2 [00:00<00:00,  7.79it/s]"
          ]
        },
        {
          "output_type": "stream",
          "name": "stdout",
          "text": [
            "Input: shape=torch.Size([49, 1, 6067])\n",
            "After layer 0: shape=torch.Size([49, 512, 380])\n",
            "After layer 1: shape=torch.Size([49, 1024, 48])\n",
            "After layer 2: shape=torch.Size([49, 2048, 1])\n",
            "Input: shape=torch.Size([49, 1024])\n",
            "After reshape: shape=torch.Size([49, 1024, 1])\n",
            "After layer 0: shape=torch.Size([49, 512, 48])\n",
            "After layer 1: shape=torch.Size([49, 256, 378])\n",
            "After layer 2: shape=torch.Size([49, 1, 6034])\n"
          ]
        },
        {
          "output_type": "stream",
          "name": "stderr",
          "text": [
            "100%|██████████| 2/2 [00:00<00:00,  3.99it/s]"
          ]
        },
        {
          "output_type": "stream",
          "name": "stdout",
          "text": [
            "Input: shape=torch.Size([40, 1, 6067])\n",
            "After layer 0: shape=torch.Size([40, 512, 380])\n",
            "After layer 1: shape=torch.Size([40, 1024, 48])\n",
            "After layer 2: shape=torch.Size([40, 2048, 1])\n",
            "Input: shape=torch.Size([40, 1024])\n",
            "After reshape: shape=torch.Size([40, 1024, 1])\n",
            "After layer 0: shape=torch.Size([40, 512, 48])\n",
            "After layer 1: shape=torch.Size([40, 256, 378])\n",
            "After layer 2: shape=torch.Size([40, 1, 6034])\n"
          ]
        },
        {
          "output_type": "stream",
          "name": "stderr",
          "text": [
            "\n"
          ]
        },
        {
          "output_type": "stream",
          "name": "stdout",
          "text": [
            "Input: shape=torch.Size([9, 1, 6067])\n",
            "After layer 0: shape=torch.Size([9, 512, 380])\n",
            "After layer 1: shape=torch.Size([9, 1024, 48])\n",
            "After layer 2: shape=torch.Size([9, 2048, 1])\n",
            "Input: shape=torch.Size([9, 1024])\n",
            "After reshape: shape=torch.Size([9, 1024, 1])\n",
            "After layer 0: shape=torch.Size([9, 512, 48])\n",
            "After layer 1: shape=torch.Size([9, 256, 378])\n",
            "After layer 2: shape=torch.Size([9, 1, 6034])\n",
            "Epoch 17\n"
          ]
        },
        {
          "output_type": "stream",
          "name": "stderr",
          "text": [
            " 50%|█████     | 1/2 [00:00<00:00,  7.75it/s]"
          ]
        },
        {
          "output_type": "stream",
          "name": "stdout",
          "text": [
            "Input: shape=torch.Size([49, 1, 6067])\n",
            "After layer 0: shape=torch.Size([49, 512, 380])\n",
            "After layer 1: shape=torch.Size([49, 1024, 48])\n",
            "After layer 2: shape=torch.Size([49, 2048, 1])\n",
            "Input: shape=torch.Size([49, 1024])\n",
            "After reshape: shape=torch.Size([49, 1024, 1])\n",
            "After layer 0: shape=torch.Size([49, 512, 48])\n",
            "After layer 1: shape=torch.Size([49, 256, 378])\n",
            "After layer 2: shape=torch.Size([49, 1, 6034])\n"
          ]
        },
        {
          "output_type": "stream",
          "name": "stderr",
          "text": [
            "100%|██████████| 2/2 [00:00<00:00,  3.97it/s]"
          ]
        },
        {
          "output_type": "stream",
          "name": "stdout",
          "text": [
            "Input: shape=torch.Size([40, 1, 6067])\n",
            "After layer 0: shape=torch.Size([40, 512, 380])\n",
            "After layer 1: shape=torch.Size([40, 1024, 48])\n",
            "After layer 2: shape=torch.Size([40, 2048, 1])\n",
            "Input: shape=torch.Size([40, 1024])\n",
            "After reshape: shape=torch.Size([40, 1024, 1])\n",
            "After layer 0: shape=torch.Size([40, 512, 48])\n",
            "After layer 1: shape=torch.Size([40, 256, 378])\n",
            "After layer 2: shape=torch.Size([40, 1, 6034])\n"
          ]
        },
        {
          "output_type": "stream",
          "name": "stderr",
          "text": [
            "\n"
          ]
        },
        {
          "output_type": "stream",
          "name": "stdout",
          "text": [
            "Input: shape=torch.Size([9, 1, 6067])\n",
            "After layer 0: shape=torch.Size([9, 512, 380])\n",
            "After layer 1: shape=torch.Size([9, 1024, 48])\n",
            "After layer 2: shape=torch.Size([9, 2048, 1])\n",
            "Input: shape=torch.Size([9, 1024])\n",
            "After reshape: shape=torch.Size([9, 1024, 1])\n",
            "After layer 0: shape=torch.Size([9, 512, 48])\n",
            "After layer 1: shape=torch.Size([9, 256, 378])\n",
            "After layer 2: shape=torch.Size([9, 1, 6034])\n",
            "Epoch 18\n"
          ]
        },
        {
          "output_type": "stream",
          "name": "stderr",
          "text": [
            " 50%|█████     | 1/2 [00:00<00:00,  7.63it/s]"
          ]
        },
        {
          "output_type": "stream",
          "name": "stdout",
          "text": [
            "Input: shape=torch.Size([49, 1, 6067])\n",
            "After layer 0: shape=torch.Size([49, 512, 380])\n",
            "After layer 1: shape=torch.Size([49, 1024, 48])\n",
            "After layer 2: shape=torch.Size([49, 2048, 1])\n",
            "Input: shape=torch.Size([49, 1024])\n",
            "After reshape: shape=torch.Size([49, 1024, 1])\n",
            "After layer 0: shape=torch.Size([49, 512, 48])\n",
            "After layer 1: shape=torch.Size([49, 256, 378])\n",
            "After layer 2: shape=torch.Size([49, 1, 6034])\n"
          ]
        },
        {
          "output_type": "stream",
          "name": "stderr",
          "text": [
            "100%|██████████| 2/2 [00:00<00:00,  3.95it/s]"
          ]
        },
        {
          "output_type": "stream",
          "name": "stdout",
          "text": [
            "Input: shape=torch.Size([40, 1, 6067])\n",
            "After layer 0: shape=torch.Size([40, 512, 380])\n",
            "After layer 1: shape=torch.Size([40, 1024, 48])\n",
            "After layer 2: shape=torch.Size([40, 2048, 1])\n",
            "Input: shape=torch.Size([40, 1024])\n",
            "After reshape: shape=torch.Size([40, 1024, 1])\n",
            "After layer 0: shape=torch.Size([40, 512, 48])\n",
            "After layer 1: shape=torch.Size([40, 256, 378])\n",
            "After layer 2: shape=torch.Size([40, 1, 6034])\n"
          ]
        },
        {
          "output_type": "stream",
          "name": "stderr",
          "text": [
            "\n"
          ]
        },
        {
          "output_type": "stream",
          "name": "stdout",
          "text": [
            "Input: shape=torch.Size([9, 1, 6067])\n",
            "After layer 0: shape=torch.Size([9, 512, 380])\n",
            "After layer 1: shape=torch.Size([9, 1024, 48])\n",
            "After layer 2: shape=torch.Size([9, 2048, 1])\n",
            "Input: shape=torch.Size([9, 1024])\n",
            "After reshape: shape=torch.Size([9, 1024, 1])\n",
            "After layer 0: shape=torch.Size([9, 512, 48])\n",
            "After layer 1: shape=torch.Size([9, 256, 378])\n",
            "After layer 2: shape=torch.Size([9, 1, 6034])\n",
            "Epoch 19\n"
          ]
        },
        {
          "output_type": "stream",
          "name": "stderr",
          "text": [
            " 50%|█████     | 1/2 [00:00<00:00,  7.92it/s]"
          ]
        },
        {
          "output_type": "stream",
          "name": "stdout",
          "text": [
            "Input: shape=torch.Size([49, 1, 6067])\n",
            "After layer 0: shape=torch.Size([49, 512, 380])\n",
            "After layer 1: shape=torch.Size([49, 1024, 48])\n",
            "After layer 2: shape=torch.Size([49, 2048, 1])\n",
            "Input: shape=torch.Size([49, 1024])\n",
            "After reshape: shape=torch.Size([49, 1024, 1])\n",
            "After layer 0: shape=torch.Size([49, 512, 48])\n",
            "After layer 1: shape=torch.Size([49, 256, 378])\n",
            "After layer 2: shape=torch.Size([49, 1, 6034])\n"
          ]
        },
        {
          "output_type": "stream",
          "name": "stderr",
          "text": [
            "100%|██████████| 2/2 [00:00<00:00,  3.89it/s]"
          ]
        },
        {
          "output_type": "stream",
          "name": "stdout",
          "text": [
            "Input: shape=torch.Size([40, 1, 6067])\n",
            "After layer 0: shape=torch.Size([40, 512, 380])\n",
            "After layer 1: shape=torch.Size([40, 1024, 48])\n",
            "After layer 2: shape=torch.Size([40, 2048, 1])\n",
            "Input: shape=torch.Size([40, 1024])\n",
            "After reshape: shape=torch.Size([40, 1024, 1])\n",
            "After layer 0: shape=torch.Size([40, 512, 48])\n",
            "After layer 1: shape=torch.Size([40, 256, 378])\n",
            "After layer 2: shape=torch.Size([40, 1, 6034])\n"
          ]
        },
        {
          "output_type": "stream",
          "name": "stderr",
          "text": [
            "\n"
          ]
        },
        {
          "output_type": "stream",
          "name": "stdout",
          "text": [
            "Input: shape=torch.Size([9, 1, 6067])\n",
            "After layer 0: shape=torch.Size([9, 512, 380])\n",
            "After layer 1: shape=torch.Size([9, 1024, 48])\n",
            "After layer 2: shape=torch.Size([9, 2048, 1])\n",
            "Input: shape=torch.Size([9, 1024])\n",
            "After reshape: shape=torch.Size([9, 1024, 1])\n",
            "After layer 0: shape=torch.Size([9, 512, 48])\n",
            "After layer 1: shape=torch.Size([9, 256, 378])\n",
            "After layer 2: shape=torch.Size([9, 1, 6034])\n",
            "Epoch 20\n"
          ]
        },
        {
          "output_type": "stream",
          "name": "stderr",
          "text": [
            "\r  0%|          | 0/2 [00:00<?, ?it/s]"
          ]
        },
        {
          "output_type": "stream",
          "name": "stdout",
          "text": [
            "Input: shape=torch.Size([49, 1, 6067])\n",
            "After layer 0: shape=torch.Size([49, 512, 380])\n",
            "After layer 1: shape=torch.Size([49, 1024, 48])\n",
            "After layer 2: shape=torch.Size([49, 2048, 1])\n",
            "Input: shape=torch.Size([49, 1024])\n",
            "After reshape: shape=torch.Size([49, 1024, 1])\n",
            "After layer 0: shape=torch.Size([49, 512, 48])\n",
            "After layer 1: shape=torch.Size([49, 256, 378])\n",
            "After layer 2: shape=torch.Size([49, 1, 6034])\n"
          ]
        },
        {
          "output_type": "stream",
          "name": "stderr",
          "text": [
            "100%|██████████| 2/2 [00:00<00:00,  3.76it/s]"
          ]
        },
        {
          "output_type": "stream",
          "name": "stdout",
          "text": [
            "Input: shape=torch.Size([40, 1, 6067])\n",
            "After layer 0: shape=torch.Size([40, 512, 380])\n",
            "After layer 1: shape=torch.Size([40, 1024, 48])\n",
            "After layer 2: shape=torch.Size([40, 2048, 1])\n",
            "Input: shape=torch.Size([40, 1024])\n",
            "After reshape: shape=torch.Size([40, 1024, 1])\n",
            "After layer 0: shape=torch.Size([40, 512, 48])\n",
            "After layer 1: shape=torch.Size([40, 256, 378])\n",
            "After layer 2: shape=torch.Size([40, 1, 6034])\n"
          ]
        },
        {
          "output_type": "stream",
          "name": "stderr",
          "text": [
            "\n"
          ]
        },
        {
          "output_type": "stream",
          "name": "stdout",
          "text": [
            "Input: shape=torch.Size([9, 1, 6067])\n",
            "After layer 0: shape=torch.Size([9, 512, 380])\n",
            "After layer 1: shape=torch.Size([9, 1024, 48])\n",
            "After layer 2: shape=torch.Size([9, 2048, 1])\n",
            "Input: shape=torch.Size([9, 1024])\n",
            "After reshape: shape=torch.Size([9, 1024, 1])\n",
            "After layer 0: shape=torch.Size([9, 512, 48])\n",
            "After layer 1: shape=torch.Size([9, 256, 378])\n",
            "After layer 2: shape=torch.Size([9, 1, 6034])\n",
            "Epoch 21\n"
          ]
        },
        {
          "output_type": "stream",
          "name": "stderr",
          "text": [
            "\r  0%|          | 0/2 [00:00<?, ?it/s]"
          ]
        },
        {
          "output_type": "stream",
          "name": "stdout",
          "text": [
            "Input: shape=torch.Size([49, 1, 6067])\n",
            "After layer 0: shape=torch.Size([49, 512, 380])\n",
            "After layer 1: shape=torch.Size([49, 1024, 48])\n",
            "After layer 2: shape=torch.Size([49, 2048, 1])\n",
            "Input: shape=torch.Size([49, 1024])\n",
            "After reshape: shape=torch.Size([49, 1024, 1])\n",
            "After layer 0: shape=torch.Size([49, 512, 48])\n",
            "After layer 1: shape=torch.Size([49, 256, 378])\n",
            "After layer 2: shape=torch.Size([49, 1, 6034])\n"
          ]
        },
        {
          "output_type": "stream",
          "name": "stderr",
          "text": [
            "100%|██████████| 2/2 [00:00<00:00,  3.75it/s]"
          ]
        },
        {
          "output_type": "stream",
          "name": "stdout",
          "text": [
            "Input: shape=torch.Size([40, 1, 6067])\n",
            "After layer 0: shape=torch.Size([40, 512, 380])\n",
            "After layer 1: shape=torch.Size([40, 1024, 48])\n",
            "After layer 2: shape=torch.Size([40, 2048, 1])\n",
            "Input: shape=torch.Size([40, 1024])\n",
            "After reshape: shape=torch.Size([40, 1024, 1])\n",
            "After layer 0: shape=torch.Size([40, 512, 48])\n",
            "After layer 1: shape=torch.Size([40, 256, 378])\n",
            "After layer 2: shape=torch.Size([40, 1, 6034])\n"
          ]
        },
        {
          "output_type": "stream",
          "name": "stderr",
          "text": [
            "\n"
          ]
        },
        {
          "output_type": "stream",
          "name": "stdout",
          "text": [
            "Input: shape=torch.Size([9, 1, 6067])\n",
            "After layer 0: shape=torch.Size([9, 512, 380])\n",
            "After layer 1: shape=torch.Size([9, 1024, 48])\n",
            "After layer 2: shape=torch.Size([9, 2048, 1])\n",
            "Input: shape=torch.Size([9, 1024])\n",
            "After reshape: shape=torch.Size([9, 1024, 1])\n",
            "After layer 0: shape=torch.Size([9, 512, 48])\n",
            "After layer 1: shape=torch.Size([9, 256, 378])\n",
            "After layer 2: shape=torch.Size([9, 1, 6034])\n",
            "Epoch 22\n"
          ]
        },
        {
          "output_type": "stream",
          "name": "stderr",
          "text": [
            " 50%|█████     | 1/2 [00:00<00:00,  7.87it/s]"
          ]
        },
        {
          "output_type": "stream",
          "name": "stdout",
          "text": [
            "Input: shape=torch.Size([49, 1, 6067])\n",
            "After layer 0: shape=torch.Size([49, 512, 380])\n",
            "After layer 1: shape=torch.Size([49, 1024, 48])\n",
            "After layer 2: shape=torch.Size([49, 2048, 1])\n",
            "Input: shape=torch.Size([49, 1024])\n",
            "After reshape: shape=torch.Size([49, 1024, 1])\n",
            "After layer 0: shape=torch.Size([49, 512, 48])\n",
            "After layer 1: shape=torch.Size([49, 256, 378])\n",
            "After layer 2: shape=torch.Size([49, 1, 6034])\n"
          ]
        },
        {
          "output_type": "stream",
          "name": "stderr",
          "text": [
            "100%|██████████| 2/2 [00:00<00:00,  3.96it/s]"
          ]
        },
        {
          "output_type": "stream",
          "name": "stdout",
          "text": [
            "Input: shape=torch.Size([40, 1, 6067])\n",
            "After layer 0: shape=torch.Size([40, 512, 380])\n",
            "After layer 1: shape=torch.Size([40, 1024, 48])\n",
            "After layer 2: shape=torch.Size([40, 2048, 1])\n",
            "Input: shape=torch.Size([40, 1024])\n",
            "After reshape: shape=torch.Size([40, 1024, 1])\n",
            "After layer 0: shape=torch.Size([40, 512, 48])\n",
            "After layer 1: shape=torch.Size([40, 256, 378])\n",
            "After layer 2: shape=torch.Size([40, 1, 6034])\n"
          ]
        },
        {
          "output_type": "stream",
          "name": "stderr",
          "text": [
            "\n"
          ]
        },
        {
          "output_type": "stream",
          "name": "stdout",
          "text": [
            "Input: shape=torch.Size([9, 1, 6067])\n",
            "After layer 0: shape=torch.Size([9, 512, 380])\n",
            "After layer 1: shape=torch.Size([9, 1024, 48])\n",
            "After layer 2: shape=torch.Size([9, 2048, 1])\n",
            "Input: shape=torch.Size([9, 1024])\n",
            "After reshape: shape=torch.Size([9, 1024, 1])\n",
            "After layer 0: shape=torch.Size([9, 512, 48])\n",
            "After layer 1: shape=torch.Size([9, 256, 378])\n",
            "After layer 2: shape=torch.Size([9, 1, 6034])\n",
            "Epoch 23\n"
          ]
        },
        {
          "output_type": "stream",
          "name": "stderr",
          "text": [
            " 50%|█████     | 1/2 [00:00<00:00,  7.88it/s]"
          ]
        },
        {
          "output_type": "stream",
          "name": "stdout",
          "text": [
            "Input: shape=torch.Size([49, 1, 6067])\n",
            "After layer 0: shape=torch.Size([49, 512, 380])\n",
            "After layer 1: shape=torch.Size([49, 1024, 48])\n",
            "After layer 2: shape=torch.Size([49, 2048, 1])\n",
            "Input: shape=torch.Size([49, 1024])\n",
            "After reshape: shape=torch.Size([49, 1024, 1])\n",
            "After layer 0: shape=torch.Size([49, 512, 48])\n",
            "After layer 1: shape=torch.Size([49, 256, 378])\n",
            "After layer 2: shape=torch.Size([49, 1, 6034])\n"
          ]
        },
        {
          "output_type": "stream",
          "name": "stderr",
          "text": [
            "100%|██████████| 2/2 [00:00<00:00,  3.98it/s]"
          ]
        },
        {
          "output_type": "stream",
          "name": "stdout",
          "text": [
            "Input: shape=torch.Size([40, 1, 6067])\n",
            "After layer 0: shape=torch.Size([40, 512, 380])\n",
            "After layer 1: shape=torch.Size([40, 1024, 48])\n",
            "After layer 2: shape=torch.Size([40, 2048, 1])\n",
            "Input: shape=torch.Size([40, 1024])\n",
            "After reshape: shape=torch.Size([40, 1024, 1])\n",
            "After layer 0: shape=torch.Size([40, 512, 48])\n",
            "After layer 1: shape=torch.Size([40, 256, 378])\n",
            "After layer 2: shape=torch.Size([40, 1, 6034])\n"
          ]
        },
        {
          "output_type": "stream",
          "name": "stderr",
          "text": [
            "\n"
          ]
        },
        {
          "output_type": "stream",
          "name": "stdout",
          "text": [
            "Input: shape=torch.Size([9, 1, 6067])\n",
            "After layer 0: shape=torch.Size([9, 512, 380])\n",
            "After layer 1: shape=torch.Size([9, 1024, 48])\n",
            "After layer 2: shape=torch.Size([9, 2048, 1])\n",
            "Input: shape=torch.Size([9, 1024])\n",
            "After reshape: shape=torch.Size([9, 1024, 1])\n",
            "After layer 0: shape=torch.Size([9, 512, 48])\n",
            "After layer 1: shape=torch.Size([9, 256, 378])\n",
            "After layer 2: shape=torch.Size([9, 1, 6034])\n",
            "Epoch 24\n"
          ]
        },
        {
          "output_type": "stream",
          "name": "stderr",
          "text": [
            " 50%|█████     | 1/2 [00:00<00:00,  7.92it/s]"
          ]
        },
        {
          "output_type": "stream",
          "name": "stdout",
          "text": [
            "Input: shape=torch.Size([49, 1, 6067])\n",
            "After layer 0: shape=torch.Size([49, 512, 380])\n",
            "After layer 1: shape=torch.Size([49, 1024, 48])\n",
            "After layer 2: shape=torch.Size([49, 2048, 1])\n",
            "Input: shape=torch.Size([49, 1024])\n",
            "After reshape: shape=torch.Size([49, 1024, 1])\n",
            "After layer 0: shape=torch.Size([49, 512, 48])\n",
            "After layer 1: shape=torch.Size([49, 256, 378])\n",
            "After layer 2: shape=torch.Size([49, 1, 6034])\n"
          ]
        },
        {
          "output_type": "stream",
          "name": "stderr",
          "text": [
            "100%|██████████| 2/2 [00:00<00:00,  4.00it/s]"
          ]
        },
        {
          "output_type": "stream",
          "name": "stdout",
          "text": [
            "Input: shape=torch.Size([40, 1, 6067])\n",
            "After layer 0: shape=torch.Size([40, 512, 380])\n",
            "After layer 1: shape=torch.Size([40, 1024, 48])\n",
            "After layer 2: shape=torch.Size([40, 2048, 1])\n",
            "Input: shape=torch.Size([40, 1024])\n",
            "After reshape: shape=torch.Size([40, 1024, 1])\n",
            "After layer 0: shape=torch.Size([40, 512, 48])\n",
            "After layer 1: shape=torch.Size([40, 256, 378])\n",
            "After layer 2: shape=torch.Size([40, 1, 6034])\n"
          ]
        },
        {
          "output_type": "stream",
          "name": "stderr",
          "text": [
            "\n"
          ]
        },
        {
          "output_type": "stream",
          "name": "stdout",
          "text": [
            "Input: shape=torch.Size([9, 1, 6067])\n",
            "After layer 0: shape=torch.Size([9, 512, 380])\n",
            "After layer 1: shape=torch.Size([9, 1024, 48])\n",
            "After layer 2: shape=torch.Size([9, 2048, 1])\n",
            "Input: shape=torch.Size([9, 1024])\n",
            "After reshape: shape=torch.Size([9, 1024, 1])\n",
            "After layer 0: shape=torch.Size([9, 512, 48])\n",
            "After layer 1: shape=torch.Size([9, 256, 378])\n",
            "After layer 2: shape=torch.Size([9, 1, 6034])\n",
            "Epoch 25\n"
          ]
        },
        {
          "output_type": "stream",
          "name": "stderr",
          "text": [
            " 50%|█████     | 1/2 [00:00<00:00,  7.86it/s]"
          ]
        },
        {
          "output_type": "stream",
          "name": "stdout",
          "text": [
            "Input: shape=torch.Size([49, 1, 6067])\n",
            "After layer 0: shape=torch.Size([49, 512, 380])\n",
            "After layer 1: shape=torch.Size([49, 1024, 48])\n",
            "After layer 2: shape=torch.Size([49, 2048, 1])\n",
            "Input: shape=torch.Size([49, 1024])\n",
            "After reshape: shape=torch.Size([49, 1024, 1])\n",
            "After layer 0: shape=torch.Size([49, 512, 48])\n",
            "After layer 1: shape=torch.Size([49, 256, 378])\n",
            "After layer 2: shape=torch.Size([49, 1, 6034])\n"
          ]
        },
        {
          "output_type": "stream",
          "name": "stderr",
          "text": [
            "100%|██████████| 2/2 [00:00<00:00,  3.96it/s]"
          ]
        },
        {
          "output_type": "stream",
          "name": "stdout",
          "text": [
            "Input: shape=torch.Size([40, 1, 6067])\n",
            "After layer 0: shape=torch.Size([40, 512, 380])\n",
            "After layer 1: shape=torch.Size([40, 1024, 48])\n",
            "After layer 2: shape=torch.Size([40, 2048, 1])\n",
            "Input: shape=torch.Size([40, 1024])\n",
            "After reshape: shape=torch.Size([40, 1024, 1])\n",
            "After layer 0: shape=torch.Size([40, 512, 48])\n",
            "After layer 1: shape=torch.Size([40, 256, 378])\n",
            "After layer 2: shape=torch.Size([40, 1, 6034])\n"
          ]
        },
        {
          "output_type": "stream",
          "name": "stderr",
          "text": [
            "\n"
          ]
        },
        {
          "output_type": "stream",
          "name": "stdout",
          "text": [
            "Input: shape=torch.Size([9, 1, 6067])\n",
            "After layer 0: shape=torch.Size([9, 512, 380])\n",
            "After layer 1: shape=torch.Size([9, 1024, 48])\n",
            "After layer 2: shape=torch.Size([9, 2048, 1])\n",
            "Input: shape=torch.Size([9, 1024])\n",
            "After reshape: shape=torch.Size([9, 1024, 1])\n",
            "After layer 0: shape=torch.Size([9, 512, 48])\n",
            "After layer 1: shape=torch.Size([9, 256, 378])\n",
            "After layer 2: shape=torch.Size([9, 1, 6034])\n",
            "Epoch 26\n"
          ]
        },
        {
          "output_type": "stream",
          "name": "stderr",
          "text": [
            " 50%|█████     | 1/2 [00:00<00:00,  7.79it/s]"
          ]
        },
        {
          "output_type": "stream",
          "name": "stdout",
          "text": [
            "Input: shape=torch.Size([49, 1, 6067])\n",
            "After layer 0: shape=torch.Size([49, 512, 380])\n",
            "After layer 1: shape=torch.Size([49, 1024, 48])\n",
            "After layer 2: shape=torch.Size([49, 2048, 1])\n",
            "Input: shape=torch.Size([49, 1024])\n",
            "After reshape: shape=torch.Size([49, 1024, 1])\n",
            "After layer 0: shape=torch.Size([49, 512, 48])\n",
            "After layer 1: shape=torch.Size([49, 256, 378])\n",
            "After layer 2: shape=torch.Size([49, 1, 6034])\n"
          ]
        },
        {
          "output_type": "stream",
          "name": "stderr",
          "text": [
            "100%|██████████| 2/2 [00:00<00:00,  4.01it/s]"
          ]
        },
        {
          "output_type": "stream",
          "name": "stdout",
          "text": [
            "Input: shape=torch.Size([40, 1, 6067])\n",
            "After layer 0: shape=torch.Size([40, 512, 380])\n",
            "After layer 1: shape=torch.Size([40, 1024, 48])\n",
            "After layer 2: shape=torch.Size([40, 2048, 1])\n",
            "Input: shape=torch.Size([40, 1024])\n",
            "After reshape: shape=torch.Size([40, 1024, 1])\n",
            "After layer 0: shape=torch.Size([40, 512, 48])\n",
            "After layer 1: shape=torch.Size([40, 256, 378])\n",
            "After layer 2: shape=torch.Size([40, 1, 6034])\n"
          ]
        },
        {
          "output_type": "stream",
          "name": "stderr",
          "text": [
            "\n"
          ]
        },
        {
          "output_type": "stream",
          "name": "stdout",
          "text": [
            "Input: shape=torch.Size([9, 1, 6067])\n",
            "After layer 0: shape=torch.Size([9, 512, 380])\n",
            "After layer 1: shape=torch.Size([9, 1024, 48])\n",
            "After layer 2: shape=torch.Size([9, 2048, 1])\n",
            "Input: shape=torch.Size([9, 1024])\n",
            "After reshape: shape=torch.Size([9, 1024, 1])\n",
            "After layer 0: shape=torch.Size([9, 512, 48])\n",
            "After layer 1: shape=torch.Size([9, 256, 378])\n",
            "After layer 2: shape=torch.Size([9, 1, 6034])\n",
            "Epoch 27\n"
          ]
        },
        {
          "output_type": "stream",
          "name": "stderr",
          "text": [
            " 50%|█████     | 1/2 [00:00<00:00,  7.88it/s]"
          ]
        },
        {
          "output_type": "stream",
          "name": "stdout",
          "text": [
            "Input: shape=torch.Size([49, 1, 6067])\n",
            "After layer 0: shape=torch.Size([49, 512, 380])\n",
            "After layer 1: shape=torch.Size([49, 1024, 48])\n",
            "After layer 2: shape=torch.Size([49, 2048, 1])\n",
            "Input: shape=torch.Size([49, 1024])\n",
            "After reshape: shape=torch.Size([49, 1024, 1])\n",
            "After layer 0: shape=torch.Size([49, 512, 48])\n",
            "After layer 1: shape=torch.Size([49, 256, 378])\n",
            "After layer 2: shape=torch.Size([49, 1, 6034])\n"
          ]
        },
        {
          "output_type": "stream",
          "name": "stderr",
          "text": [
            "100%|██████████| 2/2 [00:00<00:00,  3.99it/s]"
          ]
        },
        {
          "output_type": "stream",
          "name": "stdout",
          "text": [
            "Input: shape=torch.Size([40, 1, 6067])\n",
            "After layer 0: shape=torch.Size([40, 512, 380])\n",
            "After layer 1: shape=torch.Size([40, 1024, 48])\n",
            "After layer 2: shape=torch.Size([40, 2048, 1])\n",
            "Input: shape=torch.Size([40, 1024])\n",
            "After reshape: shape=torch.Size([40, 1024, 1])\n",
            "After layer 0: shape=torch.Size([40, 512, 48])\n",
            "After layer 1: shape=torch.Size([40, 256, 378])\n",
            "After layer 2: shape=torch.Size([40, 1, 6034])\n"
          ]
        },
        {
          "output_type": "stream",
          "name": "stderr",
          "text": [
            "\n"
          ]
        },
        {
          "output_type": "stream",
          "name": "stdout",
          "text": [
            "Input: shape=torch.Size([9, 1, 6067])\n",
            "After layer 0: shape=torch.Size([9, 512, 380])\n",
            "After layer 1: shape=torch.Size([9, 1024, 48])\n",
            "After layer 2: shape=torch.Size([9, 2048, 1])\n",
            "Input: shape=torch.Size([9, 1024])\n",
            "After reshape: shape=torch.Size([9, 1024, 1])\n",
            "After layer 0: shape=torch.Size([9, 512, 48])\n",
            "After layer 1: shape=torch.Size([9, 256, 378])\n",
            "After layer 2: shape=torch.Size([9, 1, 6034])\n",
            "Epoch 28\n"
          ]
        },
        {
          "output_type": "stream",
          "name": "stderr",
          "text": [
            " 50%|█████     | 1/2 [00:00<00:00,  7.86it/s]"
          ]
        },
        {
          "output_type": "stream",
          "name": "stdout",
          "text": [
            "Input: shape=torch.Size([49, 1, 6067])\n",
            "After layer 0: shape=torch.Size([49, 512, 380])\n",
            "After layer 1: shape=torch.Size([49, 1024, 48])\n",
            "After layer 2: shape=torch.Size([49, 2048, 1])\n",
            "Input: shape=torch.Size([49, 1024])\n",
            "After reshape: shape=torch.Size([49, 1024, 1])\n",
            "After layer 0: shape=torch.Size([49, 512, 48])\n",
            "After layer 1: shape=torch.Size([49, 256, 378])\n",
            "After layer 2: shape=torch.Size([49, 1, 6034])\n"
          ]
        },
        {
          "output_type": "stream",
          "name": "stderr",
          "text": [
            "100%|██████████| 2/2 [00:00<00:00,  4.03it/s]"
          ]
        },
        {
          "output_type": "stream",
          "name": "stdout",
          "text": [
            "Input: shape=torch.Size([40, 1, 6067])\n",
            "After layer 0: shape=torch.Size([40, 512, 380])\n",
            "After layer 1: shape=torch.Size([40, 1024, 48])\n",
            "After layer 2: shape=torch.Size([40, 2048, 1])\n",
            "Input: shape=torch.Size([40, 1024])\n",
            "After reshape: shape=torch.Size([40, 1024, 1])\n",
            "After layer 0: shape=torch.Size([40, 512, 48])\n",
            "After layer 1: shape=torch.Size([40, 256, 378])\n",
            "After layer 2: shape=torch.Size([40, 1, 6034])\n"
          ]
        },
        {
          "output_type": "stream",
          "name": "stderr",
          "text": [
            "\n"
          ]
        },
        {
          "output_type": "stream",
          "name": "stdout",
          "text": [
            "Input: shape=torch.Size([9, 1, 6067])\n",
            "After layer 0: shape=torch.Size([9, 512, 380])\n",
            "After layer 1: shape=torch.Size([9, 1024, 48])\n",
            "After layer 2: shape=torch.Size([9, 2048, 1])\n",
            "Input: shape=torch.Size([9, 1024])\n",
            "After reshape: shape=torch.Size([9, 1024, 1])\n",
            "After layer 0: shape=torch.Size([9, 512, 48])\n",
            "After layer 1: shape=torch.Size([9, 256, 378])\n",
            "After layer 2: shape=torch.Size([9, 1, 6034])\n",
            "Epoch 29\n"
          ]
        },
        {
          "output_type": "stream",
          "name": "stderr",
          "text": [
            " 50%|█████     | 1/2 [00:00<00:00,  8.01it/s]"
          ]
        },
        {
          "output_type": "stream",
          "name": "stdout",
          "text": [
            "Input: shape=torch.Size([49, 1, 6067])\n",
            "After layer 0: shape=torch.Size([49, 512, 380])\n",
            "After layer 1: shape=torch.Size([49, 1024, 48])\n",
            "After layer 2: shape=torch.Size([49, 2048, 1])\n",
            "Input: shape=torch.Size([49, 1024])\n",
            "After reshape: shape=torch.Size([49, 1024, 1])\n",
            "After layer 0: shape=torch.Size([49, 512, 48])\n",
            "After layer 1: shape=torch.Size([49, 256, 378])\n",
            "After layer 2: shape=torch.Size([49, 1, 6034])\n"
          ]
        },
        {
          "output_type": "stream",
          "name": "stderr",
          "text": [
            "100%|██████████| 2/2 [00:00<00:00,  4.03it/s]"
          ]
        },
        {
          "output_type": "stream",
          "name": "stdout",
          "text": [
            "Input: shape=torch.Size([40, 1, 6067])\n",
            "After layer 0: shape=torch.Size([40, 512, 380])\n",
            "After layer 1: shape=torch.Size([40, 1024, 48])\n",
            "After layer 2: shape=torch.Size([40, 2048, 1])\n",
            "Input: shape=torch.Size([40, 1024])\n",
            "After reshape: shape=torch.Size([40, 1024, 1])\n",
            "After layer 0: shape=torch.Size([40, 512, 48])\n",
            "After layer 1: shape=torch.Size([40, 256, 378])\n",
            "After layer 2: shape=torch.Size([40, 1, 6034])\n"
          ]
        },
        {
          "output_type": "stream",
          "name": "stderr",
          "text": [
            "\n"
          ]
        },
        {
          "output_type": "stream",
          "name": "stdout",
          "text": [
            "Input: shape=torch.Size([9, 1, 6067])\n",
            "After layer 0: shape=torch.Size([9, 512, 380])\n",
            "After layer 1: shape=torch.Size([9, 1024, 48])\n",
            "After layer 2: shape=torch.Size([9, 2048, 1])\n",
            "Input: shape=torch.Size([9, 1024])\n",
            "After reshape: shape=torch.Size([9, 1024, 1])\n",
            "After layer 0: shape=torch.Size([9, 512, 48])\n",
            "After layer 1: shape=torch.Size([9, 256, 378])\n",
            "After layer 2: shape=torch.Size([9, 1, 6034])\n",
            "Epoch 30\n"
          ]
        },
        {
          "output_type": "stream",
          "name": "stderr",
          "text": [
            " 50%|█████     | 1/2 [00:00<00:00,  8.03it/s]"
          ]
        },
        {
          "output_type": "stream",
          "name": "stdout",
          "text": [
            "Input: shape=torch.Size([49, 1, 6067])\n",
            "After layer 0: shape=torch.Size([49, 512, 380])\n",
            "After layer 1: shape=torch.Size([49, 1024, 48])\n",
            "After layer 2: shape=torch.Size([49, 2048, 1])\n",
            "Input: shape=torch.Size([49, 1024])\n",
            "After reshape: shape=torch.Size([49, 1024, 1])\n",
            "After layer 0: shape=torch.Size([49, 512, 48])\n",
            "After layer 1: shape=torch.Size([49, 256, 378])\n",
            "After layer 2: shape=torch.Size([49, 1, 6034])\n"
          ]
        },
        {
          "output_type": "stream",
          "name": "stderr",
          "text": [
            "100%|██████████| 2/2 [00:00<00:00,  4.04it/s]"
          ]
        },
        {
          "output_type": "stream",
          "name": "stdout",
          "text": [
            "Input: shape=torch.Size([40, 1, 6067])\n",
            "After layer 0: shape=torch.Size([40, 512, 380])\n",
            "After layer 1: shape=torch.Size([40, 1024, 48])\n",
            "After layer 2: shape=torch.Size([40, 2048, 1])\n",
            "Input: shape=torch.Size([40, 1024])\n",
            "After reshape: shape=torch.Size([40, 1024, 1])\n",
            "After layer 0: shape=torch.Size([40, 512, 48])\n",
            "After layer 1: shape=torch.Size([40, 256, 378])\n",
            "After layer 2: shape=torch.Size([40, 1, 6034])\n"
          ]
        },
        {
          "output_type": "stream",
          "name": "stderr",
          "text": [
            "\n"
          ]
        },
        {
          "output_type": "stream",
          "name": "stdout",
          "text": [
            "Input: shape=torch.Size([9, 1, 6067])\n",
            "After layer 0: shape=torch.Size([9, 512, 380])\n",
            "After layer 1: shape=torch.Size([9, 1024, 48])\n",
            "After layer 2: shape=torch.Size([9, 2048, 1])\n",
            "Input: shape=torch.Size([9, 1024])\n",
            "After reshape: shape=torch.Size([9, 1024, 1])\n",
            "After layer 0: shape=torch.Size([9, 512, 48])\n",
            "After layer 1: shape=torch.Size([9, 256, 378])\n",
            "After layer 2: shape=torch.Size([9, 1, 6034])\n",
            "Epoch 31\n"
          ]
        },
        {
          "output_type": "stream",
          "name": "stderr",
          "text": [
            " 50%|█████     | 1/2 [00:00<00:00,  8.00it/s]"
          ]
        },
        {
          "output_type": "stream",
          "name": "stdout",
          "text": [
            "Input: shape=torch.Size([49, 1, 6067])\n",
            "After layer 0: shape=torch.Size([49, 512, 380])\n",
            "After layer 1: shape=torch.Size([49, 1024, 48])\n",
            "After layer 2: shape=torch.Size([49, 2048, 1])\n",
            "Input: shape=torch.Size([49, 1024])\n",
            "After reshape: shape=torch.Size([49, 1024, 1])\n",
            "After layer 0: shape=torch.Size([49, 512, 48])\n",
            "After layer 1: shape=torch.Size([49, 256, 378])\n",
            "After layer 2: shape=torch.Size([49, 1, 6034])\n"
          ]
        },
        {
          "output_type": "stream",
          "name": "stderr",
          "text": [
            "100%|██████████| 2/2 [00:00<00:00,  4.03it/s]"
          ]
        },
        {
          "output_type": "stream",
          "name": "stdout",
          "text": [
            "Input: shape=torch.Size([40, 1, 6067])\n",
            "After layer 0: shape=torch.Size([40, 512, 380])\n",
            "After layer 1: shape=torch.Size([40, 1024, 48])\n",
            "After layer 2: shape=torch.Size([40, 2048, 1])\n",
            "Input: shape=torch.Size([40, 1024])\n",
            "After reshape: shape=torch.Size([40, 1024, 1])\n",
            "After layer 0: shape=torch.Size([40, 512, 48])\n",
            "After layer 1: shape=torch.Size([40, 256, 378])\n",
            "After layer 2: shape=torch.Size([40, 1, 6034])\n"
          ]
        },
        {
          "output_type": "stream",
          "name": "stderr",
          "text": [
            "\n"
          ]
        },
        {
          "output_type": "stream",
          "name": "stdout",
          "text": [
            "Input: shape=torch.Size([9, 1, 6067])\n",
            "After layer 0: shape=torch.Size([9, 512, 380])\n",
            "After layer 1: shape=torch.Size([9, 1024, 48])\n",
            "After layer 2: shape=torch.Size([9, 2048, 1])\n",
            "Input: shape=torch.Size([9, 1024])\n",
            "After reshape: shape=torch.Size([9, 1024, 1])\n",
            "After layer 0: shape=torch.Size([9, 512, 48])\n",
            "After layer 1: shape=torch.Size([9, 256, 378])\n",
            "After layer 2: shape=torch.Size([9, 1, 6034])\n",
            "Epoch 32\n"
          ]
        },
        {
          "output_type": "stream",
          "name": "stderr",
          "text": [
            " 50%|█████     | 1/2 [00:00<00:00,  8.02it/s]"
          ]
        },
        {
          "output_type": "stream",
          "name": "stdout",
          "text": [
            "Input: shape=torch.Size([49, 1, 6067])\n",
            "After layer 0: shape=torch.Size([49, 512, 380])\n",
            "After layer 1: shape=torch.Size([49, 1024, 48])\n",
            "After layer 2: shape=torch.Size([49, 2048, 1])\n",
            "Input: shape=torch.Size([49, 1024])\n",
            "After reshape: shape=torch.Size([49, 1024, 1])\n",
            "After layer 0: shape=torch.Size([49, 512, 48])\n",
            "After layer 1: shape=torch.Size([49, 256, 378])\n",
            "After layer 2: shape=torch.Size([49, 1, 6034])\n"
          ]
        },
        {
          "output_type": "stream",
          "name": "stderr",
          "text": [
            "100%|██████████| 2/2 [00:00<00:00,  4.07it/s]"
          ]
        },
        {
          "output_type": "stream",
          "name": "stdout",
          "text": [
            "Input: shape=torch.Size([40, 1, 6067])\n",
            "After layer 0: shape=torch.Size([40, 512, 380])\n",
            "After layer 1: shape=torch.Size([40, 1024, 48])\n",
            "After layer 2: shape=torch.Size([40, 2048, 1])\n",
            "Input: shape=torch.Size([40, 1024])\n",
            "After reshape: shape=torch.Size([40, 1024, 1])\n",
            "After layer 0: shape=torch.Size([40, 512, 48])\n",
            "After layer 1: shape=torch.Size([40, 256, 378])\n",
            "After layer 2: shape=torch.Size([40, 1, 6034])\n"
          ]
        },
        {
          "output_type": "stream",
          "name": "stderr",
          "text": [
            "\n"
          ]
        },
        {
          "output_type": "stream",
          "name": "stdout",
          "text": [
            "Input: shape=torch.Size([9, 1, 6067])\n",
            "After layer 0: shape=torch.Size([9, 512, 380])\n",
            "After layer 1: shape=torch.Size([9, 1024, 48])\n",
            "After layer 2: shape=torch.Size([9, 2048, 1])\n",
            "Input: shape=torch.Size([9, 1024])\n",
            "After reshape: shape=torch.Size([9, 1024, 1])\n",
            "After layer 0: shape=torch.Size([9, 512, 48])\n",
            "After layer 1: shape=torch.Size([9, 256, 378])\n",
            "After layer 2: shape=torch.Size([9, 1, 6034])\n",
            "Epoch 33\n"
          ]
        },
        {
          "output_type": "stream",
          "name": "stderr",
          "text": [
            " 50%|█████     | 1/2 [00:00<00:00,  7.92it/s]"
          ]
        },
        {
          "output_type": "stream",
          "name": "stdout",
          "text": [
            "Input: shape=torch.Size([49, 1, 6067])\n",
            "After layer 0: shape=torch.Size([49, 512, 380])\n",
            "After layer 1: shape=torch.Size([49, 1024, 48])\n",
            "After layer 2: shape=torch.Size([49, 2048, 1])\n",
            "Input: shape=torch.Size([49, 1024])\n",
            "After reshape: shape=torch.Size([49, 1024, 1])\n",
            "After layer 0: shape=torch.Size([49, 512, 48])\n",
            "After layer 1: shape=torch.Size([49, 256, 378])\n",
            "After layer 2: shape=torch.Size([49, 1, 6034])\n"
          ]
        },
        {
          "output_type": "stream",
          "name": "stderr",
          "text": [
            "100%|██████████| 2/2 [00:00<00:00,  4.05it/s]"
          ]
        },
        {
          "output_type": "stream",
          "name": "stdout",
          "text": [
            "Input: shape=torch.Size([40, 1, 6067])\n",
            "After layer 0: shape=torch.Size([40, 512, 380])\n",
            "After layer 1: shape=torch.Size([40, 1024, 48])\n",
            "After layer 2: shape=torch.Size([40, 2048, 1])\n",
            "Input: shape=torch.Size([40, 1024])\n",
            "After reshape: shape=torch.Size([40, 1024, 1])\n",
            "After layer 0: shape=torch.Size([40, 512, 48])\n",
            "After layer 1: shape=torch.Size([40, 256, 378])\n",
            "After layer 2: shape=torch.Size([40, 1, 6034])\n"
          ]
        },
        {
          "output_type": "stream",
          "name": "stderr",
          "text": [
            "\n"
          ]
        },
        {
          "output_type": "stream",
          "name": "stdout",
          "text": [
            "Input: shape=torch.Size([9, 1, 6067])\n",
            "After layer 0: shape=torch.Size([9, 512, 380])\n",
            "After layer 1: shape=torch.Size([9, 1024, 48])\n",
            "After layer 2: shape=torch.Size([9, 2048, 1])\n",
            "Input: shape=torch.Size([9, 1024])\n",
            "After reshape: shape=torch.Size([9, 1024, 1])\n",
            "After layer 0: shape=torch.Size([9, 512, 48])\n",
            "After layer 1: shape=torch.Size([9, 256, 378])\n",
            "After layer 2: shape=torch.Size([9, 1, 6034])\n",
            "Epoch 34\n"
          ]
        },
        {
          "output_type": "stream",
          "name": "stderr",
          "text": [
            " 50%|█████     | 1/2 [00:00<00:00,  8.00it/s]"
          ]
        },
        {
          "output_type": "stream",
          "name": "stdout",
          "text": [
            "Input: shape=torch.Size([49, 1, 6067])\n",
            "After layer 0: shape=torch.Size([49, 512, 380])\n",
            "After layer 1: shape=torch.Size([49, 1024, 48])\n",
            "After layer 2: shape=torch.Size([49, 2048, 1])\n",
            "Input: shape=torch.Size([49, 1024])\n",
            "After reshape: shape=torch.Size([49, 1024, 1])\n",
            "After layer 0: shape=torch.Size([49, 512, 48])\n",
            "After layer 1: shape=torch.Size([49, 256, 378])\n",
            "After layer 2: shape=torch.Size([49, 1, 6034])\n"
          ]
        },
        {
          "output_type": "stream",
          "name": "stderr",
          "text": [
            "100%|██████████| 2/2 [00:00<00:00,  4.06it/s]"
          ]
        },
        {
          "output_type": "stream",
          "name": "stdout",
          "text": [
            "Input: shape=torch.Size([40, 1, 6067])\n",
            "After layer 0: shape=torch.Size([40, 512, 380])\n",
            "After layer 1: shape=torch.Size([40, 1024, 48])\n",
            "After layer 2: shape=torch.Size([40, 2048, 1])\n",
            "Input: shape=torch.Size([40, 1024])\n",
            "After reshape: shape=torch.Size([40, 1024, 1])\n",
            "After layer 0: shape=torch.Size([40, 512, 48])\n",
            "After layer 1: shape=torch.Size([40, 256, 378])\n",
            "After layer 2: shape=torch.Size([40, 1, 6034])\n"
          ]
        },
        {
          "output_type": "stream",
          "name": "stderr",
          "text": [
            "\n"
          ]
        },
        {
          "output_type": "stream",
          "name": "stdout",
          "text": [
            "Input: shape=torch.Size([9, 1, 6067])\n",
            "After layer 0: shape=torch.Size([9, 512, 380])\n",
            "After layer 1: shape=torch.Size([9, 1024, 48])\n",
            "After layer 2: shape=torch.Size([9, 2048, 1])\n",
            "Input: shape=torch.Size([9, 1024])\n",
            "After reshape: shape=torch.Size([9, 1024, 1])\n",
            "After layer 0: shape=torch.Size([9, 512, 48])\n",
            "After layer 1: shape=torch.Size([9, 256, 378])\n",
            "After layer 2: shape=torch.Size([9, 1, 6034])\n",
            "Epoch 35\n"
          ]
        },
        {
          "output_type": "stream",
          "name": "stderr",
          "text": [
            " 50%|█████     | 1/2 [00:00<00:00,  8.13it/s]"
          ]
        },
        {
          "output_type": "stream",
          "name": "stdout",
          "text": [
            "Input: shape=torch.Size([49, 1, 6067])\n",
            "After layer 0: shape=torch.Size([49, 512, 380])\n",
            "After layer 1: shape=torch.Size([49, 1024, 48])\n",
            "After layer 2: shape=torch.Size([49, 2048, 1])\n",
            "Input: shape=torch.Size([49, 1024])\n",
            "After reshape: shape=torch.Size([49, 1024, 1])\n",
            "After layer 0: shape=torch.Size([49, 512, 48])\n",
            "After layer 1: shape=torch.Size([49, 256, 378])\n",
            "After layer 2: shape=torch.Size([49, 1, 6034])\n"
          ]
        },
        {
          "output_type": "stream",
          "name": "stderr",
          "text": [
            "100%|██████████| 2/2 [00:00<00:00,  4.09it/s]"
          ]
        },
        {
          "output_type": "stream",
          "name": "stdout",
          "text": [
            "Input: shape=torch.Size([40, 1, 6067])\n",
            "After layer 0: shape=torch.Size([40, 512, 380])\n",
            "After layer 1: shape=torch.Size([40, 1024, 48])\n",
            "After layer 2: shape=torch.Size([40, 2048, 1])\n",
            "Input: shape=torch.Size([40, 1024])\n",
            "After reshape: shape=torch.Size([40, 1024, 1])\n",
            "After layer 0: shape=torch.Size([40, 512, 48])\n",
            "After layer 1: shape=torch.Size([40, 256, 378])\n",
            "After layer 2: shape=torch.Size([40, 1, 6034])\n"
          ]
        },
        {
          "output_type": "stream",
          "name": "stderr",
          "text": [
            "\n"
          ]
        },
        {
          "output_type": "stream",
          "name": "stdout",
          "text": [
            "Input: shape=torch.Size([9, 1, 6067])\n",
            "After layer 0: shape=torch.Size([9, 512, 380])\n",
            "After layer 1: shape=torch.Size([9, 1024, 48])\n",
            "After layer 2: shape=torch.Size([9, 2048, 1])\n",
            "Input: shape=torch.Size([9, 1024])\n",
            "After reshape: shape=torch.Size([9, 1024, 1])\n",
            "After layer 0: shape=torch.Size([9, 512, 48])\n",
            "After layer 1: shape=torch.Size([9, 256, 378])\n",
            "After layer 2: shape=torch.Size([9, 1, 6034])\n",
            "Epoch 36\n"
          ]
        },
        {
          "output_type": "stream",
          "name": "stderr",
          "text": [
            " 50%|█████     | 1/2 [00:00<00:00,  7.88it/s]"
          ]
        },
        {
          "output_type": "stream",
          "name": "stdout",
          "text": [
            "Input: shape=torch.Size([49, 1, 6067])\n",
            "After layer 0: shape=torch.Size([49, 512, 380])\n",
            "After layer 1: shape=torch.Size([49, 1024, 48])\n",
            "After layer 2: shape=torch.Size([49, 2048, 1])\n",
            "Input: shape=torch.Size([49, 1024])\n",
            "After reshape: shape=torch.Size([49, 1024, 1])\n",
            "After layer 0: shape=torch.Size([49, 512, 48])\n",
            "After layer 1: shape=torch.Size([49, 256, 378])\n",
            "After layer 2: shape=torch.Size([49, 1, 6034])\n"
          ]
        },
        {
          "output_type": "stream",
          "name": "stderr",
          "text": [
            "100%|██████████| 2/2 [00:00<00:00,  4.09it/s]"
          ]
        },
        {
          "output_type": "stream",
          "name": "stdout",
          "text": [
            "Input: shape=torch.Size([40, 1, 6067])\n",
            "After layer 0: shape=torch.Size([40, 512, 380])\n",
            "After layer 1: shape=torch.Size([40, 1024, 48])\n",
            "After layer 2: shape=torch.Size([40, 2048, 1])\n",
            "Input: shape=torch.Size([40, 1024])\n",
            "After reshape: shape=torch.Size([40, 1024, 1])\n",
            "After layer 0: shape=torch.Size([40, 512, 48])\n",
            "After layer 1: shape=torch.Size([40, 256, 378])\n",
            "After layer 2: shape=torch.Size([40, 1, 6034])\n"
          ]
        },
        {
          "output_type": "stream",
          "name": "stderr",
          "text": [
            "\n"
          ]
        },
        {
          "output_type": "stream",
          "name": "stdout",
          "text": [
            "Input: shape=torch.Size([9, 1, 6067])\n",
            "After layer 0: shape=torch.Size([9, 512, 380])\n",
            "After layer 1: shape=torch.Size([9, 1024, 48])\n",
            "After layer 2: shape=torch.Size([9, 2048, 1])\n",
            "Input: shape=torch.Size([9, 1024])\n",
            "After reshape: shape=torch.Size([9, 1024, 1])\n",
            "After layer 0: shape=torch.Size([9, 512, 48])\n",
            "After layer 1: shape=torch.Size([9, 256, 378])\n",
            "After layer 2: shape=torch.Size([9, 1, 6034])\n",
            "Epoch 37\n"
          ]
        },
        {
          "output_type": "stream",
          "name": "stderr",
          "text": [
            " 50%|█████     | 1/2 [00:00<00:00,  7.97it/s]"
          ]
        },
        {
          "output_type": "stream",
          "name": "stdout",
          "text": [
            "Input: shape=torch.Size([49, 1, 6067])\n",
            "After layer 0: shape=torch.Size([49, 512, 380])\n",
            "After layer 1: shape=torch.Size([49, 1024, 48])\n",
            "After layer 2: shape=torch.Size([49, 2048, 1])\n",
            "Input: shape=torch.Size([49, 1024])\n",
            "After reshape: shape=torch.Size([49, 1024, 1])\n",
            "After layer 0: shape=torch.Size([49, 512, 48])\n",
            "After layer 1: shape=torch.Size([49, 256, 378])\n",
            "After layer 2: shape=torch.Size([49, 1, 6034])\n"
          ]
        },
        {
          "output_type": "stream",
          "name": "stderr",
          "text": [
            "100%|██████████| 2/2 [00:00<00:00,  4.11it/s]"
          ]
        },
        {
          "output_type": "stream",
          "name": "stdout",
          "text": [
            "Input: shape=torch.Size([40, 1, 6067])\n",
            "After layer 0: shape=torch.Size([40, 512, 380])\n",
            "After layer 1: shape=torch.Size([40, 1024, 48])\n",
            "After layer 2: shape=torch.Size([40, 2048, 1])\n",
            "Input: shape=torch.Size([40, 1024])\n",
            "After reshape: shape=torch.Size([40, 1024, 1])\n",
            "After layer 0: shape=torch.Size([40, 512, 48])\n",
            "After layer 1: shape=torch.Size([40, 256, 378])\n",
            "After layer 2: shape=torch.Size([40, 1, 6034])\n"
          ]
        },
        {
          "output_type": "stream",
          "name": "stderr",
          "text": [
            "\n"
          ]
        },
        {
          "output_type": "stream",
          "name": "stdout",
          "text": [
            "Input: shape=torch.Size([9, 1, 6067])\n",
            "After layer 0: shape=torch.Size([9, 512, 380])\n",
            "After layer 1: shape=torch.Size([9, 1024, 48])\n",
            "After layer 2: shape=torch.Size([9, 2048, 1])\n",
            "Input: shape=torch.Size([9, 1024])\n",
            "After reshape: shape=torch.Size([9, 1024, 1])\n",
            "After layer 0: shape=torch.Size([9, 512, 48])\n",
            "After layer 1: shape=torch.Size([9, 256, 378])\n",
            "After layer 2: shape=torch.Size([9, 1, 6034])\n",
            "Epoch 38\n"
          ]
        },
        {
          "output_type": "stream",
          "name": "stderr",
          "text": [
            " 50%|█████     | 1/2 [00:00<00:00,  8.04it/s]"
          ]
        },
        {
          "output_type": "stream",
          "name": "stdout",
          "text": [
            "Input: shape=torch.Size([49, 1, 6067])\n",
            "After layer 0: shape=torch.Size([49, 512, 380])\n",
            "After layer 1: shape=torch.Size([49, 1024, 48])\n",
            "After layer 2: shape=torch.Size([49, 2048, 1])\n",
            "Input: shape=torch.Size([49, 1024])\n",
            "After reshape: shape=torch.Size([49, 1024, 1])\n",
            "After layer 0: shape=torch.Size([49, 512, 48])\n",
            "After layer 1: shape=torch.Size([49, 256, 378])\n",
            "After layer 2: shape=torch.Size([49, 1, 6034])\n"
          ]
        },
        {
          "output_type": "stream",
          "name": "stderr",
          "text": [
            "100%|██████████| 2/2 [00:00<00:00,  4.07it/s]"
          ]
        },
        {
          "output_type": "stream",
          "name": "stdout",
          "text": [
            "Input: shape=torch.Size([40, 1, 6067])\n",
            "After layer 0: shape=torch.Size([40, 512, 380])\n",
            "After layer 1: shape=torch.Size([40, 1024, 48])\n",
            "After layer 2: shape=torch.Size([40, 2048, 1])\n",
            "Input: shape=torch.Size([40, 1024])\n",
            "After reshape: shape=torch.Size([40, 1024, 1])\n",
            "After layer 0: shape=torch.Size([40, 512, 48])\n",
            "After layer 1: shape=torch.Size([40, 256, 378])\n",
            "After layer 2: shape=torch.Size([40, 1, 6034])\n"
          ]
        },
        {
          "output_type": "stream",
          "name": "stderr",
          "text": [
            "\n"
          ]
        },
        {
          "output_type": "stream",
          "name": "stdout",
          "text": [
            "Input: shape=torch.Size([9, 1, 6067])\n",
            "After layer 0: shape=torch.Size([9, 512, 380])\n",
            "After layer 1: shape=torch.Size([9, 1024, 48])\n",
            "After layer 2: shape=torch.Size([9, 2048, 1])\n",
            "Input: shape=torch.Size([9, 1024])\n",
            "After reshape: shape=torch.Size([9, 1024, 1])\n",
            "After layer 0: shape=torch.Size([9, 512, 48])\n",
            "After layer 1: shape=torch.Size([9, 256, 378])\n",
            "After layer 2: shape=torch.Size([9, 1, 6034])\n",
            "Epoch 39\n"
          ]
        },
        {
          "output_type": "stream",
          "name": "stderr",
          "text": [
            " 50%|█████     | 1/2 [00:00<00:00,  8.08it/s]"
          ]
        },
        {
          "output_type": "stream",
          "name": "stdout",
          "text": [
            "Input: shape=torch.Size([49, 1, 6067])\n",
            "After layer 0: shape=torch.Size([49, 512, 380])\n",
            "After layer 1: shape=torch.Size([49, 1024, 48])\n",
            "After layer 2: shape=torch.Size([49, 2048, 1])\n",
            "Input: shape=torch.Size([49, 1024])\n",
            "After reshape: shape=torch.Size([49, 1024, 1])\n",
            "After layer 0: shape=torch.Size([49, 512, 48])\n",
            "After layer 1: shape=torch.Size([49, 256, 378])\n",
            "After layer 2: shape=torch.Size([49, 1, 6034])\n"
          ]
        },
        {
          "output_type": "stream",
          "name": "stderr",
          "text": [
            "100%|██████████| 2/2 [00:00<00:00,  4.11it/s]"
          ]
        },
        {
          "output_type": "stream",
          "name": "stdout",
          "text": [
            "Input: shape=torch.Size([40, 1, 6067])\n",
            "After layer 0: shape=torch.Size([40, 512, 380])\n",
            "After layer 1: shape=torch.Size([40, 1024, 48])\n",
            "After layer 2: shape=torch.Size([40, 2048, 1])\n",
            "Input: shape=torch.Size([40, 1024])\n",
            "After reshape: shape=torch.Size([40, 1024, 1])\n",
            "After layer 0: shape=torch.Size([40, 512, 48])\n",
            "After layer 1: shape=torch.Size([40, 256, 378])\n",
            "After layer 2: shape=torch.Size([40, 1, 6034])\n"
          ]
        },
        {
          "output_type": "stream",
          "name": "stderr",
          "text": [
            "\n"
          ]
        },
        {
          "output_type": "stream",
          "name": "stdout",
          "text": [
            "Input: shape=torch.Size([9, 1, 6067])\n",
            "After layer 0: shape=torch.Size([9, 512, 380])\n",
            "After layer 1: shape=torch.Size([9, 1024, 48])\n",
            "After layer 2: shape=torch.Size([9, 2048, 1])\n",
            "Input: shape=torch.Size([9, 1024])\n",
            "After reshape: shape=torch.Size([9, 1024, 1])\n",
            "After layer 0: shape=torch.Size([9, 512, 48])\n",
            "After layer 1: shape=torch.Size([9, 256, 378])\n",
            "After layer 2: shape=torch.Size([9, 1, 6034])\n",
            "Epoch 40\n"
          ]
        },
        {
          "output_type": "stream",
          "name": "stderr",
          "text": [
            " 50%|█████     | 1/2 [00:00<00:00,  8.01it/s]"
          ]
        },
        {
          "output_type": "stream",
          "name": "stdout",
          "text": [
            "Input: shape=torch.Size([49, 1, 6067])\n",
            "After layer 0: shape=torch.Size([49, 512, 380])\n",
            "After layer 1: shape=torch.Size([49, 1024, 48])\n",
            "After layer 2: shape=torch.Size([49, 2048, 1])\n",
            "Input: shape=torch.Size([49, 1024])\n",
            "After reshape: shape=torch.Size([49, 1024, 1])\n",
            "After layer 0: shape=torch.Size([49, 512, 48])\n",
            "After layer 1: shape=torch.Size([49, 256, 378])\n",
            "After layer 2: shape=torch.Size([49, 1, 6034])\n"
          ]
        },
        {
          "output_type": "stream",
          "name": "stderr",
          "text": [
            "100%|██████████| 2/2 [00:00<00:00,  4.10it/s]"
          ]
        },
        {
          "output_type": "stream",
          "name": "stdout",
          "text": [
            "Input: shape=torch.Size([40, 1, 6067])\n",
            "After layer 0: shape=torch.Size([40, 512, 380])\n",
            "After layer 1: shape=torch.Size([40, 1024, 48])\n",
            "After layer 2: shape=torch.Size([40, 2048, 1])\n",
            "Input: shape=torch.Size([40, 1024])\n",
            "After reshape: shape=torch.Size([40, 1024, 1])\n",
            "After layer 0: shape=torch.Size([40, 512, 48])\n",
            "After layer 1: shape=torch.Size([40, 256, 378])\n",
            "After layer 2: shape=torch.Size([40, 1, 6034])\n"
          ]
        },
        {
          "output_type": "stream",
          "name": "stderr",
          "text": [
            "\n"
          ]
        },
        {
          "output_type": "stream",
          "name": "stdout",
          "text": [
            "Input: shape=torch.Size([9, 1, 6067])\n",
            "After layer 0: shape=torch.Size([9, 512, 380])\n",
            "After layer 1: shape=torch.Size([9, 1024, 48])\n",
            "After layer 2: shape=torch.Size([9, 2048, 1])\n",
            "Input: shape=torch.Size([9, 1024])\n",
            "After reshape: shape=torch.Size([9, 1024, 1])\n",
            "After layer 0: shape=torch.Size([9, 512, 48])\n",
            "After layer 1: shape=torch.Size([9, 256, 378])\n",
            "After layer 2: shape=torch.Size([9, 1, 6034])\n",
            "Epoch 41\n"
          ]
        },
        {
          "output_type": "stream",
          "name": "stderr",
          "text": [
            " 50%|█████     | 1/2 [00:00<00:00,  7.98it/s]"
          ]
        },
        {
          "output_type": "stream",
          "name": "stdout",
          "text": [
            "Input: shape=torch.Size([49, 1, 6067])\n",
            "After layer 0: shape=torch.Size([49, 512, 380])\n",
            "After layer 1: shape=torch.Size([49, 1024, 48])\n",
            "After layer 2: shape=torch.Size([49, 2048, 1])\n",
            "Input: shape=torch.Size([49, 1024])\n",
            "After reshape: shape=torch.Size([49, 1024, 1])\n",
            "After layer 0: shape=torch.Size([49, 512, 48])\n",
            "After layer 1: shape=torch.Size([49, 256, 378])\n",
            "After layer 2: shape=torch.Size([49, 1, 6034])\n"
          ]
        },
        {
          "output_type": "stream",
          "name": "stderr",
          "text": [
            "100%|██████████| 2/2 [00:00<00:00,  4.11it/s]"
          ]
        },
        {
          "output_type": "stream",
          "name": "stdout",
          "text": [
            "Input: shape=torch.Size([40, 1, 6067])\n",
            "After layer 0: shape=torch.Size([40, 512, 380])\n",
            "After layer 1: shape=torch.Size([40, 1024, 48])\n",
            "After layer 2: shape=torch.Size([40, 2048, 1])\n",
            "Input: shape=torch.Size([40, 1024])\n",
            "After reshape: shape=torch.Size([40, 1024, 1])\n",
            "After layer 0: shape=torch.Size([40, 512, 48])\n",
            "After layer 1: shape=torch.Size([40, 256, 378])\n",
            "After layer 2: shape=torch.Size([40, 1, 6034])\n"
          ]
        },
        {
          "output_type": "stream",
          "name": "stderr",
          "text": [
            "\n"
          ]
        },
        {
          "output_type": "stream",
          "name": "stdout",
          "text": [
            "Input: shape=torch.Size([9, 1, 6067])\n",
            "After layer 0: shape=torch.Size([9, 512, 380])\n",
            "After layer 1: shape=torch.Size([9, 1024, 48])\n",
            "After layer 2: shape=torch.Size([9, 2048, 1])\n",
            "Input: shape=torch.Size([9, 1024])\n",
            "After reshape: shape=torch.Size([9, 1024, 1])\n",
            "After layer 0: shape=torch.Size([9, 512, 48])\n",
            "After layer 1: shape=torch.Size([9, 256, 378])\n",
            "After layer 2: shape=torch.Size([9, 1, 6034])\n",
            "Epoch 42\n"
          ]
        },
        {
          "output_type": "stream",
          "name": "stderr",
          "text": [
            " 50%|█████     | 1/2 [00:00<00:00,  8.07it/s]"
          ]
        },
        {
          "output_type": "stream",
          "name": "stdout",
          "text": [
            "Input: shape=torch.Size([49, 1, 6067])\n",
            "After layer 0: shape=torch.Size([49, 512, 380])\n",
            "After layer 1: shape=torch.Size([49, 1024, 48])\n",
            "After layer 2: shape=torch.Size([49, 2048, 1])\n",
            "Input: shape=torch.Size([49, 1024])\n",
            "After reshape: shape=torch.Size([49, 1024, 1])\n",
            "After layer 0: shape=torch.Size([49, 512, 48])\n",
            "After layer 1: shape=torch.Size([49, 256, 378])\n",
            "After layer 2: shape=torch.Size([49, 1, 6034])\n"
          ]
        },
        {
          "output_type": "stream",
          "name": "stderr",
          "text": [
            "100%|██████████| 2/2 [00:00<00:00,  4.10it/s]"
          ]
        },
        {
          "output_type": "stream",
          "name": "stdout",
          "text": [
            "Input: shape=torch.Size([40, 1, 6067])\n",
            "After layer 0: shape=torch.Size([40, 512, 380])\n",
            "After layer 1: shape=torch.Size([40, 1024, 48])\n",
            "After layer 2: shape=torch.Size([40, 2048, 1])\n",
            "Input: shape=torch.Size([40, 1024])\n",
            "After reshape: shape=torch.Size([40, 1024, 1])\n",
            "After layer 0: shape=torch.Size([40, 512, 48])\n",
            "After layer 1: shape=torch.Size([40, 256, 378])\n",
            "After layer 2: shape=torch.Size([40, 1, 6034])\n"
          ]
        },
        {
          "output_type": "stream",
          "name": "stderr",
          "text": [
            "\n"
          ]
        },
        {
          "output_type": "stream",
          "name": "stdout",
          "text": [
            "Input: shape=torch.Size([9, 1, 6067])\n",
            "After layer 0: shape=torch.Size([9, 512, 380])\n",
            "After layer 1: shape=torch.Size([9, 1024, 48])\n",
            "After layer 2: shape=torch.Size([9, 2048, 1])\n",
            "Input: shape=torch.Size([9, 1024])\n",
            "After reshape: shape=torch.Size([9, 1024, 1])\n",
            "After layer 0: shape=torch.Size([9, 512, 48])\n",
            "After layer 1: shape=torch.Size([9, 256, 378])\n",
            "After layer 2: shape=torch.Size([9, 1, 6034])\n",
            "Epoch 43\n"
          ]
        },
        {
          "output_type": "stream",
          "name": "stderr",
          "text": [
            " 50%|█████     | 1/2 [00:00<00:00,  7.90it/s]"
          ]
        },
        {
          "output_type": "stream",
          "name": "stdout",
          "text": [
            "Input: shape=torch.Size([49, 1, 6067])\n",
            "After layer 0: shape=torch.Size([49, 512, 380])\n",
            "After layer 1: shape=torch.Size([49, 1024, 48])\n",
            "After layer 2: shape=torch.Size([49, 2048, 1])\n",
            "Input: shape=torch.Size([49, 1024])\n",
            "After reshape: shape=torch.Size([49, 1024, 1])\n",
            "After layer 0: shape=torch.Size([49, 512, 48])\n",
            "After layer 1: shape=torch.Size([49, 256, 378])\n",
            "After layer 2: shape=torch.Size([49, 1, 6034])\n"
          ]
        },
        {
          "output_type": "stream",
          "name": "stderr",
          "text": [
            "100%|██████████| 2/2 [00:00<00:00,  4.12it/s]"
          ]
        },
        {
          "output_type": "stream",
          "name": "stdout",
          "text": [
            "Input: shape=torch.Size([40, 1, 6067])\n",
            "After layer 0: shape=torch.Size([40, 512, 380])\n",
            "After layer 1: shape=torch.Size([40, 1024, 48])\n",
            "After layer 2: shape=torch.Size([40, 2048, 1])\n",
            "Input: shape=torch.Size([40, 1024])\n",
            "After reshape: shape=torch.Size([40, 1024, 1])\n",
            "After layer 0: shape=torch.Size([40, 512, 48])\n",
            "After layer 1: shape=torch.Size([40, 256, 378])\n",
            "After layer 2: shape=torch.Size([40, 1, 6034])\n"
          ]
        },
        {
          "output_type": "stream",
          "name": "stderr",
          "text": [
            "\n"
          ]
        },
        {
          "output_type": "stream",
          "name": "stdout",
          "text": [
            "Input: shape=torch.Size([9, 1, 6067])\n",
            "After layer 0: shape=torch.Size([9, 512, 380])\n",
            "After layer 1: shape=torch.Size([9, 1024, 48])\n",
            "After layer 2: shape=torch.Size([9, 2048, 1])\n",
            "Input: shape=torch.Size([9, 1024])\n",
            "After reshape: shape=torch.Size([9, 1024, 1])\n",
            "After layer 0: shape=torch.Size([9, 512, 48])\n",
            "After layer 1: shape=torch.Size([9, 256, 378])\n",
            "After layer 2: shape=torch.Size([9, 1, 6034])\n",
            "Epoch 44\n"
          ]
        },
        {
          "output_type": "stream",
          "name": "stderr",
          "text": [
            " 50%|█████     | 1/2 [00:00<00:00,  8.15it/s]"
          ]
        },
        {
          "output_type": "stream",
          "name": "stdout",
          "text": [
            "Input: shape=torch.Size([49, 1, 6067])\n",
            "After layer 0: shape=torch.Size([49, 512, 380])\n",
            "After layer 1: shape=torch.Size([49, 1024, 48])\n",
            "After layer 2: shape=torch.Size([49, 2048, 1])\n",
            "Input: shape=torch.Size([49, 1024])\n",
            "After reshape: shape=torch.Size([49, 1024, 1])\n",
            "After layer 0: shape=torch.Size([49, 512, 48])\n",
            "After layer 1: shape=torch.Size([49, 256, 378])\n",
            "After layer 2: shape=torch.Size([49, 1, 6034])\n"
          ]
        },
        {
          "output_type": "stream",
          "name": "stderr",
          "text": [
            "100%|██████████| 2/2 [00:00<00:00,  4.13it/s]"
          ]
        },
        {
          "output_type": "stream",
          "name": "stdout",
          "text": [
            "Input: shape=torch.Size([40, 1, 6067])\n",
            "After layer 0: shape=torch.Size([40, 512, 380])\n",
            "After layer 1: shape=torch.Size([40, 1024, 48])\n",
            "After layer 2: shape=torch.Size([40, 2048, 1])\n",
            "Input: shape=torch.Size([40, 1024])\n",
            "After reshape: shape=torch.Size([40, 1024, 1])\n",
            "After layer 0: shape=torch.Size([40, 512, 48])\n",
            "After layer 1: shape=torch.Size([40, 256, 378])\n",
            "After layer 2: shape=torch.Size([40, 1, 6034])\n"
          ]
        },
        {
          "output_type": "stream",
          "name": "stderr",
          "text": [
            "\n"
          ]
        },
        {
          "output_type": "stream",
          "name": "stdout",
          "text": [
            "Input: shape=torch.Size([9, 1, 6067])\n",
            "After layer 0: shape=torch.Size([9, 512, 380])\n",
            "After layer 1: shape=torch.Size([9, 1024, 48])\n",
            "After layer 2: shape=torch.Size([9, 2048, 1])\n",
            "Input: shape=torch.Size([9, 1024])\n",
            "After reshape: shape=torch.Size([9, 1024, 1])\n",
            "After layer 0: shape=torch.Size([9, 512, 48])\n",
            "After layer 1: shape=torch.Size([9, 256, 378])\n",
            "After layer 2: shape=torch.Size([9, 1, 6034])\n",
            "Epoch 45\n"
          ]
        },
        {
          "output_type": "stream",
          "name": "stderr",
          "text": [
            " 50%|█████     | 1/2 [00:00<00:00,  8.20it/s]"
          ]
        },
        {
          "output_type": "stream",
          "name": "stdout",
          "text": [
            "Input: shape=torch.Size([49, 1, 6067])\n",
            "After layer 0: shape=torch.Size([49, 512, 380])\n",
            "After layer 1: shape=torch.Size([49, 1024, 48])\n",
            "After layer 2: shape=torch.Size([49, 2048, 1])\n",
            "Input: shape=torch.Size([49, 1024])\n",
            "After reshape: shape=torch.Size([49, 1024, 1])\n",
            "After layer 0: shape=torch.Size([49, 512, 48])\n",
            "After layer 1: shape=torch.Size([49, 256, 378])\n",
            "After layer 2: shape=torch.Size([49, 1, 6034])\n"
          ]
        },
        {
          "output_type": "stream",
          "name": "stderr",
          "text": [
            "100%|██████████| 2/2 [00:00<00:00,  4.14it/s]"
          ]
        },
        {
          "output_type": "stream",
          "name": "stdout",
          "text": [
            "Input: shape=torch.Size([40, 1, 6067])\n",
            "After layer 0: shape=torch.Size([40, 512, 380])\n",
            "After layer 1: shape=torch.Size([40, 1024, 48])\n",
            "After layer 2: shape=torch.Size([40, 2048, 1])\n",
            "Input: shape=torch.Size([40, 1024])\n",
            "After reshape: shape=torch.Size([40, 1024, 1])\n",
            "After layer 0: shape=torch.Size([40, 512, 48])\n",
            "After layer 1: shape=torch.Size([40, 256, 378])\n",
            "After layer 2: shape=torch.Size([40, 1, 6034])\n"
          ]
        },
        {
          "output_type": "stream",
          "name": "stderr",
          "text": [
            "\n"
          ]
        },
        {
          "output_type": "stream",
          "name": "stdout",
          "text": [
            "Input: shape=torch.Size([9, 1, 6067])\n",
            "After layer 0: shape=torch.Size([9, 512, 380])\n",
            "After layer 1: shape=torch.Size([9, 1024, 48])\n",
            "After layer 2: shape=torch.Size([9, 2048, 1])\n",
            "Input: shape=torch.Size([9, 1024])\n",
            "After reshape: shape=torch.Size([9, 1024, 1])\n",
            "After layer 0: shape=torch.Size([9, 512, 48])\n",
            "After layer 1: shape=torch.Size([9, 256, 378])\n",
            "After layer 2: shape=torch.Size([9, 1, 6034])\n",
            "Epoch 46\n"
          ]
        },
        {
          "output_type": "stream",
          "name": "stderr",
          "text": [
            " 50%|█████     | 1/2 [00:00<00:00,  7.96it/s]"
          ]
        },
        {
          "output_type": "stream",
          "name": "stdout",
          "text": [
            "Input: shape=torch.Size([49, 1, 6067])\n",
            "After layer 0: shape=torch.Size([49, 512, 380])\n",
            "After layer 1: shape=torch.Size([49, 1024, 48])\n",
            "After layer 2: shape=torch.Size([49, 2048, 1])\n",
            "Input: shape=torch.Size([49, 1024])\n",
            "After reshape: shape=torch.Size([49, 1024, 1])\n",
            "After layer 0: shape=torch.Size([49, 512, 48])\n",
            "After layer 1: shape=torch.Size([49, 256, 378])\n",
            "After layer 2: shape=torch.Size([49, 1, 6034])\n"
          ]
        },
        {
          "output_type": "stream",
          "name": "stderr",
          "text": [
            "100%|██████████| 2/2 [00:00<00:00,  4.13it/s]"
          ]
        },
        {
          "output_type": "stream",
          "name": "stdout",
          "text": [
            "Input: shape=torch.Size([40, 1, 6067])\n",
            "After layer 0: shape=torch.Size([40, 512, 380])\n",
            "After layer 1: shape=torch.Size([40, 1024, 48])\n",
            "After layer 2: shape=torch.Size([40, 2048, 1])\n",
            "Input: shape=torch.Size([40, 1024])\n",
            "After reshape: shape=torch.Size([40, 1024, 1])\n",
            "After layer 0: shape=torch.Size([40, 512, 48])\n",
            "After layer 1: shape=torch.Size([40, 256, 378])\n",
            "After layer 2: shape=torch.Size([40, 1, 6034])\n"
          ]
        },
        {
          "output_type": "stream",
          "name": "stderr",
          "text": [
            "\n"
          ]
        },
        {
          "output_type": "stream",
          "name": "stdout",
          "text": [
            "Input: shape=torch.Size([9, 1, 6067])\n",
            "After layer 0: shape=torch.Size([9, 512, 380])\n",
            "After layer 1: shape=torch.Size([9, 1024, 48])\n",
            "After layer 2: shape=torch.Size([9, 2048, 1])\n",
            "Input: shape=torch.Size([9, 1024])\n",
            "After reshape: shape=torch.Size([9, 1024, 1])\n",
            "After layer 0: shape=torch.Size([9, 512, 48])\n",
            "After layer 1: shape=torch.Size([9, 256, 378])\n",
            "After layer 2: shape=torch.Size([9, 1, 6034])\n",
            "Epoch 47\n"
          ]
        },
        {
          "output_type": "stream",
          "name": "stderr",
          "text": [
            " 50%|█████     | 1/2 [00:00<00:00,  7.96it/s]"
          ]
        },
        {
          "output_type": "stream",
          "name": "stdout",
          "text": [
            "Input: shape=torch.Size([49, 1, 6067])\n",
            "After layer 0: shape=torch.Size([49, 512, 380])\n",
            "After layer 1: shape=torch.Size([49, 1024, 48])\n",
            "After layer 2: shape=torch.Size([49, 2048, 1])\n",
            "Input: shape=torch.Size([49, 1024])\n",
            "After reshape: shape=torch.Size([49, 1024, 1])\n",
            "After layer 0: shape=torch.Size([49, 512, 48])\n",
            "After layer 1: shape=torch.Size([49, 256, 378])\n",
            "After layer 2: shape=torch.Size([49, 1, 6034])\n"
          ]
        },
        {
          "output_type": "stream",
          "name": "stderr",
          "text": [
            "100%|██████████| 2/2 [00:00<00:00,  4.08it/s]"
          ]
        },
        {
          "output_type": "stream",
          "name": "stdout",
          "text": [
            "Input: shape=torch.Size([40, 1, 6067])\n",
            "After layer 0: shape=torch.Size([40, 512, 380])\n",
            "After layer 1: shape=torch.Size([40, 1024, 48])\n",
            "After layer 2: shape=torch.Size([40, 2048, 1])\n",
            "Input: shape=torch.Size([40, 1024])\n",
            "After reshape: shape=torch.Size([40, 1024, 1])\n",
            "After layer 0: shape=torch.Size([40, 512, 48])\n",
            "After layer 1: shape=torch.Size([40, 256, 378])\n",
            "After layer 2: shape=torch.Size([40, 1, 6034])\n"
          ]
        },
        {
          "output_type": "stream",
          "name": "stderr",
          "text": [
            "\n"
          ]
        },
        {
          "output_type": "stream",
          "name": "stdout",
          "text": [
            "Input: shape=torch.Size([9, 1, 6067])\n",
            "After layer 0: shape=torch.Size([9, 512, 380])\n",
            "After layer 1: shape=torch.Size([9, 1024, 48])\n",
            "After layer 2: shape=torch.Size([9, 2048, 1])\n",
            "Input: shape=torch.Size([9, 1024])\n",
            "After reshape: shape=torch.Size([9, 1024, 1])\n",
            "After layer 0: shape=torch.Size([9, 512, 48])\n",
            "After layer 1: shape=torch.Size([9, 256, 378])\n",
            "After layer 2: shape=torch.Size([9, 1, 6034])\n",
            "Epoch 48\n"
          ]
        },
        {
          "output_type": "stream",
          "name": "stderr",
          "text": [
            " 50%|█████     | 1/2 [00:00<00:00,  8.08it/s]"
          ]
        },
        {
          "output_type": "stream",
          "name": "stdout",
          "text": [
            "Input: shape=torch.Size([49, 1, 6067])\n",
            "After layer 0: shape=torch.Size([49, 512, 380])\n",
            "After layer 1: shape=torch.Size([49, 1024, 48])\n",
            "After layer 2: shape=torch.Size([49, 2048, 1])\n",
            "Input: shape=torch.Size([49, 1024])\n",
            "After reshape: shape=torch.Size([49, 1024, 1])\n",
            "After layer 0: shape=torch.Size([49, 512, 48])\n",
            "After layer 1: shape=torch.Size([49, 256, 378])\n",
            "After layer 2: shape=torch.Size([49, 1, 6034])\n"
          ]
        },
        {
          "output_type": "stream",
          "name": "stderr",
          "text": [
            "100%|██████████| 2/2 [00:00<00:00,  4.14it/s]"
          ]
        },
        {
          "output_type": "stream",
          "name": "stdout",
          "text": [
            "Input: shape=torch.Size([40, 1, 6067])\n",
            "After layer 0: shape=torch.Size([40, 512, 380])\n",
            "After layer 1: shape=torch.Size([40, 1024, 48])\n",
            "After layer 2: shape=torch.Size([40, 2048, 1])\n",
            "Input: shape=torch.Size([40, 1024])\n",
            "After reshape: shape=torch.Size([40, 1024, 1])\n",
            "After layer 0: shape=torch.Size([40, 512, 48])\n",
            "After layer 1: shape=torch.Size([40, 256, 378])\n",
            "After layer 2: shape=torch.Size([40, 1, 6034])\n"
          ]
        },
        {
          "output_type": "stream",
          "name": "stderr",
          "text": [
            "\n"
          ]
        },
        {
          "output_type": "stream",
          "name": "stdout",
          "text": [
            "Input: shape=torch.Size([9, 1, 6067])\n",
            "After layer 0: shape=torch.Size([9, 512, 380])\n",
            "After layer 1: shape=torch.Size([9, 1024, 48])\n",
            "After layer 2: shape=torch.Size([9, 2048, 1])\n",
            "Input: shape=torch.Size([9, 1024])\n",
            "After reshape: shape=torch.Size([9, 1024, 1])\n",
            "After layer 0: shape=torch.Size([9, 512, 48])\n",
            "After layer 1: shape=torch.Size([9, 256, 378])\n",
            "After layer 2: shape=torch.Size([9, 1, 6034])\n",
            "Epoch 49\n"
          ]
        },
        {
          "output_type": "stream",
          "name": "stderr",
          "text": [
            " 50%|█████     | 1/2 [00:00<00:00,  8.17it/s]"
          ]
        },
        {
          "output_type": "stream",
          "name": "stdout",
          "text": [
            "Input: shape=torch.Size([49, 1, 6067])\n",
            "After layer 0: shape=torch.Size([49, 512, 380])\n",
            "After layer 1: shape=torch.Size([49, 1024, 48])\n",
            "After layer 2: shape=torch.Size([49, 2048, 1])\n",
            "Input: shape=torch.Size([49, 1024])\n",
            "After reshape: shape=torch.Size([49, 1024, 1])\n",
            "After layer 0: shape=torch.Size([49, 512, 48])\n",
            "After layer 1: shape=torch.Size([49, 256, 378])\n",
            "After layer 2: shape=torch.Size([49, 1, 6034])\n"
          ]
        },
        {
          "output_type": "stream",
          "name": "stderr",
          "text": [
            "100%|██████████| 2/2 [00:00<00:00,  4.15it/s]"
          ]
        },
        {
          "output_type": "stream",
          "name": "stdout",
          "text": [
            "Input: shape=torch.Size([40, 1, 6067])\n",
            "After layer 0: shape=torch.Size([40, 512, 380])\n",
            "After layer 1: shape=torch.Size([40, 1024, 48])\n",
            "After layer 2: shape=torch.Size([40, 2048, 1])\n",
            "Input: shape=torch.Size([40, 1024])\n",
            "After reshape: shape=torch.Size([40, 1024, 1])\n",
            "After layer 0: shape=torch.Size([40, 512, 48])\n",
            "After layer 1: shape=torch.Size([40, 256, 378])\n",
            "After layer 2: shape=torch.Size([40, 1, 6034])\n"
          ]
        },
        {
          "output_type": "stream",
          "name": "stderr",
          "text": [
            "\n"
          ]
        },
        {
          "output_type": "stream",
          "name": "stdout",
          "text": [
            "Input: shape=torch.Size([9, 1, 6067])\n",
            "After layer 0: shape=torch.Size([9, 512, 380])\n",
            "After layer 1: shape=torch.Size([9, 1024, 48])\n",
            "After layer 2: shape=torch.Size([9, 2048, 1])\n",
            "Input: shape=torch.Size([9, 1024])\n",
            "After reshape: shape=torch.Size([9, 1024, 1])\n",
            "After layer 0: shape=torch.Size([9, 512, 48])\n",
            "After layer 1: shape=torch.Size([9, 256, 378])\n",
            "After layer 2: shape=torch.Size([9, 1, 6034])\n",
            "Epoch 50\n"
          ]
        },
        {
          "output_type": "stream",
          "name": "stderr",
          "text": [
            " 50%|█████     | 1/2 [00:00<00:00,  8.05it/s]"
          ]
        },
        {
          "output_type": "stream",
          "name": "stdout",
          "text": [
            "Input: shape=torch.Size([49, 1, 6067])\n",
            "After layer 0: shape=torch.Size([49, 512, 380])\n",
            "After layer 1: shape=torch.Size([49, 1024, 48])\n",
            "After layer 2: shape=torch.Size([49, 2048, 1])\n",
            "Input: shape=torch.Size([49, 1024])\n",
            "After reshape: shape=torch.Size([49, 1024, 1])\n",
            "After layer 0: shape=torch.Size([49, 512, 48])\n",
            "After layer 1: shape=torch.Size([49, 256, 378])\n",
            "After layer 2: shape=torch.Size([49, 1, 6034])\n"
          ]
        },
        {
          "output_type": "stream",
          "name": "stderr",
          "text": [
            "100%|██████████| 2/2 [00:00<00:00,  4.15it/s]"
          ]
        },
        {
          "output_type": "stream",
          "name": "stdout",
          "text": [
            "Input: shape=torch.Size([40, 1, 6067])\n",
            "After layer 0: shape=torch.Size([40, 512, 380])\n",
            "After layer 1: shape=torch.Size([40, 1024, 48])\n",
            "After layer 2: shape=torch.Size([40, 2048, 1])\n",
            "Input: shape=torch.Size([40, 1024])\n",
            "After reshape: shape=torch.Size([40, 1024, 1])\n",
            "After layer 0: shape=torch.Size([40, 512, 48])\n",
            "After layer 1: shape=torch.Size([40, 256, 378])\n",
            "After layer 2: shape=torch.Size([40, 1, 6034])\n"
          ]
        },
        {
          "output_type": "stream",
          "name": "stderr",
          "text": [
            "\n"
          ]
        },
        {
          "output_type": "stream",
          "name": "stdout",
          "text": [
            "Input: shape=torch.Size([9, 1, 6067])\n",
            "After layer 0: shape=torch.Size([9, 512, 380])\n",
            "After layer 1: shape=torch.Size([9, 1024, 48])\n",
            "After layer 2: shape=torch.Size([9, 2048, 1])\n",
            "Input: shape=torch.Size([9, 1024])\n",
            "After reshape: shape=torch.Size([9, 1024, 1])\n",
            "After layer 0: shape=torch.Size([9, 512, 48])\n",
            "After layer 1: shape=torch.Size([9, 256, 378])\n",
            "After layer 2: shape=torch.Size([9, 1, 6034])\n",
            "Epoch 51\n"
          ]
        },
        {
          "output_type": "stream",
          "name": "stderr",
          "text": [
            " 50%|█████     | 1/2 [00:00<00:00,  8.13it/s]"
          ]
        },
        {
          "output_type": "stream",
          "name": "stdout",
          "text": [
            "Input: shape=torch.Size([49, 1, 6067])\n",
            "After layer 0: shape=torch.Size([49, 512, 380])\n",
            "After layer 1: shape=torch.Size([49, 1024, 48])\n",
            "After layer 2: shape=torch.Size([49, 2048, 1])\n",
            "Input: shape=torch.Size([49, 1024])\n",
            "After reshape: shape=torch.Size([49, 1024, 1])\n",
            "After layer 0: shape=torch.Size([49, 512, 48])\n",
            "After layer 1: shape=torch.Size([49, 256, 378])\n",
            "After layer 2: shape=torch.Size([49, 1, 6034])\n"
          ]
        },
        {
          "output_type": "stream",
          "name": "stderr",
          "text": [
            "100%|██████████| 2/2 [00:00<00:00,  4.17it/s]"
          ]
        },
        {
          "output_type": "stream",
          "name": "stdout",
          "text": [
            "Input: shape=torch.Size([40, 1, 6067])\n",
            "After layer 0: shape=torch.Size([40, 512, 380])\n",
            "After layer 1: shape=torch.Size([40, 1024, 48])\n",
            "After layer 2: shape=torch.Size([40, 2048, 1])\n",
            "Input: shape=torch.Size([40, 1024])\n",
            "After reshape: shape=torch.Size([40, 1024, 1])\n",
            "After layer 0: shape=torch.Size([40, 512, 48])\n",
            "After layer 1: shape=torch.Size([40, 256, 378])\n",
            "After layer 2: shape=torch.Size([40, 1, 6034])\n"
          ]
        },
        {
          "output_type": "stream",
          "name": "stderr",
          "text": [
            "\n"
          ]
        },
        {
          "output_type": "stream",
          "name": "stdout",
          "text": [
            "Input: shape=torch.Size([9, 1, 6067])\n",
            "After layer 0: shape=torch.Size([9, 512, 380])\n",
            "After layer 1: shape=torch.Size([9, 1024, 48])\n",
            "After layer 2: shape=torch.Size([9, 2048, 1])\n",
            "Input: shape=torch.Size([9, 1024])\n",
            "After reshape: shape=torch.Size([9, 1024, 1])\n",
            "After layer 0: shape=torch.Size([9, 512, 48])\n",
            "After layer 1: shape=torch.Size([9, 256, 378])\n",
            "After layer 2: shape=torch.Size([9, 1, 6034])\n",
            "Epoch 52\n"
          ]
        },
        {
          "output_type": "stream",
          "name": "stderr",
          "text": [
            " 50%|█████     | 1/2 [00:00<00:00,  8.13it/s]"
          ]
        },
        {
          "output_type": "stream",
          "name": "stdout",
          "text": [
            "Input: shape=torch.Size([49, 1, 6067])\n",
            "After layer 0: shape=torch.Size([49, 512, 380])\n",
            "After layer 1: shape=torch.Size([49, 1024, 48])\n",
            "After layer 2: shape=torch.Size([49, 2048, 1])\n",
            "Input: shape=torch.Size([49, 1024])\n",
            "After reshape: shape=torch.Size([49, 1024, 1])\n",
            "After layer 0: shape=torch.Size([49, 512, 48])\n",
            "After layer 1: shape=torch.Size([49, 256, 378])\n",
            "After layer 2: shape=torch.Size([49, 1, 6034])\n"
          ]
        },
        {
          "output_type": "stream",
          "name": "stderr",
          "text": [
            "100%|██████████| 2/2 [00:00<00:00,  4.16it/s]"
          ]
        },
        {
          "output_type": "stream",
          "name": "stdout",
          "text": [
            "Input: shape=torch.Size([40, 1, 6067])\n",
            "After layer 0: shape=torch.Size([40, 512, 380])\n",
            "After layer 1: shape=torch.Size([40, 1024, 48])\n",
            "After layer 2: shape=torch.Size([40, 2048, 1])\n",
            "Input: shape=torch.Size([40, 1024])\n",
            "After reshape: shape=torch.Size([40, 1024, 1])\n",
            "After layer 0: shape=torch.Size([40, 512, 48])\n",
            "After layer 1: shape=torch.Size([40, 256, 378])\n",
            "After layer 2: shape=torch.Size([40, 1, 6034])\n"
          ]
        },
        {
          "output_type": "stream",
          "name": "stderr",
          "text": [
            "\n"
          ]
        },
        {
          "output_type": "stream",
          "name": "stdout",
          "text": [
            "Input: shape=torch.Size([9, 1, 6067])\n",
            "After layer 0: shape=torch.Size([9, 512, 380])\n",
            "After layer 1: shape=torch.Size([9, 1024, 48])\n",
            "After layer 2: shape=torch.Size([9, 2048, 1])\n",
            "Input: shape=torch.Size([9, 1024])\n",
            "After reshape: shape=torch.Size([9, 1024, 1])\n",
            "After layer 0: shape=torch.Size([9, 512, 48])\n",
            "After layer 1: shape=torch.Size([9, 256, 378])\n",
            "After layer 2: shape=torch.Size([9, 1, 6034])\n",
            "Epoch 53\n"
          ]
        },
        {
          "output_type": "stream",
          "name": "stderr",
          "text": [
            " 50%|█████     | 1/2 [00:00<00:00,  8.16it/s]"
          ]
        },
        {
          "output_type": "stream",
          "name": "stdout",
          "text": [
            "Input: shape=torch.Size([49, 1, 6067])\n",
            "After layer 0: shape=torch.Size([49, 512, 380])\n",
            "After layer 1: shape=torch.Size([49, 1024, 48])\n",
            "After layer 2: shape=torch.Size([49, 2048, 1])\n",
            "Input: shape=torch.Size([49, 1024])\n",
            "After reshape: shape=torch.Size([49, 1024, 1])\n",
            "After layer 0: shape=torch.Size([49, 512, 48])\n",
            "After layer 1: shape=torch.Size([49, 256, 378])\n",
            "After layer 2: shape=torch.Size([49, 1, 6034])\n"
          ]
        },
        {
          "output_type": "stream",
          "name": "stderr",
          "text": [
            "100%|██████████| 2/2 [00:00<00:00,  4.15it/s]"
          ]
        },
        {
          "output_type": "stream",
          "name": "stdout",
          "text": [
            "Input: shape=torch.Size([40, 1, 6067])\n",
            "After layer 0: shape=torch.Size([40, 512, 380])\n",
            "After layer 1: shape=torch.Size([40, 1024, 48])\n",
            "After layer 2: shape=torch.Size([40, 2048, 1])\n",
            "Input: shape=torch.Size([40, 1024])\n",
            "After reshape: shape=torch.Size([40, 1024, 1])\n",
            "After layer 0: shape=torch.Size([40, 512, 48])\n",
            "After layer 1: shape=torch.Size([40, 256, 378])\n",
            "After layer 2: shape=torch.Size([40, 1, 6034])\n"
          ]
        },
        {
          "output_type": "stream",
          "name": "stderr",
          "text": [
            "\n"
          ]
        },
        {
          "output_type": "stream",
          "name": "stdout",
          "text": [
            "Input: shape=torch.Size([9, 1, 6067])\n",
            "After layer 0: shape=torch.Size([9, 512, 380])\n",
            "After layer 1: shape=torch.Size([9, 1024, 48])\n",
            "After layer 2: shape=torch.Size([9, 2048, 1])\n",
            "Input: shape=torch.Size([9, 1024])\n",
            "After reshape: shape=torch.Size([9, 1024, 1])\n",
            "After layer 0: shape=torch.Size([9, 512, 48])\n",
            "After layer 1: shape=torch.Size([9, 256, 378])\n",
            "After layer 2: shape=torch.Size([9, 1, 6034])\n",
            "Epoch 54\n"
          ]
        },
        {
          "output_type": "stream",
          "name": "stderr",
          "text": [
            " 50%|█████     | 1/2 [00:00<00:00,  7.91it/s]"
          ]
        },
        {
          "output_type": "stream",
          "name": "stdout",
          "text": [
            "Input: shape=torch.Size([49, 1, 6067])\n",
            "After layer 0: shape=torch.Size([49, 512, 380])\n",
            "After layer 1: shape=torch.Size([49, 1024, 48])\n",
            "After layer 2: shape=torch.Size([49, 2048, 1])\n",
            "Input: shape=torch.Size([49, 1024])\n",
            "After reshape: shape=torch.Size([49, 1024, 1])\n",
            "After layer 0: shape=torch.Size([49, 512, 48])\n",
            "After layer 1: shape=torch.Size([49, 256, 378])\n",
            "After layer 2: shape=torch.Size([49, 1, 6034])\n"
          ]
        },
        {
          "output_type": "stream",
          "name": "stderr",
          "text": [
            "100%|██████████| 2/2 [00:00<00:00,  4.14it/s]"
          ]
        },
        {
          "output_type": "stream",
          "name": "stdout",
          "text": [
            "Input: shape=torch.Size([40, 1, 6067])\n",
            "After layer 0: shape=torch.Size([40, 512, 380])\n",
            "After layer 1: shape=torch.Size([40, 1024, 48])\n",
            "After layer 2: shape=torch.Size([40, 2048, 1])\n",
            "Input: shape=torch.Size([40, 1024])\n",
            "After reshape: shape=torch.Size([40, 1024, 1])\n",
            "After layer 0: shape=torch.Size([40, 512, 48])\n",
            "After layer 1: shape=torch.Size([40, 256, 378])\n",
            "After layer 2: shape=torch.Size([40, 1, 6034])\n"
          ]
        },
        {
          "output_type": "stream",
          "name": "stderr",
          "text": [
            "\n"
          ]
        },
        {
          "output_type": "stream",
          "name": "stdout",
          "text": [
            "Input: shape=torch.Size([9, 1, 6067])\n",
            "After layer 0: shape=torch.Size([9, 512, 380])\n",
            "After layer 1: shape=torch.Size([9, 1024, 48])\n",
            "After layer 2: shape=torch.Size([9, 2048, 1])\n",
            "Input: shape=torch.Size([9, 1024])\n",
            "After reshape: shape=torch.Size([9, 1024, 1])\n",
            "After layer 0: shape=torch.Size([9, 512, 48])\n",
            "After layer 1: shape=torch.Size([9, 256, 378])\n",
            "After layer 2: shape=torch.Size([9, 1, 6034])\n",
            "Epoch 55\n"
          ]
        },
        {
          "output_type": "stream",
          "name": "stderr",
          "text": [
            " 50%|█████     | 1/2 [00:00<00:00,  8.14it/s]"
          ]
        },
        {
          "output_type": "stream",
          "name": "stdout",
          "text": [
            "Input: shape=torch.Size([49, 1, 6067])\n",
            "After layer 0: shape=torch.Size([49, 512, 380])\n",
            "After layer 1: shape=torch.Size([49, 1024, 48])\n",
            "After layer 2: shape=torch.Size([49, 2048, 1])\n",
            "Input: shape=torch.Size([49, 1024])\n",
            "After reshape: shape=torch.Size([49, 1024, 1])\n",
            "After layer 0: shape=torch.Size([49, 512, 48])\n",
            "After layer 1: shape=torch.Size([49, 256, 378])\n",
            "After layer 2: shape=torch.Size([49, 1, 6034])\n"
          ]
        },
        {
          "output_type": "stream",
          "name": "stderr",
          "text": [
            "100%|██████████| 2/2 [00:00<00:00,  4.16it/s]"
          ]
        },
        {
          "output_type": "stream",
          "name": "stdout",
          "text": [
            "Input: shape=torch.Size([40, 1, 6067])\n",
            "After layer 0: shape=torch.Size([40, 512, 380])\n",
            "After layer 1: shape=torch.Size([40, 1024, 48])\n",
            "After layer 2: shape=torch.Size([40, 2048, 1])\n",
            "Input: shape=torch.Size([40, 1024])\n",
            "After reshape: shape=torch.Size([40, 1024, 1])\n",
            "After layer 0: shape=torch.Size([40, 512, 48])\n",
            "After layer 1: shape=torch.Size([40, 256, 378])\n",
            "After layer 2: shape=torch.Size([40, 1, 6034])\n"
          ]
        },
        {
          "output_type": "stream",
          "name": "stderr",
          "text": [
            "\n"
          ]
        },
        {
          "output_type": "stream",
          "name": "stdout",
          "text": [
            "Input: shape=torch.Size([9, 1, 6067])\n",
            "After layer 0: shape=torch.Size([9, 512, 380])\n",
            "After layer 1: shape=torch.Size([9, 1024, 48])\n",
            "After layer 2: shape=torch.Size([9, 2048, 1])\n",
            "Input: shape=torch.Size([9, 1024])\n",
            "After reshape: shape=torch.Size([9, 1024, 1])\n",
            "After layer 0: shape=torch.Size([9, 512, 48])\n",
            "After layer 1: shape=torch.Size([9, 256, 378])\n",
            "After layer 2: shape=torch.Size([9, 1, 6034])\n",
            "Epoch 56\n"
          ]
        },
        {
          "output_type": "stream",
          "name": "stderr",
          "text": [
            " 50%|█████     | 1/2 [00:00<00:00,  8.09it/s]"
          ]
        },
        {
          "output_type": "stream",
          "name": "stdout",
          "text": [
            "Input: shape=torch.Size([49, 1, 6067])\n",
            "After layer 0: shape=torch.Size([49, 512, 380])\n",
            "After layer 1: shape=torch.Size([49, 1024, 48])\n",
            "After layer 2: shape=torch.Size([49, 2048, 1])\n",
            "Input: shape=torch.Size([49, 1024])\n",
            "After reshape: shape=torch.Size([49, 1024, 1])\n",
            "After layer 0: shape=torch.Size([49, 512, 48])\n",
            "After layer 1: shape=torch.Size([49, 256, 378])\n",
            "After layer 2: shape=torch.Size([49, 1, 6034])\n"
          ]
        },
        {
          "output_type": "stream",
          "name": "stderr",
          "text": [
            "100%|██████████| 2/2 [00:00<00:00,  4.11it/s]"
          ]
        },
        {
          "output_type": "stream",
          "name": "stdout",
          "text": [
            "Input: shape=torch.Size([40, 1, 6067])\n",
            "After layer 0: shape=torch.Size([40, 512, 380])\n",
            "After layer 1: shape=torch.Size([40, 1024, 48])\n",
            "After layer 2: shape=torch.Size([40, 2048, 1])\n",
            "Input: shape=torch.Size([40, 1024])\n",
            "After reshape: shape=torch.Size([40, 1024, 1])\n",
            "After layer 0: shape=torch.Size([40, 512, 48])\n",
            "After layer 1: shape=torch.Size([40, 256, 378])\n",
            "After layer 2: shape=torch.Size([40, 1, 6034])\n"
          ]
        },
        {
          "output_type": "stream",
          "name": "stderr",
          "text": [
            "\n"
          ]
        },
        {
          "output_type": "stream",
          "name": "stdout",
          "text": [
            "Input: shape=torch.Size([9, 1, 6067])\n",
            "After layer 0: shape=torch.Size([9, 512, 380])\n",
            "After layer 1: shape=torch.Size([9, 1024, 48])\n",
            "After layer 2: shape=torch.Size([9, 2048, 1])\n",
            "Input: shape=torch.Size([9, 1024])\n",
            "After reshape: shape=torch.Size([9, 1024, 1])\n",
            "After layer 0: shape=torch.Size([9, 512, 48])\n",
            "After layer 1: shape=torch.Size([9, 256, 378])\n",
            "After layer 2: shape=torch.Size([9, 1, 6034])\n",
            "Epoch 57\n"
          ]
        },
        {
          "output_type": "stream",
          "name": "stderr",
          "text": [
            " 50%|█████     | 1/2 [00:00<00:00,  8.15it/s]"
          ]
        },
        {
          "output_type": "stream",
          "name": "stdout",
          "text": [
            "Input: shape=torch.Size([49, 1, 6067])\n",
            "After layer 0: shape=torch.Size([49, 512, 380])\n",
            "After layer 1: shape=torch.Size([49, 1024, 48])\n",
            "After layer 2: shape=torch.Size([49, 2048, 1])\n",
            "Input: shape=torch.Size([49, 1024])\n",
            "After reshape: shape=torch.Size([49, 1024, 1])\n",
            "After layer 0: shape=torch.Size([49, 512, 48])\n",
            "After layer 1: shape=torch.Size([49, 256, 378])\n",
            "After layer 2: shape=torch.Size([49, 1, 6034])\n"
          ]
        },
        {
          "output_type": "stream",
          "name": "stderr",
          "text": [
            "100%|██████████| 2/2 [00:00<00:00,  4.15it/s]"
          ]
        },
        {
          "output_type": "stream",
          "name": "stdout",
          "text": [
            "Input: shape=torch.Size([40, 1, 6067])\n",
            "After layer 0: shape=torch.Size([40, 512, 380])\n",
            "After layer 1: shape=torch.Size([40, 1024, 48])\n",
            "After layer 2: shape=torch.Size([40, 2048, 1])\n",
            "Input: shape=torch.Size([40, 1024])\n",
            "After reshape: shape=torch.Size([40, 1024, 1])\n",
            "After layer 0: shape=torch.Size([40, 512, 48])\n",
            "After layer 1: shape=torch.Size([40, 256, 378])\n",
            "After layer 2: shape=torch.Size([40, 1, 6034])\n"
          ]
        },
        {
          "output_type": "stream",
          "name": "stderr",
          "text": [
            "\n"
          ]
        },
        {
          "output_type": "stream",
          "name": "stdout",
          "text": [
            "Input: shape=torch.Size([9, 1, 6067])\n",
            "After layer 0: shape=torch.Size([9, 512, 380])\n",
            "After layer 1: shape=torch.Size([9, 1024, 48])\n",
            "After layer 2: shape=torch.Size([9, 2048, 1])\n",
            "Input: shape=torch.Size([9, 1024])\n",
            "After reshape: shape=torch.Size([9, 1024, 1])\n",
            "After layer 0: shape=torch.Size([9, 512, 48])\n",
            "After layer 1: shape=torch.Size([9, 256, 378])\n",
            "After layer 2: shape=torch.Size([9, 1, 6034])\n",
            "Epoch 58\n"
          ]
        },
        {
          "output_type": "stream",
          "name": "stderr",
          "text": [
            " 50%|█████     | 1/2 [00:00<00:00,  8.22it/s]"
          ]
        },
        {
          "output_type": "stream",
          "name": "stdout",
          "text": [
            "Input: shape=torch.Size([49, 1, 6067])\n",
            "After layer 0: shape=torch.Size([49, 512, 380])\n",
            "After layer 1: shape=torch.Size([49, 1024, 48])\n",
            "After layer 2: shape=torch.Size([49, 2048, 1])\n",
            "Input: shape=torch.Size([49, 1024])\n",
            "After reshape: shape=torch.Size([49, 1024, 1])\n",
            "After layer 0: shape=torch.Size([49, 512, 48])\n",
            "After layer 1: shape=torch.Size([49, 256, 378])\n",
            "After layer 2: shape=torch.Size([49, 1, 6034])\n"
          ]
        },
        {
          "output_type": "stream",
          "name": "stderr",
          "text": [
            "100%|██████████| 2/2 [00:00<00:00,  4.17it/s]"
          ]
        },
        {
          "output_type": "stream",
          "name": "stdout",
          "text": [
            "Input: shape=torch.Size([40, 1, 6067])\n",
            "After layer 0: shape=torch.Size([40, 512, 380])\n",
            "After layer 1: shape=torch.Size([40, 1024, 48])\n",
            "After layer 2: shape=torch.Size([40, 2048, 1])\n",
            "Input: shape=torch.Size([40, 1024])\n",
            "After reshape: shape=torch.Size([40, 1024, 1])\n",
            "After layer 0: shape=torch.Size([40, 512, 48])\n",
            "After layer 1: shape=torch.Size([40, 256, 378])\n",
            "After layer 2: shape=torch.Size([40, 1, 6034])\n"
          ]
        },
        {
          "output_type": "stream",
          "name": "stderr",
          "text": [
            "\n"
          ]
        },
        {
          "output_type": "stream",
          "name": "stdout",
          "text": [
            "Input: shape=torch.Size([9, 1, 6067])\n",
            "After layer 0: shape=torch.Size([9, 512, 380])\n",
            "After layer 1: shape=torch.Size([9, 1024, 48])\n",
            "After layer 2: shape=torch.Size([9, 2048, 1])\n",
            "Input: shape=torch.Size([9, 1024])\n",
            "After reshape: shape=torch.Size([9, 1024, 1])\n",
            "After layer 0: shape=torch.Size([9, 512, 48])\n",
            "After layer 1: shape=torch.Size([9, 256, 378])\n",
            "After layer 2: shape=torch.Size([9, 1, 6034])\n",
            "Epoch 59\n"
          ]
        },
        {
          "output_type": "stream",
          "name": "stderr",
          "text": [
            " 50%|█████     | 1/2 [00:00<00:00,  7.94it/s]"
          ]
        },
        {
          "output_type": "stream",
          "name": "stdout",
          "text": [
            "Input: shape=torch.Size([49, 1, 6067])\n",
            "After layer 0: shape=torch.Size([49, 512, 380])\n",
            "After layer 1: shape=torch.Size([49, 1024, 48])\n",
            "After layer 2: shape=torch.Size([49, 2048, 1])\n",
            "Input: shape=torch.Size([49, 1024])\n",
            "After reshape: shape=torch.Size([49, 1024, 1])\n",
            "After layer 0: shape=torch.Size([49, 512, 48])\n",
            "After layer 1: shape=torch.Size([49, 256, 378])\n",
            "After layer 2: shape=torch.Size([49, 1, 6034])\n"
          ]
        },
        {
          "output_type": "stream",
          "name": "stderr",
          "text": [
            "100%|██████████| 2/2 [00:00<00:00,  4.12it/s]"
          ]
        },
        {
          "output_type": "stream",
          "name": "stdout",
          "text": [
            "Input: shape=torch.Size([40, 1, 6067])\n",
            "After layer 0: shape=torch.Size([40, 512, 380])\n",
            "After layer 1: shape=torch.Size([40, 1024, 48])\n",
            "After layer 2: shape=torch.Size([40, 2048, 1])\n",
            "Input: shape=torch.Size([40, 1024])\n",
            "After reshape: shape=torch.Size([40, 1024, 1])\n",
            "After layer 0: shape=torch.Size([40, 512, 48])\n",
            "After layer 1: shape=torch.Size([40, 256, 378])\n",
            "After layer 2: shape=torch.Size([40, 1, 6034])\n"
          ]
        },
        {
          "output_type": "stream",
          "name": "stderr",
          "text": [
            "\n"
          ]
        },
        {
          "output_type": "stream",
          "name": "stdout",
          "text": [
            "Input: shape=torch.Size([9, 1, 6067])\n",
            "After layer 0: shape=torch.Size([9, 512, 380])\n",
            "After layer 1: shape=torch.Size([9, 1024, 48])\n",
            "After layer 2: shape=torch.Size([9, 2048, 1])\n",
            "Input: shape=torch.Size([9, 1024])\n",
            "After reshape: shape=torch.Size([9, 1024, 1])\n",
            "After layer 0: shape=torch.Size([9, 512, 48])\n",
            "After layer 1: shape=torch.Size([9, 256, 378])\n",
            "After layer 2: shape=torch.Size([9, 1, 6034])\n",
            "Epoch 60\n"
          ]
        },
        {
          "output_type": "stream",
          "name": "stderr",
          "text": [
            " 50%|█████     | 1/2 [00:00<00:00,  8.18it/s]"
          ]
        },
        {
          "output_type": "stream",
          "name": "stdout",
          "text": [
            "Input: shape=torch.Size([49, 1, 6067])\n",
            "After layer 0: shape=torch.Size([49, 512, 380])\n",
            "After layer 1: shape=torch.Size([49, 1024, 48])\n",
            "After layer 2: shape=torch.Size([49, 2048, 1])\n",
            "Input: shape=torch.Size([49, 1024])\n",
            "After reshape: shape=torch.Size([49, 1024, 1])\n",
            "After layer 0: shape=torch.Size([49, 512, 48])\n",
            "After layer 1: shape=torch.Size([49, 256, 378])\n",
            "After layer 2: shape=torch.Size([49, 1, 6034])\n"
          ]
        },
        {
          "output_type": "stream",
          "name": "stderr",
          "text": [
            "100%|██████████| 2/2 [00:00<00:00,  4.17it/s]"
          ]
        },
        {
          "output_type": "stream",
          "name": "stdout",
          "text": [
            "Input: shape=torch.Size([40, 1, 6067])\n",
            "After layer 0: shape=torch.Size([40, 512, 380])\n",
            "After layer 1: shape=torch.Size([40, 1024, 48])\n",
            "After layer 2: shape=torch.Size([40, 2048, 1])\n",
            "Input: shape=torch.Size([40, 1024])\n",
            "After reshape: shape=torch.Size([40, 1024, 1])\n",
            "After layer 0: shape=torch.Size([40, 512, 48])\n",
            "After layer 1: shape=torch.Size([40, 256, 378])\n",
            "After layer 2: shape=torch.Size([40, 1, 6034])\n"
          ]
        },
        {
          "output_type": "stream",
          "name": "stderr",
          "text": [
            "\n"
          ]
        },
        {
          "output_type": "stream",
          "name": "stdout",
          "text": [
            "Input: shape=torch.Size([9, 1, 6067])\n",
            "After layer 0: shape=torch.Size([9, 512, 380])\n",
            "After layer 1: shape=torch.Size([9, 1024, 48])\n",
            "After layer 2: shape=torch.Size([9, 2048, 1])\n",
            "Input: shape=torch.Size([9, 1024])\n",
            "After reshape: shape=torch.Size([9, 1024, 1])\n",
            "After layer 0: shape=torch.Size([9, 512, 48])\n",
            "After layer 1: shape=torch.Size([9, 256, 378])\n",
            "After layer 2: shape=torch.Size([9, 1, 6034])\n",
            "Epoch 61\n"
          ]
        },
        {
          "output_type": "stream",
          "name": "stderr",
          "text": [
            " 50%|█████     | 1/2 [00:00<00:00,  8.12it/s]"
          ]
        },
        {
          "output_type": "stream",
          "name": "stdout",
          "text": [
            "Input: shape=torch.Size([49, 1, 6067])\n",
            "After layer 0: shape=torch.Size([49, 512, 380])\n",
            "After layer 1: shape=torch.Size([49, 1024, 48])\n",
            "After layer 2: shape=torch.Size([49, 2048, 1])\n",
            "Input: shape=torch.Size([49, 1024])\n",
            "After reshape: shape=torch.Size([49, 1024, 1])\n",
            "After layer 0: shape=torch.Size([49, 512, 48])\n",
            "After layer 1: shape=torch.Size([49, 256, 378])\n",
            "After layer 2: shape=torch.Size([49, 1, 6034])\n"
          ]
        },
        {
          "output_type": "stream",
          "name": "stderr",
          "text": [
            "100%|██████████| 2/2 [00:00<00:00,  4.17it/s]"
          ]
        },
        {
          "output_type": "stream",
          "name": "stdout",
          "text": [
            "Input: shape=torch.Size([40, 1, 6067])\n",
            "After layer 0: shape=torch.Size([40, 512, 380])\n",
            "After layer 1: shape=torch.Size([40, 1024, 48])\n",
            "After layer 2: shape=torch.Size([40, 2048, 1])\n",
            "Input: shape=torch.Size([40, 1024])\n",
            "After reshape: shape=torch.Size([40, 1024, 1])\n",
            "After layer 0: shape=torch.Size([40, 512, 48])\n",
            "After layer 1: shape=torch.Size([40, 256, 378])\n",
            "After layer 2: shape=torch.Size([40, 1, 6034])\n"
          ]
        },
        {
          "output_type": "stream",
          "name": "stderr",
          "text": [
            "\n"
          ]
        },
        {
          "output_type": "stream",
          "name": "stdout",
          "text": [
            "Input: shape=torch.Size([9, 1, 6067])\n",
            "After layer 0: shape=torch.Size([9, 512, 380])\n",
            "After layer 1: shape=torch.Size([9, 1024, 48])\n",
            "After layer 2: shape=torch.Size([9, 2048, 1])\n",
            "Input: shape=torch.Size([9, 1024])\n",
            "After reshape: shape=torch.Size([9, 1024, 1])\n",
            "After layer 0: shape=torch.Size([9, 512, 48])\n",
            "After layer 1: shape=torch.Size([9, 256, 378])\n",
            "After layer 2: shape=torch.Size([9, 1, 6034])\n",
            "Epoch 62\n"
          ]
        },
        {
          "output_type": "stream",
          "name": "stderr",
          "text": [
            " 50%|█████     | 1/2 [00:00<00:00,  8.08it/s]"
          ]
        },
        {
          "output_type": "stream",
          "name": "stdout",
          "text": [
            "Input: shape=torch.Size([49, 1, 6067])\n",
            "After layer 0: shape=torch.Size([49, 512, 380])\n",
            "After layer 1: shape=torch.Size([49, 1024, 48])\n",
            "After layer 2: shape=torch.Size([49, 2048, 1])\n",
            "Input: shape=torch.Size([49, 1024])\n",
            "After reshape: shape=torch.Size([49, 1024, 1])\n",
            "After layer 0: shape=torch.Size([49, 512, 48])\n",
            "After layer 1: shape=torch.Size([49, 256, 378])\n",
            "After layer 2: shape=torch.Size([49, 1, 6034])\n"
          ]
        },
        {
          "output_type": "stream",
          "name": "stderr",
          "text": [
            "100%|██████████| 2/2 [00:00<00:00,  4.17it/s]"
          ]
        },
        {
          "output_type": "stream",
          "name": "stdout",
          "text": [
            "Input: shape=torch.Size([40, 1, 6067])\n",
            "After layer 0: shape=torch.Size([40, 512, 380])\n",
            "After layer 1: shape=torch.Size([40, 1024, 48])\n",
            "After layer 2: shape=torch.Size([40, 2048, 1])\n",
            "Input: shape=torch.Size([40, 1024])\n",
            "After reshape: shape=torch.Size([40, 1024, 1])\n",
            "After layer 0: shape=torch.Size([40, 512, 48])\n",
            "After layer 1: shape=torch.Size([40, 256, 378])\n",
            "After layer 2: shape=torch.Size([40, 1, 6034])\n"
          ]
        },
        {
          "output_type": "stream",
          "name": "stderr",
          "text": [
            "\n"
          ]
        },
        {
          "output_type": "stream",
          "name": "stdout",
          "text": [
            "Input: shape=torch.Size([9, 1, 6067])\n",
            "After layer 0: shape=torch.Size([9, 512, 380])\n",
            "After layer 1: shape=torch.Size([9, 1024, 48])\n",
            "After layer 2: shape=torch.Size([9, 2048, 1])\n",
            "Input: shape=torch.Size([9, 1024])\n",
            "After reshape: shape=torch.Size([9, 1024, 1])\n",
            "After layer 0: shape=torch.Size([9, 512, 48])\n",
            "After layer 1: shape=torch.Size([9, 256, 378])\n",
            "After layer 2: shape=torch.Size([9, 1, 6034])\n",
            "Epoch 63\n"
          ]
        },
        {
          "output_type": "stream",
          "name": "stderr",
          "text": [
            " 50%|█████     | 1/2 [00:00<00:00,  8.07it/s]"
          ]
        },
        {
          "output_type": "stream",
          "name": "stdout",
          "text": [
            "Input: shape=torch.Size([49, 1, 6067])\n",
            "After layer 0: shape=torch.Size([49, 512, 380])\n",
            "After layer 1: shape=torch.Size([49, 1024, 48])\n",
            "After layer 2: shape=torch.Size([49, 2048, 1])\n",
            "Input: shape=torch.Size([49, 1024])\n",
            "After reshape: shape=torch.Size([49, 1024, 1])\n",
            "After layer 0: shape=torch.Size([49, 512, 48])\n",
            "After layer 1: shape=torch.Size([49, 256, 378])\n",
            "After layer 2: shape=torch.Size([49, 1, 6034])\n"
          ]
        },
        {
          "output_type": "stream",
          "name": "stderr",
          "text": [
            "100%|██████████| 2/2 [00:00<00:00,  4.11it/s]"
          ]
        },
        {
          "output_type": "stream",
          "name": "stdout",
          "text": [
            "Input: shape=torch.Size([40, 1, 6067])\n",
            "After layer 0: shape=torch.Size([40, 512, 380])\n",
            "After layer 1: shape=torch.Size([40, 1024, 48])\n",
            "After layer 2: shape=torch.Size([40, 2048, 1])\n",
            "Input: shape=torch.Size([40, 1024])\n",
            "After reshape: shape=torch.Size([40, 1024, 1])\n",
            "After layer 0: shape=torch.Size([40, 512, 48])\n",
            "After layer 1: shape=torch.Size([40, 256, 378])\n",
            "After layer 2: shape=torch.Size([40, 1, 6034])\n"
          ]
        },
        {
          "output_type": "stream",
          "name": "stderr",
          "text": [
            "\n"
          ]
        },
        {
          "output_type": "stream",
          "name": "stdout",
          "text": [
            "Input: shape=torch.Size([9, 1, 6067])\n",
            "After layer 0: shape=torch.Size([9, 512, 380])\n",
            "After layer 1: shape=torch.Size([9, 1024, 48])\n",
            "After layer 2: shape=torch.Size([9, 2048, 1])\n",
            "Input: shape=torch.Size([9, 1024])\n",
            "After reshape: shape=torch.Size([9, 1024, 1])\n",
            "After layer 0: shape=torch.Size([9, 512, 48])\n",
            "After layer 1: shape=torch.Size([9, 256, 378])\n",
            "After layer 2: shape=torch.Size([9, 1, 6034])\n",
            "Epoch 64\n"
          ]
        },
        {
          "output_type": "stream",
          "name": "stderr",
          "text": [
            " 50%|█████     | 1/2 [00:00<00:00,  8.13it/s]"
          ]
        },
        {
          "output_type": "stream",
          "name": "stdout",
          "text": [
            "Input: shape=torch.Size([49, 1, 6067])\n",
            "After layer 0: shape=torch.Size([49, 512, 380])\n",
            "After layer 1: shape=torch.Size([49, 1024, 48])\n",
            "After layer 2: shape=torch.Size([49, 2048, 1])\n",
            "Input: shape=torch.Size([49, 1024])\n",
            "After reshape: shape=torch.Size([49, 1024, 1])\n",
            "After layer 0: shape=torch.Size([49, 512, 48])\n",
            "After layer 1: shape=torch.Size([49, 256, 378])\n",
            "After layer 2: shape=torch.Size([49, 1, 6034])\n"
          ]
        },
        {
          "output_type": "stream",
          "name": "stderr",
          "text": [
            "100%|██████████| 2/2 [00:00<00:00,  4.15it/s]"
          ]
        },
        {
          "output_type": "stream",
          "name": "stdout",
          "text": [
            "Input: shape=torch.Size([40, 1, 6067])\n",
            "After layer 0: shape=torch.Size([40, 512, 380])\n",
            "After layer 1: shape=torch.Size([40, 1024, 48])\n",
            "After layer 2: shape=torch.Size([40, 2048, 1])\n",
            "Input: shape=torch.Size([40, 1024])\n",
            "After reshape: shape=torch.Size([40, 1024, 1])\n",
            "After layer 0: shape=torch.Size([40, 512, 48])\n",
            "After layer 1: shape=torch.Size([40, 256, 378])\n",
            "After layer 2: shape=torch.Size([40, 1, 6034])\n"
          ]
        },
        {
          "output_type": "stream",
          "name": "stderr",
          "text": [
            "\n"
          ]
        },
        {
          "output_type": "stream",
          "name": "stdout",
          "text": [
            "Input: shape=torch.Size([9, 1, 6067])\n",
            "After layer 0: shape=torch.Size([9, 512, 380])\n",
            "After layer 1: shape=torch.Size([9, 1024, 48])\n",
            "After layer 2: shape=torch.Size([9, 2048, 1])\n",
            "Input: shape=torch.Size([9, 1024])\n",
            "After reshape: shape=torch.Size([9, 1024, 1])\n",
            "After layer 0: shape=torch.Size([9, 512, 48])\n",
            "After layer 1: shape=torch.Size([9, 256, 378])\n",
            "After layer 2: shape=torch.Size([9, 1, 6034])\n",
            "Epoch 65\n"
          ]
        },
        {
          "output_type": "stream",
          "name": "stderr",
          "text": [
            " 50%|█████     | 1/2 [00:00<00:00,  8.09it/s]"
          ]
        },
        {
          "output_type": "stream",
          "name": "stdout",
          "text": [
            "Input: shape=torch.Size([49, 1, 6067])\n",
            "After layer 0: shape=torch.Size([49, 512, 380])\n",
            "After layer 1: shape=torch.Size([49, 1024, 48])\n",
            "After layer 2: shape=torch.Size([49, 2048, 1])\n",
            "Input: shape=torch.Size([49, 1024])\n",
            "After reshape: shape=torch.Size([49, 1024, 1])\n",
            "After layer 0: shape=torch.Size([49, 512, 48])\n",
            "After layer 1: shape=torch.Size([49, 256, 378])\n",
            "After layer 2: shape=torch.Size([49, 1, 6034])\n"
          ]
        },
        {
          "output_type": "stream",
          "name": "stderr",
          "text": [
            "100%|██████████| 2/2 [00:00<00:00,  4.17it/s]"
          ]
        },
        {
          "output_type": "stream",
          "name": "stdout",
          "text": [
            "Input: shape=torch.Size([40, 1, 6067])\n",
            "After layer 0: shape=torch.Size([40, 512, 380])\n",
            "After layer 1: shape=torch.Size([40, 1024, 48])\n",
            "After layer 2: shape=torch.Size([40, 2048, 1])\n",
            "Input: shape=torch.Size([40, 1024])\n",
            "After reshape: shape=torch.Size([40, 1024, 1])\n",
            "After layer 0: shape=torch.Size([40, 512, 48])\n",
            "After layer 1: shape=torch.Size([40, 256, 378])\n",
            "After layer 2: shape=torch.Size([40, 1, 6034])\n"
          ]
        },
        {
          "output_type": "stream",
          "name": "stderr",
          "text": [
            "\n"
          ]
        },
        {
          "output_type": "stream",
          "name": "stdout",
          "text": [
            "Input: shape=torch.Size([9, 1, 6067])\n",
            "After layer 0: shape=torch.Size([9, 512, 380])\n",
            "After layer 1: shape=torch.Size([9, 1024, 48])\n",
            "After layer 2: shape=torch.Size([9, 2048, 1])\n",
            "Input: shape=torch.Size([9, 1024])\n",
            "After reshape: shape=torch.Size([9, 1024, 1])\n",
            "After layer 0: shape=torch.Size([9, 512, 48])\n",
            "After layer 1: shape=torch.Size([9, 256, 378])\n",
            "After layer 2: shape=torch.Size([9, 1, 6034])\n",
            "Epoch 66\n"
          ]
        },
        {
          "output_type": "stream",
          "name": "stderr",
          "text": [
            " 50%|█████     | 1/2 [00:00<00:00,  8.13it/s]"
          ]
        },
        {
          "output_type": "stream",
          "name": "stdout",
          "text": [
            "Input: shape=torch.Size([49, 1, 6067])\n",
            "After layer 0: shape=torch.Size([49, 512, 380])\n",
            "After layer 1: shape=torch.Size([49, 1024, 48])\n",
            "After layer 2: shape=torch.Size([49, 2048, 1])\n",
            "Input: shape=torch.Size([49, 1024])\n",
            "After reshape: shape=torch.Size([49, 1024, 1])\n",
            "After layer 0: shape=torch.Size([49, 512, 48])\n",
            "After layer 1: shape=torch.Size([49, 256, 378])\n",
            "After layer 2: shape=torch.Size([49, 1, 6034])\n"
          ]
        },
        {
          "output_type": "stream",
          "name": "stderr",
          "text": [
            "100%|██████████| 2/2 [00:00<00:00,  4.17it/s]"
          ]
        },
        {
          "output_type": "stream",
          "name": "stdout",
          "text": [
            "Input: shape=torch.Size([40, 1, 6067])\n",
            "After layer 0: shape=torch.Size([40, 512, 380])\n",
            "After layer 1: shape=torch.Size([40, 1024, 48])\n",
            "After layer 2: shape=torch.Size([40, 2048, 1])\n",
            "Input: shape=torch.Size([40, 1024])\n",
            "After reshape: shape=torch.Size([40, 1024, 1])\n",
            "After layer 0: shape=torch.Size([40, 512, 48])\n",
            "After layer 1: shape=torch.Size([40, 256, 378])\n",
            "After layer 2: shape=torch.Size([40, 1, 6034])\n"
          ]
        },
        {
          "output_type": "stream",
          "name": "stderr",
          "text": [
            "\n"
          ]
        },
        {
          "output_type": "stream",
          "name": "stdout",
          "text": [
            "Input: shape=torch.Size([9, 1, 6067])\n",
            "After layer 0: shape=torch.Size([9, 512, 380])\n",
            "After layer 1: shape=torch.Size([9, 1024, 48])\n",
            "After layer 2: shape=torch.Size([9, 2048, 1])\n",
            "Input: shape=torch.Size([9, 1024])\n",
            "After reshape: shape=torch.Size([9, 1024, 1])\n",
            "After layer 0: shape=torch.Size([9, 512, 48])\n",
            "After layer 1: shape=torch.Size([9, 256, 378])\n",
            "After layer 2: shape=torch.Size([9, 1, 6034])\n",
            "Epoch 67\n"
          ]
        },
        {
          "output_type": "stream",
          "name": "stderr",
          "text": [
            " 50%|█████     | 1/2 [00:00<00:00,  8.11it/s]"
          ]
        },
        {
          "output_type": "stream",
          "name": "stdout",
          "text": [
            "Input: shape=torch.Size([49, 1, 6067])\n",
            "After layer 0: shape=torch.Size([49, 512, 380])\n",
            "After layer 1: shape=torch.Size([49, 1024, 48])\n",
            "After layer 2: shape=torch.Size([49, 2048, 1])\n",
            "Input: shape=torch.Size([49, 1024])\n",
            "After reshape: shape=torch.Size([49, 1024, 1])\n",
            "After layer 0: shape=torch.Size([49, 512, 48])\n",
            "After layer 1: shape=torch.Size([49, 256, 378])\n",
            "After layer 2: shape=torch.Size([49, 1, 6034])\n"
          ]
        },
        {
          "output_type": "stream",
          "name": "stderr",
          "text": [
            "100%|██████████| 2/2 [00:00<00:00,  4.18it/s]"
          ]
        },
        {
          "output_type": "stream",
          "name": "stdout",
          "text": [
            "Input: shape=torch.Size([40, 1, 6067])\n",
            "After layer 0: shape=torch.Size([40, 512, 380])\n",
            "After layer 1: shape=torch.Size([40, 1024, 48])\n",
            "After layer 2: shape=torch.Size([40, 2048, 1])\n",
            "Input: shape=torch.Size([40, 1024])\n",
            "After reshape: shape=torch.Size([40, 1024, 1])\n",
            "After layer 0: shape=torch.Size([40, 512, 48])\n",
            "After layer 1: shape=torch.Size([40, 256, 378])\n",
            "After layer 2: shape=torch.Size([40, 1, 6034])\n"
          ]
        },
        {
          "output_type": "stream",
          "name": "stderr",
          "text": [
            "\n"
          ]
        },
        {
          "output_type": "stream",
          "name": "stdout",
          "text": [
            "Input: shape=torch.Size([9, 1, 6067])\n",
            "After layer 0: shape=torch.Size([9, 512, 380])\n",
            "After layer 1: shape=torch.Size([9, 1024, 48])\n",
            "After layer 2: shape=torch.Size([9, 2048, 1])\n",
            "Input: shape=torch.Size([9, 1024])\n",
            "After reshape: shape=torch.Size([9, 1024, 1])\n",
            "After layer 0: shape=torch.Size([9, 512, 48])\n",
            "After layer 1: shape=torch.Size([9, 256, 378])\n",
            "After layer 2: shape=torch.Size([9, 1, 6034])\n",
            "Epoch 68\n"
          ]
        },
        {
          "output_type": "stream",
          "name": "stderr",
          "text": [
            " 50%|█████     | 1/2 [00:00<00:00,  8.14it/s]"
          ]
        },
        {
          "output_type": "stream",
          "name": "stdout",
          "text": [
            "Input: shape=torch.Size([49, 1, 6067])\n",
            "After layer 0: shape=torch.Size([49, 512, 380])\n",
            "After layer 1: shape=torch.Size([49, 1024, 48])\n",
            "After layer 2: shape=torch.Size([49, 2048, 1])\n",
            "Input: shape=torch.Size([49, 1024])\n",
            "After reshape: shape=torch.Size([49, 1024, 1])\n",
            "After layer 0: shape=torch.Size([49, 512, 48])\n",
            "After layer 1: shape=torch.Size([49, 256, 378])\n",
            "After layer 2: shape=torch.Size([49, 1, 6034])\n"
          ]
        },
        {
          "output_type": "stream",
          "name": "stderr",
          "text": [
            "100%|██████████| 2/2 [00:00<00:00,  4.18it/s]"
          ]
        },
        {
          "output_type": "stream",
          "name": "stdout",
          "text": [
            "Input: shape=torch.Size([40, 1, 6067])\n",
            "After layer 0: shape=torch.Size([40, 512, 380])\n",
            "After layer 1: shape=torch.Size([40, 1024, 48])\n",
            "After layer 2: shape=torch.Size([40, 2048, 1])\n",
            "Input: shape=torch.Size([40, 1024])\n",
            "After reshape: shape=torch.Size([40, 1024, 1])\n",
            "After layer 0: shape=torch.Size([40, 512, 48])\n",
            "After layer 1: shape=torch.Size([40, 256, 378])\n",
            "After layer 2: shape=torch.Size([40, 1, 6034])\n"
          ]
        },
        {
          "output_type": "stream",
          "name": "stderr",
          "text": [
            "\n"
          ]
        },
        {
          "output_type": "stream",
          "name": "stdout",
          "text": [
            "Input: shape=torch.Size([9, 1, 6067])\n",
            "After layer 0: shape=torch.Size([9, 512, 380])\n",
            "After layer 1: shape=torch.Size([9, 1024, 48])\n",
            "After layer 2: shape=torch.Size([9, 2048, 1])\n",
            "Input: shape=torch.Size([9, 1024])\n",
            "After reshape: shape=torch.Size([9, 1024, 1])\n",
            "After layer 0: shape=torch.Size([9, 512, 48])\n",
            "After layer 1: shape=torch.Size([9, 256, 378])\n",
            "After layer 2: shape=torch.Size([9, 1, 6034])\n",
            "Epoch 69\n"
          ]
        },
        {
          "output_type": "stream",
          "name": "stderr",
          "text": [
            " 50%|█████     | 1/2 [00:00<00:00,  8.21it/s]"
          ]
        },
        {
          "output_type": "stream",
          "name": "stdout",
          "text": [
            "Input: shape=torch.Size([49, 1, 6067])\n",
            "After layer 0: shape=torch.Size([49, 512, 380])\n",
            "After layer 1: shape=torch.Size([49, 1024, 48])\n",
            "After layer 2: shape=torch.Size([49, 2048, 1])\n",
            "Input: shape=torch.Size([49, 1024])\n",
            "After reshape: shape=torch.Size([49, 1024, 1])\n",
            "After layer 0: shape=torch.Size([49, 512, 48])\n",
            "After layer 1: shape=torch.Size([49, 256, 378])\n",
            "After layer 2: shape=torch.Size([49, 1, 6034])\n"
          ]
        },
        {
          "output_type": "stream",
          "name": "stderr",
          "text": [
            "100%|██████████| 2/2 [00:00<00:00,  4.19it/s]"
          ]
        },
        {
          "output_type": "stream",
          "name": "stdout",
          "text": [
            "Input: shape=torch.Size([40, 1, 6067])\n",
            "After layer 0: shape=torch.Size([40, 512, 380])\n",
            "After layer 1: shape=torch.Size([40, 1024, 48])\n",
            "After layer 2: shape=torch.Size([40, 2048, 1])\n",
            "Input: shape=torch.Size([40, 1024])\n",
            "After reshape: shape=torch.Size([40, 1024, 1])\n",
            "After layer 0: shape=torch.Size([40, 512, 48])\n",
            "After layer 1: shape=torch.Size([40, 256, 378])\n",
            "After layer 2: shape=torch.Size([40, 1, 6034])\n"
          ]
        },
        {
          "output_type": "stream",
          "name": "stderr",
          "text": [
            "\n"
          ]
        },
        {
          "output_type": "stream",
          "name": "stdout",
          "text": [
            "Input: shape=torch.Size([9, 1, 6067])\n",
            "After layer 0: shape=torch.Size([9, 512, 380])\n",
            "After layer 1: shape=torch.Size([9, 1024, 48])\n",
            "After layer 2: shape=torch.Size([9, 2048, 1])\n",
            "Input: shape=torch.Size([9, 1024])\n",
            "After reshape: shape=torch.Size([9, 1024, 1])\n",
            "After layer 0: shape=torch.Size([9, 512, 48])\n",
            "After layer 1: shape=torch.Size([9, 256, 378])\n",
            "After layer 2: shape=torch.Size([9, 1, 6034])\n",
            "Epoch 70\n"
          ]
        },
        {
          "output_type": "stream",
          "name": "stderr",
          "text": [
            " 50%|█████     | 1/2 [00:00<00:00,  8.12it/s]"
          ]
        },
        {
          "output_type": "stream",
          "name": "stdout",
          "text": [
            "Input: shape=torch.Size([49, 1, 6067])\n",
            "After layer 0: shape=torch.Size([49, 512, 380])\n",
            "After layer 1: shape=torch.Size([49, 1024, 48])\n",
            "After layer 2: shape=torch.Size([49, 2048, 1])\n",
            "Input: shape=torch.Size([49, 1024])\n",
            "After reshape: shape=torch.Size([49, 1024, 1])\n",
            "After layer 0: shape=torch.Size([49, 512, 48])\n",
            "After layer 1: shape=torch.Size([49, 256, 378])\n",
            "After layer 2: shape=torch.Size([49, 1, 6034])\n"
          ]
        },
        {
          "output_type": "stream",
          "name": "stderr",
          "text": [
            "100%|██████████| 2/2 [00:00<00:00,  4.18it/s]"
          ]
        },
        {
          "output_type": "stream",
          "name": "stdout",
          "text": [
            "Input: shape=torch.Size([40, 1, 6067])\n",
            "After layer 0: shape=torch.Size([40, 512, 380])\n",
            "After layer 1: shape=torch.Size([40, 1024, 48])\n",
            "After layer 2: shape=torch.Size([40, 2048, 1])\n",
            "Input: shape=torch.Size([40, 1024])\n",
            "After reshape: shape=torch.Size([40, 1024, 1])\n",
            "After layer 0: shape=torch.Size([40, 512, 48])\n",
            "After layer 1: shape=torch.Size([40, 256, 378])\n",
            "After layer 2: shape=torch.Size([40, 1, 6034])\n"
          ]
        },
        {
          "output_type": "stream",
          "name": "stderr",
          "text": [
            "\n"
          ]
        },
        {
          "output_type": "stream",
          "name": "stdout",
          "text": [
            "Input: shape=torch.Size([9, 1, 6067])\n",
            "After layer 0: shape=torch.Size([9, 512, 380])\n",
            "After layer 1: shape=torch.Size([9, 1024, 48])\n",
            "After layer 2: shape=torch.Size([9, 2048, 1])\n",
            "Input: shape=torch.Size([9, 1024])\n",
            "After reshape: shape=torch.Size([9, 1024, 1])\n",
            "After layer 0: shape=torch.Size([9, 512, 48])\n",
            "After layer 1: shape=torch.Size([9, 256, 378])\n",
            "After layer 2: shape=torch.Size([9, 1, 6034])\n",
            "Epoch 71\n"
          ]
        },
        {
          "output_type": "stream",
          "name": "stderr",
          "text": [
            " 50%|█████     | 1/2 [00:00<00:00,  8.13it/s]"
          ]
        },
        {
          "output_type": "stream",
          "name": "stdout",
          "text": [
            "Input: shape=torch.Size([49, 1, 6067])\n",
            "After layer 0: shape=torch.Size([49, 512, 380])\n",
            "After layer 1: shape=torch.Size([49, 1024, 48])\n",
            "After layer 2: shape=torch.Size([49, 2048, 1])\n",
            "Input: shape=torch.Size([49, 1024])\n",
            "After reshape: shape=torch.Size([49, 1024, 1])\n",
            "After layer 0: shape=torch.Size([49, 512, 48])\n",
            "After layer 1: shape=torch.Size([49, 256, 378])\n",
            "After layer 2: shape=torch.Size([49, 1, 6034])\n"
          ]
        },
        {
          "output_type": "stream",
          "name": "stderr",
          "text": [
            "100%|██████████| 2/2 [00:00<00:00,  4.19it/s]"
          ]
        },
        {
          "output_type": "stream",
          "name": "stdout",
          "text": [
            "Input: shape=torch.Size([40, 1, 6067])\n",
            "After layer 0: shape=torch.Size([40, 512, 380])\n",
            "After layer 1: shape=torch.Size([40, 1024, 48])\n",
            "After layer 2: shape=torch.Size([40, 2048, 1])\n",
            "Input: shape=torch.Size([40, 1024])\n",
            "After reshape: shape=torch.Size([40, 1024, 1])\n",
            "After layer 0: shape=torch.Size([40, 512, 48])\n",
            "After layer 1: shape=torch.Size([40, 256, 378])\n",
            "After layer 2: shape=torch.Size([40, 1, 6034])\n"
          ]
        },
        {
          "output_type": "stream",
          "name": "stderr",
          "text": [
            "\n"
          ]
        },
        {
          "output_type": "stream",
          "name": "stdout",
          "text": [
            "Input: shape=torch.Size([9, 1, 6067])\n",
            "After layer 0: shape=torch.Size([9, 512, 380])\n",
            "After layer 1: shape=torch.Size([9, 1024, 48])\n",
            "After layer 2: shape=torch.Size([9, 2048, 1])\n",
            "Input: shape=torch.Size([9, 1024])\n",
            "After reshape: shape=torch.Size([9, 1024, 1])\n",
            "After layer 0: shape=torch.Size([9, 512, 48])\n",
            "After layer 1: shape=torch.Size([9, 256, 378])\n",
            "After layer 2: shape=torch.Size([9, 1, 6034])\n",
            "Epoch 72\n"
          ]
        },
        {
          "output_type": "stream",
          "name": "stderr",
          "text": [
            " 50%|█████     | 1/2 [00:00<00:00,  8.13it/s]"
          ]
        },
        {
          "output_type": "stream",
          "name": "stdout",
          "text": [
            "Input: shape=torch.Size([49, 1, 6067])\n",
            "After layer 0: shape=torch.Size([49, 512, 380])\n",
            "After layer 1: shape=torch.Size([49, 1024, 48])\n",
            "After layer 2: shape=torch.Size([49, 2048, 1])\n",
            "Input: shape=torch.Size([49, 1024])\n",
            "After reshape: shape=torch.Size([49, 1024, 1])\n",
            "After layer 0: shape=torch.Size([49, 512, 48])\n",
            "After layer 1: shape=torch.Size([49, 256, 378])\n",
            "After layer 2: shape=torch.Size([49, 1, 6034])\n"
          ]
        },
        {
          "output_type": "stream",
          "name": "stderr",
          "text": [
            "100%|██████████| 2/2 [00:00<00:00,  4.15it/s]"
          ]
        },
        {
          "output_type": "stream",
          "name": "stdout",
          "text": [
            "Input: shape=torch.Size([40, 1, 6067])\n",
            "After layer 0: shape=torch.Size([40, 512, 380])\n",
            "After layer 1: shape=torch.Size([40, 1024, 48])\n",
            "After layer 2: shape=torch.Size([40, 2048, 1])\n",
            "Input: shape=torch.Size([40, 1024])\n",
            "After reshape: shape=torch.Size([40, 1024, 1])\n",
            "After layer 0: shape=torch.Size([40, 512, 48])\n",
            "After layer 1: shape=torch.Size([40, 256, 378])\n",
            "After layer 2: shape=torch.Size([40, 1, 6034])\n"
          ]
        },
        {
          "output_type": "stream",
          "name": "stderr",
          "text": [
            "\n"
          ]
        },
        {
          "output_type": "stream",
          "name": "stdout",
          "text": [
            "Input: shape=torch.Size([9, 1, 6067])\n",
            "After layer 0: shape=torch.Size([9, 512, 380])\n",
            "After layer 1: shape=torch.Size([9, 1024, 48])\n",
            "After layer 2: shape=torch.Size([9, 2048, 1])\n",
            "Input: shape=torch.Size([9, 1024])\n",
            "After reshape: shape=torch.Size([9, 1024, 1])\n",
            "After layer 0: shape=torch.Size([9, 512, 48])\n",
            "After layer 1: shape=torch.Size([9, 256, 378])\n",
            "After layer 2: shape=torch.Size([9, 1, 6034])\n",
            "Epoch 73\n"
          ]
        },
        {
          "output_type": "stream",
          "name": "stderr",
          "text": [
            " 50%|█████     | 1/2 [00:00<00:00,  8.05it/s]"
          ]
        },
        {
          "output_type": "stream",
          "name": "stdout",
          "text": [
            "Input: shape=torch.Size([49, 1, 6067])\n",
            "After layer 0: shape=torch.Size([49, 512, 380])\n",
            "After layer 1: shape=torch.Size([49, 1024, 48])\n",
            "After layer 2: shape=torch.Size([49, 2048, 1])\n",
            "Input: shape=torch.Size([49, 1024])\n",
            "After reshape: shape=torch.Size([49, 1024, 1])\n",
            "After layer 0: shape=torch.Size([49, 512, 48])\n",
            "After layer 1: shape=torch.Size([49, 256, 378])\n",
            "After layer 2: shape=torch.Size([49, 1, 6034])\n"
          ]
        },
        {
          "output_type": "stream",
          "name": "stderr",
          "text": [
            "100%|██████████| 2/2 [00:00<00:00,  4.20it/s]"
          ]
        },
        {
          "output_type": "stream",
          "name": "stdout",
          "text": [
            "Input: shape=torch.Size([40, 1, 6067])\n",
            "After layer 0: shape=torch.Size([40, 512, 380])\n",
            "After layer 1: shape=torch.Size([40, 1024, 48])\n",
            "After layer 2: shape=torch.Size([40, 2048, 1])\n",
            "Input: shape=torch.Size([40, 1024])\n",
            "After reshape: shape=torch.Size([40, 1024, 1])\n",
            "After layer 0: shape=torch.Size([40, 512, 48])\n",
            "After layer 1: shape=torch.Size([40, 256, 378])\n",
            "After layer 2: shape=torch.Size([40, 1, 6034])\n"
          ]
        },
        {
          "output_type": "stream",
          "name": "stderr",
          "text": [
            "\n"
          ]
        },
        {
          "output_type": "stream",
          "name": "stdout",
          "text": [
            "Input: shape=torch.Size([9, 1, 6067])\n",
            "After layer 0: shape=torch.Size([9, 512, 380])\n",
            "After layer 1: shape=torch.Size([9, 1024, 48])\n",
            "After layer 2: shape=torch.Size([9, 2048, 1])\n",
            "Input: shape=torch.Size([9, 1024])\n",
            "After reshape: shape=torch.Size([9, 1024, 1])\n",
            "After layer 0: shape=torch.Size([9, 512, 48])\n",
            "After layer 1: shape=torch.Size([9, 256, 378])\n",
            "After layer 2: shape=torch.Size([9, 1, 6034])\n",
            "Epoch 74\n"
          ]
        },
        {
          "output_type": "stream",
          "name": "stderr",
          "text": [
            " 50%|█████     | 1/2 [00:00<00:00,  7.95it/s]"
          ]
        },
        {
          "output_type": "stream",
          "name": "stdout",
          "text": [
            "Input: shape=torch.Size([49, 1, 6067])\n",
            "After layer 0: shape=torch.Size([49, 512, 380])\n",
            "After layer 1: shape=torch.Size([49, 1024, 48])\n",
            "After layer 2: shape=torch.Size([49, 2048, 1])\n",
            "Input: shape=torch.Size([49, 1024])\n",
            "After reshape: shape=torch.Size([49, 1024, 1])\n",
            "After layer 0: shape=torch.Size([49, 512, 48])\n",
            "After layer 1: shape=torch.Size([49, 256, 378])\n",
            "After layer 2: shape=torch.Size([49, 1, 6034])\n"
          ]
        },
        {
          "output_type": "stream",
          "name": "stderr",
          "text": [
            "100%|██████████| 2/2 [00:00<00:00,  4.15it/s]"
          ]
        },
        {
          "output_type": "stream",
          "name": "stdout",
          "text": [
            "Input: shape=torch.Size([40, 1, 6067])\n",
            "After layer 0: shape=torch.Size([40, 512, 380])\n",
            "After layer 1: shape=torch.Size([40, 1024, 48])\n",
            "After layer 2: shape=torch.Size([40, 2048, 1])\n",
            "Input: shape=torch.Size([40, 1024])\n",
            "After reshape: shape=torch.Size([40, 1024, 1])\n",
            "After layer 0: shape=torch.Size([40, 512, 48])\n",
            "After layer 1: shape=torch.Size([40, 256, 378])\n",
            "After layer 2: shape=torch.Size([40, 1, 6034])\n"
          ]
        },
        {
          "output_type": "stream",
          "name": "stderr",
          "text": [
            "\n"
          ]
        },
        {
          "output_type": "stream",
          "name": "stdout",
          "text": [
            "Input: shape=torch.Size([9, 1, 6067])\n",
            "After layer 0: shape=torch.Size([9, 512, 380])\n",
            "After layer 1: shape=torch.Size([9, 1024, 48])\n",
            "After layer 2: shape=torch.Size([9, 2048, 1])\n",
            "Input: shape=torch.Size([9, 1024])\n",
            "After reshape: shape=torch.Size([9, 1024, 1])\n",
            "After layer 0: shape=torch.Size([9, 512, 48])\n",
            "After layer 1: shape=torch.Size([9, 256, 378])\n",
            "After layer 2: shape=torch.Size([9, 1, 6034])\n",
            "Epoch 75\n"
          ]
        },
        {
          "output_type": "stream",
          "name": "stderr",
          "text": [
            " 50%|█████     | 1/2 [00:00<00:00,  7.99it/s]"
          ]
        },
        {
          "output_type": "stream",
          "name": "stdout",
          "text": [
            "Input: shape=torch.Size([49, 1, 6067])\n",
            "After layer 0: shape=torch.Size([49, 512, 380])\n",
            "After layer 1: shape=torch.Size([49, 1024, 48])\n",
            "After layer 2: shape=torch.Size([49, 2048, 1])\n",
            "Input: shape=torch.Size([49, 1024])\n",
            "After reshape: shape=torch.Size([49, 1024, 1])\n",
            "After layer 0: shape=torch.Size([49, 512, 48])\n",
            "After layer 1: shape=torch.Size([49, 256, 378])\n",
            "After layer 2: shape=torch.Size([49, 1, 6034])\n"
          ]
        },
        {
          "output_type": "stream",
          "name": "stderr",
          "text": [
            "100%|██████████| 2/2 [00:00<00:00,  4.18it/s]"
          ]
        },
        {
          "output_type": "stream",
          "name": "stdout",
          "text": [
            "Input: shape=torch.Size([40, 1, 6067])\n",
            "After layer 0: shape=torch.Size([40, 512, 380])\n",
            "After layer 1: shape=torch.Size([40, 1024, 48])\n",
            "After layer 2: shape=torch.Size([40, 2048, 1])\n",
            "Input: shape=torch.Size([40, 1024])\n",
            "After reshape: shape=torch.Size([40, 1024, 1])\n",
            "After layer 0: shape=torch.Size([40, 512, 48])\n",
            "After layer 1: shape=torch.Size([40, 256, 378])\n",
            "After layer 2: shape=torch.Size([40, 1, 6034])\n"
          ]
        },
        {
          "output_type": "stream",
          "name": "stderr",
          "text": [
            "\n"
          ]
        },
        {
          "output_type": "stream",
          "name": "stdout",
          "text": [
            "Input: shape=torch.Size([9, 1, 6067])\n",
            "After layer 0: shape=torch.Size([9, 512, 380])\n",
            "After layer 1: shape=torch.Size([9, 1024, 48])\n",
            "After layer 2: shape=torch.Size([9, 2048, 1])\n",
            "Input: shape=torch.Size([9, 1024])\n",
            "After reshape: shape=torch.Size([9, 1024, 1])\n",
            "After layer 0: shape=torch.Size([9, 512, 48])\n",
            "After layer 1: shape=torch.Size([9, 256, 378])\n",
            "After layer 2: shape=torch.Size([9, 1, 6034])\n",
            "Epoch 76\n"
          ]
        },
        {
          "output_type": "stream",
          "name": "stderr",
          "text": [
            " 50%|█████     | 1/2 [00:00<00:00,  8.13it/s]"
          ]
        },
        {
          "output_type": "stream",
          "name": "stdout",
          "text": [
            "Input: shape=torch.Size([49, 1, 6067])\n",
            "After layer 0: shape=torch.Size([49, 512, 380])\n",
            "After layer 1: shape=torch.Size([49, 1024, 48])\n",
            "After layer 2: shape=torch.Size([49, 2048, 1])\n",
            "Input: shape=torch.Size([49, 1024])\n",
            "After reshape: shape=torch.Size([49, 1024, 1])\n",
            "After layer 0: shape=torch.Size([49, 512, 48])\n",
            "After layer 1: shape=torch.Size([49, 256, 378])\n",
            "After layer 2: shape=torch.Size([49, 1, 6034])\n"
          ]
        },
        {
          "output_type": "stream",
          "name": "stderr",
          "text": [
            "100%|██████████| 2/2 [00:00<00:00,  4.13it/s]"
          ]
        },
        {
          "output_type": "stream",
          "name": "stdout",
          "text": [
            "Input: shape=torch.Size([40, 1, 6067])\n",
            "After layer 0: shape=torch.Size([40, 512, 380])\n",
            "After layer 1: shape=torch.Size([40, 1024, 48])\n",
            "After layer 2: shape=torch.Size([40, 2048, 1])\n",
            "Input: shape=torch.Size([40, 1024])\n",
            "After reshape: shape=torch.Size([40, 1024, 1])\n",
            "After layer 0: shape=torch.Size([40, 512, 48])\n",
            "After layer 1: shape=torch.Size([40, 256, 378])\n",
            "After layer 2: shape=torch.Size([40, 1, 6034])\n"
          ]
        },
        {
          "output_type": "stream",
          "name": "stderr",
          "text": [
            "\n"
          ]
        },
        {
          "output_type": "stream",
          "name": "stdout",
          "text": [
            "Input: shape=torch.Size([9, 1, 6067])\n",
            "After layer 0: shape=torch.Size([9, 512, 380])\n",
            "After layer 1: shape=torch.Size([9, 1024, 48])\n",
            "After layer 2: shape=torch.Size([9, 2048, 1])\n",
            "Input: shape=torch.Size([9, 1024])\n",
            "After reshape: shape=torch.Size([9, 1024, 1])\n",
            "After layer 0: shape=torch.Size([9, 512, 48])\n",
            "After layer 1: shape=torch.Size([9, 256, 378])\n",
            "After layer 2: shape=torch.Size([9, 1, 6034])\n",
            "Epoch 77\n"
          ]
        },
        {
          "output_type": "stream",
          "name": "stderr",
          "text": [
            "\r  0%|          | 0/2 [00:00<?, ?it/s]"
          ]
        },
        {
          "output_type": "stream",
          "name": "stdout",
          "text": [
            "Input: shape=torch.Size([49, 1, 6067])\n",
            "After layer 0: shape=torch.Size([49, 512, 380])\n",
            "After layer 1: shape=torch.Size([49, 1024, 48])\n",
            "After layer 2: shape=torch.Size([49, 2048, 1])\n",
            "Input: shape=torch.Size([49, 1024])\n",
            "After reshape: shape=torch.Size([49, 1024, 1])\n",
            "After layer 0: shape=torch.Size([49, 512, 48])\n",
            "After layer 1: shape=torch.Size([49, 256, 378])\n",
            "After layer 2: shape=torch.Size([49, 1, 6034])\n"
          ]
        },
        {
          "output_type": "stream",
          "name": "stderr",
          "text": [
            "100%|██████████| 2/2 [00:00<00:00,  3.97it/s]"
          ]
        },
        {
          "output_type": "stream",
          "name": "stdout",
          "text": [
            "Input: shape=torch.Size([40, 1, 6067])\n",
            "After layer 0: shape=torch.Size([40, 512, 380])\n",
            "After layer 1: shape=torch.Size([40, 1024, 48])\n",
            "After layer 2: shape=torch.Size([40, 2048, 1])\n",
            "Input: shape=torch.Size([40, 1024])\n",
            "After reshape: shape=torch.Size([40, 1024, 1])\n",
            "After layer 0: shape=torch.Size([40, 512, 48])\n",
            "After layer 1: shape=torch.Size([40, 256, 378])\n",
            "After layer 2: shape=torch.Size([40, 1, 6034])\n"
          ]
        },
        {
          "output_type": "stream",
          "name": "stderr",
          "text": [
            "\n"
          ]
        },
        {
          "output_type": "stream",
          "name": "stdout",
          "text": [
            "Input: shape=torch.Size([9, 1, 6067])\n",
            "After layer 0: shape=torch.Size([9, 512, 380])\n",
            "After layer 1: shape=torch.Size([9, 1024, 48])\n",
            "After layer 2: shape=torch.Size([9, 2048, 1])\n",
            "Input: shape=torch.Size([9, 1024])\n",
            "After reshape: shape=torch.Size([9, 1024, 1])\n",
            "After layer 0: shape=torch.Size([9, 512, 48])\n",
            "After layer 1: shape=torch.Size([9, 256, 378])\n",
            "After layer 2: shape=torch.Size([9, 1, 6034])\n",
            "Epoch 78\n"
          ]
        },
        {
          "output_type": "stream",
          "name": "stderr",
          "text": [
            "\r  0%|          | 0/2 [00:00<?, ?it/s]"
          ]
        },
        {
          "output_type": "stream",
          "name": "stdout",
          "text": [
            "Input: shape=torch.Size([49, 1, 6067])\n",
            "After layer 0: shape=torch.Size([49, 512, 380])\n",
            "After layer 1: shape=torch.Size([49, 1024, 48])\n",
            "After layer 2: shape=torch.Size([49, 2048, 1])\n",
            "Input: shape=torch.Size([49, 1024])\n",
            "After reshape: shape=torch.Size([49, 1024, 1])\n",
            "After layer 0: shape=torch.Size([49, 512, 48])\n",
            "After layer 1: shape=torch.Size([49, 256, 378])\n",
            "After layer 2: shape=torch.Size([49, 1, 6034])\n"
          ]
        },
        {
          "output_type": "stream",
          "name": "stderr",
          "text": [
            "100%|██████████| 2/2 [00:00<00:00,  4.04it/s]"
          ]
        },
        {
          "output_type": "stream",
          "name": "stdout",
          "text": [
            "Input: shape=torch.Size([40, 1, 6067])\n",
            "After layer 0: shape=torch.Size([40, 512, 380])\n",
            "After layer 1: shape=torch.Size([40, 1024, 48])\n",
            "After layer 2: shape=torch.Size([40, 2048, 1])\n",
            "Input: shape=torch.Size([40, 1024])\n",
            "After reshape: shape=torch.Size([40, 1024, 1])\n",
            "After layer 0: shape=torch.Size([40, 512, 48])\n",
            "After layer 1: shape=torch.Size([40, 256, 378])\n",
            "After layer 2: shape=torch.Size([40, 1, 6034])\n"
          ]
        },
        {
          "output_type": "stream",
          "name": "stderr",
          "text": [
            "\n"
          ]
        },
        {
          "output_type": "stream",
          "name": "stdout",
          "text": [
            "Input: shape=torch.Size([9, 1, 6067])\n",
            "After layer 0: shape=torch.Size([9, 512, 380])\n",
            "After layer 1: shape=torch.Size([9, 1024, 48])\n",
            "After layer 2: shape=torch.Size([9, 2048, 1])\n",
            "Input: shape=torch.Size([9, 1024])\n",
            "After reshape: shape=torch.Size([9, 1024, 1])\n",
            "After layer 0: shape=torch.Size([9, 512, 48])\n",
            "After layer 1: shape=torch.Size([9, 256, 378])\n",
            "After layer 2: shape=torch.Size([9, 1, 6034])\n",
            "Epoch 79\n"
          ]
        },
        {
          "output_type": "stream",
          "name": "stderr",
          "text": [
            " 50%|█████     | 1/2 [00:00<00:00,  8.22it/s]"
          ]
        },
        {
          "output_type": "stream",
          "name": "stdout",
          "text": [
            "Input: shape=torch.Size([49, 1, 6067])\n",
            "After layer 0: shape=torch.Size([49, 512, 380])\n",
            "After layer 1: shape=torch.Size([49, 1024, 48])\n",
            "After layer 2: shape=torch.Size([49, 2048, 1])\n",
            "Input: shape=torch.Size([49, 1024])\n",
            "After reshape: shape=torch.Size([49, 1024, 1])\n",
            "After layer 0: shape=torch.Size([49, 512, 48])\n",
            "After layer 1: shape=torch.Size([49, 256, 378])\n",
            "After layer 2: shape=torch.Size([49, 1, 6034])\n"
          ]
        },
        {
          "output_type": "stream",
          "name": "stderr",
          "text": [
            "100%|██████████| 2/2 [00:00<00:00,  4.18it/s]"
          ]
        },
        {
          "output_type": "stream",
          "name": "stdout",
          "text": [
            "Input: shape=torch.Size([40, 1, 6067])\n",
            "After layer 0: shape=torch.Size([40, 512, 380])\n",
            "After layer 1: shape=torch.Size([40, 1024, 48])\n",
            "After layer 2: shape=torch.Size([40, 2048, 1])\n",
            "Input: shape=torch.Size([40, 1024])\n",
            "After reshape: shape=torch.Size([40, 1024, 1])\n",
            "After layer 0: shape=torch.Size([40, 512, 48])\n",
            "After layer 1: shape=torch.Size([40, 256, 378])\n",
            "After layer 2: shape=torch.Size([40, 1, 6034])\n"
          ]
        },
        {
          "output_type": "stream",
          "name": "stderr",
          "text": [
            "\n"
          ]
        },
        {
          "output_type": "stream",
          "name": "stdout",
          "text": [
            "Input: shape=torch.Size([9, 1, 6067])\n",
            "After layer 0: shape=torch.Size([9, 512, 380])\n",
            "After layer 1: shape=torch.Size([9, 1024, 48])\n",
            "After layer 2: shape=torch.Size([9, 2048, 1])\n",
            "Input: shape=torch.Size([9, 1024])\n",
            "After reshape: shape=torch.Size([9, 1024, 1])\n",
            "After layer 0: shape=torch.Size([9, 512, 48])\n",
            "After layer 1: shape=torch.Size([9, 256, 378])\n",
            "After layer 2: shape=torch.Size([9, 1, 6034])\n",
            "Epoch 80\n"
          ]
        },
        {
          "output_type": "stream",
          "name": "stderr",
          "text": [
            " 50%|█████     | 1/2 [00:00<00:00,  8.09it/s]"
          ]
        },
        {
          "output_type": "stream",
          "name": "stdout",
          "text": [
            "Input: shape=torch.Size([49, 1, 6067])\n",
            "After layer 0: shape=torch.Size([49, 512, 380])\n",
            "After layer 1: shape=torch.Size([49, 1024, 48])\n",
            "After layer 2: shape=torch.Size([49, 2048, 1])\n",
            "Input: shape=torch.Size([49, 1024])\n",
            "After reshape: shape=torch.Size([49, 1024, 1])\n",
            "After layer 0: shape=torch.Size([49, 512, 48])\n",
            "After layer 1: shape=torch.Size([49, 256, 378])\n",
            "After layer 2: shape=torch.Size([49, 1, 6034])\n"
          ]
        },
        {
          "output_type": "stream",
          "name": "stderr",
          "text": [
            "100%|██████████| 2/2 [00:00<00:00,  4.17it/s]"
          ]
        },
        {
          "output_type": "stream",
          "name": "stdout",
          "text": [
            "Input: shape=torch.Size([40, 1, 6067])\n",
            "After layer 0: shape=torch.Size([40, 512, 380])\n",
            "After layer 1: shape=torch.Size([40, 1024, 48])\n",
            "After layer 2: shape=torch.Size([40, 2048, 1])\n",
            "Input: shape=torch.Size([40, 1024])\n",
            "After reshape: shape=torch.Size([40, 1024, 1])\n",
            "After layer 0: shape=torch.Size([40, 512, 48])\n",
            "After layer 1: shape=torch.Size([40, 256, 378])\n",
            "After layer 2: shape=torch.Size([40, 1, 6034])\n"
          ]
        },
        {
          "output_type": "stream",
          "name": "stderr",
          "text": [
            "\n"
          ]
        },
        {
          "output_type": "stream",
          "name": "stdout",
          "text": [
            "Input: shape=torch.Size([9, 1, 6067])\n",
            "After layer 0: shape=torch.Size([9, 512, 380])\n",
            "After layer 1: shape=torch.Size([9, 1024, 48])\n",
            "After layer 2: shape=torch.Size([9, 2048, 1])\n",
            "Input: shape=torch.Size([9, 1024])\n",
            "After reshape: shape=torch.Size([9, 1024, 1])\n",
            "After layer 0: shape=torch.Size([9, 512, 48])\n",
            "After layer 1: shape=torch.Size([9, 256, 378])\n",
            "After layer 2: shape=torch.Size([9, 1, 6034])\n",
            "Epoch 81\n"
          ]
        },
        {
          "output_type": "stream",
          "name": "stderr",
          "text": [
            " 50%|█████     | 1/2 [00:00<00:00,  8.10it/s]"
          ]
        },
        {
          "output_type": "stream",
          "name": "stdout",
          "text": [
            "Input: shape=torch.Size([49, 1, 6067])\n",
            "After layer 0: shape=torch.Size([49, 512, 380])\n",
            "After layer 1: shape=torch.Size([49, 1024, 48])\n",
            "After layer 2: shape=torch.Size([49, 2048, 1])\n",
            "Input: shape=torch.Size([49, 1024])\n",
            "After reshape: shape=torch.Size([49, 1024, 1])\n",
            "After layer 0: shape=torch.Size([49, 512, 48])\n",
            "After layer 1: shape=torch.Size([49, 256, 378])\n",
            "After layer 2: shape=torch.Size([49, 1, 6034])\n"
          ]
        },
        {
          "output_type": "stream",
          "name": "stderr",
          "text": [
            "100%|██████████| 2/2 [00:00<00:00,  4.21it/s]"
          ]
        },
        {
          "output_type": "stream",
          "name": "stdout",
          "text": [
            "Input: shape=torch.Size([40, 1, 6067])\n",
            "After layer 0: shape=torch.Size([40, 512, 380])\n",
            "After layer 1: shape=torch.Size([40, 1024, 48])\n",
            "After layer 2: shape=torch.Size([40, 2048, 1])\n",
            "Input: shape=torch.Size([40, 1024])\n",
            "After reshape: shape=torch.Size([40, 1024, 1])\n",
            "After layer 0: shape=torch.Size([40, 512, 48])\n",
            "After layer 1: shape=torch.Size([40, 256, 378])\n",
            "After layer 2: shape=torch.Size([40, 1, 6034])\n"
          ]
        },
        {
          "output_type": "stream",
          "name": "stderr",
          "text": [
            "\n"
          ]
        },
        {
          "output_type": "stream",
          "name": "stdout",
          "text": [
            "Input: shape=torch.Size([9, 1, 6067])\n",
            "After layer 0: shape=torch.Size([9, 512, 380])\n",
            "After layer 1: shape=torch.Size([9, 1024, 48])\n",
            "After layer 2: shape=torch.Size([9, 2048, 1])\n",
            "Input: shape=torch.Size([9, 1024])\n",
            "After reshape: shape=torch.Size([9, 1024, 1])\n",
            "After layer 0: shape=torch.Size([9, 512, 48])\n",
            "After layer 1: shape=torch.Size([9, 256, 378])\n",
            "After layer 2: shape=torch.Size([9, 1, 6034])\n",
            "Epoch 82\n"
          ]
        },
        {
          "output_type": "stream",
          "name": "stderr",
          "text": [
            " 50%|█████     | 1/2 [00:00<00:00,  8.22it/s]"
          ]
        },
        {
          "output_type": "stream",
          "name": "stdout",
          "text": [
            "Input: shape=torch.Size([49, 1, 6067])\n",
            "After layer 0: shape=torch.Size([49, 512, 380])\n",
            "After layer 1: shape=torch.Size([49, 1024, 48])\n",
            "After layer 2: shape=torch.Size([49, 2048, 1])\n",
            "Input: shape=torch.Size([49, 1024])\n",
            "After reshape: shape=torch.Size([49, 1024, 1])\n",
            "After layer 0: shape=torch.Size([49, 512, 48])\n",
            "After layer 1: shape=torch.Size([49, 256, 378])\n",
            "After layer 2: shape=torch.Size([49, 1, 6034])\n"
          ]
        },
        {
          "output_type": "stream",
          "name": "stderr",
          "text": [
            "100%|██████████| 2/2 [00:00<00:00,  4.16it/s]"
          ]
        },
        {
          "output_type": "stream",
          "name": "stdout",
          "text": [
            "Input: shape=torch.Size([40, 1, 6067])\n",
            "After layer 0: shape=torch.Size([40, 512, 380])\n",
            "After layer 1: shape=torch.Size([40, 1024, 48])\n",
            "After layer 2: shape=torch.Size([40, 2048, 1])\n",
            "Input: shape=torch.Size([40, 1024])\n",
            "After reshape: shape=torch.Size([40, 1024, 1])\n",
            "After layer 0: shape=torch.Size([40, 512, 48])\n",
            "After layer 1: shape=torch.Size([40, 256, 378])\n",
            "After layer 2: shape=torch.Size([40, 1, 6034])\n"
          ]
        },
        {
          "output_type": "stream",
          "name": "stderr",
          "text": [
            "\n"
          ]
        },
        {
          "output_type": "stream",
          "name": "stdout",
          "text": [
            "Input: shape=torch.Size([9, 1, 6067])\n",
            "After layer 0: shape=torch.Size([9, 512, 380])\n",
            "After layer 1: shape=torch.Size([9, 1024, 48])\n",
            "After layer 2: shape=torch.Size([9, 2048, 1])\n",
            "Input: shape=torch.Size([9, 1024])\n",
            "After reshape: shape=torch.Size([9, 1024, 1])\n",
            "After layer 0: shape=torch.Size([9, 512, 48])\n",
            "After layer 1: shape=torch.Size([9, 256, 378])\n",
            "After layer 2: shape=torch.Size([9, 1, 6034])\n",
            "Epoch 83\n"
          ]
        },
        {
          "output_type": "stream",
          "name": "stderr",
          "text": [
            " 50%|█████     | 1/2 [00:00<00:00,  8.23it/s]"
          ]
        },
        {
          "output_type": "stream",
          "name": "stdout",
          "text": [
            "Input: shape=torch.Size([49, 1, 6067])\n",
            "After layer 0: shape=torch.Size([49, 512, 380])\n",
            "After layer 1: shape=torch.Size([49, 1024, 48])\n",
            "After layer 2: shape=torch.Size([49, 2048, 1])\n",
            "Input: shape=torch.Size([49, 1024])\n",
            "After reshape: shape=torch.Size([49, 1024, 1])\n",
            "After layer 0: shape=torch.Size([49, 512, 48])\n",
            "After layer 1: shape=torch.Size([49, 256, 378])\n",
            "After layer 2: shape=torch.Size([49, 1, 6034])\n"
          ]
        },
        {
          "output_type": "stream",
          "name": "stderr",
          "text": [
            "100%|██████████| 2/2 [00:00<00:00,  4.21it/s]"
          ]
        },
        {
          "output_type": "stream",
          "name": "stdout",
          "text": [
            "Input: shape=torch.Size([40, 1, 6067])\n",
            "After layer 0: shape=torch.Size([40, 512, 380])\n",
            "After layer 1: shape=torch.Size([40, 1024, 48])\n",
            "After layer 2: shape=torch.Size([40, 2048, 1])\n",
            "Input: shape=torch.Size([40, 1024])\n",
            "After reshape: shape=torch.Size([40, 1024, 1])\n",
            "After layer 0: shape=torch.Size([40, 512, 48])\n",
            "After layer 1: shape=torch.Size([40, 256, 378])\n",
            "After layer 2: shape=torch.Size([40, 1, 6034])\n"
          ]
        },
        {
          "output_type": "stream",
          "name": "stderr",
          "text": [
            "\n"
          ]
        },
        {
          "output_type": "stream",
          "name": "stdout",
          "text": [
            "Input: shape=torch.Size([9, 1, 6067])\n",
            "After layer 0: shape=torch.Size([9, 512, 380])\n",
            "After layer 1: shape=torch.Size([9, 1024, 48])\n",
            "After layer 2: shape=torch.Size([9, 2048, 1])\n",
            "Input: shape=torch.Size([9, 1024])\n",
            "After reshape: shape=torch.Size([9, 1024, 1])\n",
            "After layer 0: shape=torch.Size([9, 512, 48])\n",
            "After layer 1: shape=torch.Size([9, 256, 378])\n",
            "After layer 2: shape=torch.Size([9, 1, 6034])\n",
            "Epoch 84\n"
          ]
        },
        {
          "output_type": "stream",
          "name": "stderr",
          "text": [
            " 50%|█████     | 1/2 [00:00<00:00,  8.12it/s]"
          ]
        },
        {
          "output_type": "stream",
          "name": "stdout",
          "text": [
            "Input: shape=torch.Size([49, 1, 6067])\n",
            "After layer 0: shape=torch.Size([49, 512, 380])\n",
            "After layer 1: shape=torch.Size([49, 1024, 48])\n",
            "After layer 2: shape=torch.Size([49, 2048, 1])\n",
            "Input: shape=torch.Size([49, 1024])\n",
            "After reshape: shape=torch.Size([49, 1024, 1])\n",
            "After layer 0: shape=torch.Size([49, 512, 48])\n",
            "After layer 1: shape=torch.Size([49, 256, 378])\n",
            "After layer 2: shape=torch.Size([49, 1, 6034])\n"
          ]
        },
        {
          "output_type": "stream",
          "name": "stderr",
          "text": [
            "100%|██████████| 2/2 [00:00<00:00,  4.18it/s]"
          ]
        },
        {
          "output_type": "stream",
          "name": "stdout",
          "text": [
            "Input: shape=torch.Size([40, 1, 6067])\n",
            "After layer 0: shape=torch.Size([40, 512, 380])\n",
            "After layer 1: shape=torch.Size([40, 1024, 48])\n",
            "After layer 2: shape=torch.Size([40, 2048, 1])\n",
            "Input: shape=torch.Size([40, 1024])\n",
            "After reshape: shape=torch.Size([40, 1024, 1])\n",
            "After layer 0: shape=torch.Size([40, 512, 48])\n",
            "After layer 1: shape=torch.Size([40, 256, 378])\n",
            "After layer 2: shape=torch.Size([40, 1, 6034])\n"
          ]
        },
        {
          "output_type": "stream",
          "name": "stderr",
          "text": [
            "\n"
          ]
        },
        {
          "output_type": "stream",
          "name": "stdout",
          "text": [
            "Input: shape=torch.Size([9, 1, 6067])\n",
            "After layer 0: shape=torch.Size([9, 512, 380])\n",
            "After layer 1: shape=torch.Size([9, 1024, 48])\n",
            "After layer 2: shape=torch.Size([9, 2048, 1])\n",
            "Input: shape=torch.Size([9, 1024])\n",
            "After reshape: shape=torch.Size([9, 1024, 1])\n",
            "After layer 0: shape=torch.Size([9, 512, 48])\n",
            "After layer 1: shape=torch.Size([9, 256, 378])\n",
            "After layer 2: shape=torch.Size([9, 1, 6034])\n",
            "Epoch 85\n"
          ]
        },
        {
          "output_type": "stream",
          "name": "stderr",
          "text": [
            " 50%|█████     | 1/2 [00:00<00:00,  8.05it/s]"
          ]
        },
        {
          "output_type": "stream",
          "name": "stdout",
          "text": [
            "Input: shape=torch.Size([49, 1, 6067])\n",
            "After layer 0: shape=torch.Size([49, 512, 380])\n",
            "After layer 1: shape=torch.Size([49, 1024, 48])\n",
            "After layer 2: shape=torch.Size([49, 2048, 1])\n",
            "Input: shape=torch.Size([49, 1024])\n",
            "After reshape: shape=torch.Size([49, 1024, 1])\n",
            "After layer 0: shape=torch.Size([49, 512, 48])\n",
            "After layer 1: shape=torch.Size([49, 256, 378])\n",
            "After layer 2: shape=torch.Size([49, 1, 6034])\n"
          ]
        },
        {
          "output_type": "stream",
          "name": "stderr",
          "text": [
            "100%|██████████| 2/2 [00:00<00:00,  4.17it/s]"
          ]
        },
        {
          "output_type": "stream",
          "name": "stdout",
          "text": [
            "Input: shape=torch.Size([40, 1, 6067])\n",
            "After layer 0: shape=torch.Size([40, 512, 380])\n",
            "After layer 1: shape=torch.Size([40, 1024, 48])\n",
            "After layer 2: shape=torch.Size([40, 2048, 1])\n",
            "Input: shape=torch.Size([40, 1024])\n",
            "After reshape: shape=torch.Size([40, 1024, 1])\n",
            "After layer 0: shape=torch.Size([40, 512, 48])\n",
            "After layer 1: shape=torch.Size([40, 256, 378])\n",
            "After layer 2: shape=torch.Size([40, 1, 6034])\n"
          ]
        },
        {
          "output_type": "stream",
          "name": "stderr",
          "text": [
            "\n"
          ]
        },
        {
          "output_type": "stream",
          "name": "stdout",
          "text": [
            "Input: shape=torch.Size([9, 1, 6067])\n",
            "After layer 0: shape=torch.Size([9, 512, 380])\n",
            "After layer 1: shape=torch.Size([9, 1024, 48])\n",
            "After layer 2: shape=torch.Size([9, 2048, 1])\n",
            "Input: shape=torch.Size([9, 1024])\n",
            "After reshape: shape=torch.Size([9, 1024, 1])\n",
            "After layer 0: shape=torch.Size([9, 512, 48])\n",
            "After layer 1: shape=torch.Size([9, 256, 378])\n",
            "After layer 2: shape=torch.Size([9, 1, 6034])\n",
            "Epoch 86\n"
          ]
        },
        {
          "output_type": "stream",
          "name": "stderr",
          "text": [
            " 50%|█████     | 1/2 [00:00<00:00,  8.14it/s]"
          ]
        },
        {
          "output_type": "stream",
          "name": "stdout",
          "text": [
            "Input: shape=torch.Size([49, 1, 6067])\n",
            "After layer 0: shape=torch.Size([49, 512, 380])\n",
            "After layer 1: shape=torch.Size([49, 1024, 48])\n",
            "After layer 2: shape=torch.Size([49, 2048, 1])\n",
            "Input: shape=torch.Size([49, 1024])\n",
            "After reshape: shape=torch.Size([49, 1024, 1])\n",
            "After layer 0: shape=torch.Size([49, 512, 48])\n",
            "After layer 1: shape=torch.Size([49, 256, 378])\n",
            "After layer 2: shape=torch.Size([49, 1, 6034])\n"
          ]
        },
        {
          "output_type": "stream",
          "name": "stderr",
          "text": [
            "100%|██████████| 2/2 [00:00<00:00,  4.17it/s]"
          ]
        },
        {
          "output_type": "stream",
          "name": "stdout",
          "text": [
            "Input: shape=torch.Size([40, 1, 6067])\n",
            "After layer 0: shape=torch.Size([40, 512, 380])\n",
            "After layer 1: shape=torch.Size([40, 1024, 48])\n",
            "After layer 2: shape=torch.Size([40, 2048, 1])\n",
            "Input: shape=torch.Size([40, 1024])\n",
            "After reshape: shape=torch.Size([40, 1024, 1])\n",
            "After layer 0: shape=torch.Size([40, 512, 48])\n",
            "After layer 1: shape=torch.Size([40, 256, 378])\n",
            "After layer 2: shape=torch.Size([40, 1, 6034])\n"
          ]
        },
        {
          "output_type": "stream",
          "name": "stderr",
          "text": [
            "\n"
          ]
        },
        {
          "output_type": "stream",
          "name": "stdout",
          "text": [
            "Input: shape=torch.Size([9, 1, 6067])\n",
            "After layer 0: shape=torch.Size([9, 512, 380])\n",
            "After layer 1: shape=torch.Size([9, 1024, 48])\n",
            "After layer 2: shape=torch.Size([9, 2048, 1])\n",
            "Input: shape=torch.Size([9, 1024])\n",
            "After reshape: shape=torch.Size([9, 1024, 1])\n",
            "After layer 0: shape=torch.Size([9, 512, 48])\n",
            "After layer 1: shape=torch.Size([9, 256, 378])\n",
            "After layer 2: shape=torch.Size([9, 1, 6034])\n",
            "Epoch 87\n"
          ]
        },
        {
          "output_type": "stream",
          "name": "stderr",
          "text": [
            " 50%|█████     | 1/2 [00:00<00:00,  8.14it/s]"
          ]
        },
        {
          "output_type": "stream",
          "name": "stdout",
          "text": [
            "Input: shape=torch.Size([49, 1, 6067])\n",
            "After layer 0: shape=torch.Size([49, 512, 380])\n",
            "After layer 1: shape=torch.Size([49, 1024, 48])\n",
            "After layer 2: shape=torch.Size([49, 2048, 1])\n",
            "Input: shape=torch.Size([49, 1024])\n",
            "After reshape: shape=torch.Size([49, 1024, 1])\n",
            "After layer 0: shape=torch.Size([49, 512, 48])\n",
            "After layer 1: shape=torch.Size([49, 256, 378])\n",
            "After layer 2: shape=torch.Size([49, 1, 6034])\n"
          ]
        },
        {
          "output_type": "stream",
          "name": "stderr",
          "text": [
            "100%|██████████| 2/2 [00:00<00:00,  4.18it/s]"
          ]
        },
        {
          "output_type": "stream",
          "name": "stdout",
          "text": [
            "Input: shape=torch.Size([40, 1, 6067])\n",
            "After layer 0: shape=torch.Size([40, 512, 380])\n",
            "After layer 1: shape=torch.Size([40, 1024, 48])\n",
            "After layer 2: shape=torch.Size([40, 2048, 1])\n",
            "Input: shape=torch.Size([40, 1024])\n",
            "After reshape: shape=torch.Size([40, 1024, 1])\n",
            "After layer 0: shape=torch.Size([40, 512, 48])\n",
            "After layer 1: shape=torch.Size([40, 256, 378])\n",
            "After layer 2: shape=torch.Size([40, 1, 6034])\n"
          ]
        },
        {
          "output_type": "stream",
          "name": "stderr",
          "text": [
            "\n"
          ]
        },
        {
          "output_type": "stream",
          "name": "stdout",
          "text": [
            "Input: shape=torch.Size([9, 1, 6067])\n",
            "After layer 0: shape=torch.Size([9, 512, 380])\n",
            "After layer 1: shape=torch.Size([9, 1024, 48])\n",
            "After layer 2: shape=torch.Size([9, 2048, 1])\n",
            "Input: shape=torch.Size([9, 1024])\n",
            "After reshape: shape=torch.Size([9, 1024, 1])\n",
            "After layer 0: shape=torch.Size([9, 512, 48])\n",
            "After layer 1: shape=torch.Size([9, 256, 378])\n",
            "After layer 2: shape=torch.Size([9, 1, 6034])\n",
            "Epoch 88\n"
          ]
        },
        {
          "output_type": "stream",
          "name": "stderr",
          "text": [
            " 50%|█████     | 1/2 [00:00<00:00,  8.12it/s]"
          ]
        },
        {
          "output_type": "stream",
          "name": "stdout",
          "text": [
            "Input: shape=torch.Size([49, 1, 6067])\n",
            "After layer 0: shape=torch.Size([49, 512, 380])\n",
            "After layer 1: shape=torch.Size([49, 1024, 48])\n",
            "After layer 2: shape=torch.Size([49, 2048, 1])\n",
            "Input: shape=torch.Size([49, 1024])\n",
            "After reshape: shape=torch.Size([49, 1024, 1])\n",
            "After layer 0: shape=torch.Size([49, 512, 48])\n",
            "After layer 1: shape=torch.Size([49, 256, 378])\n",
            "After layer 2: shape=torch.Size([49, 1, 6034])\n"
          ]
        },
        {
          "output_type": "stream",
          "name": "stderr",
          "text": [
            "100%|██████████| 2/2 [00:00<00:00,  4.14it/s]"
          ]
        },
        {
          "output_type": "stream",
          "name": "stdout",
          "text": [
            "Input: shape=torch.Size([40, 1, 6067])\n",
            "After layer 0: shape=torch.Size([40, 512, 380])\n",
            "After layer 1: shape=torch.Size([40, 1024, 48])\n",
            "After layer 2: shape=torch.Size([40, 2048, 1])\n",
            "Input: shape=torch.Size([40, 1024])\n",
            "After reshape: shape=torch.Size([40, 1024, 1])\n",
            "After layer 0: shape=torch.Size([40, 512, 48])\n",
            "After layer 1: shape=torch.Size([40, 256, 378])\n",
            "After layer 2: shape=torch.Size([40, 1, 6034])\n"
          ]
        },
        {
          "output_type": "stream",
          "name": "stderr",
          "text": [
            "\n"
          ]
        },
        {
          "output_type": "stream",
          "name": "stdout",
          "text": [
            "Input: shape=torch.Size([9, 1, 6067])\n",
            "After layer 0: shape=torch.Size([9, 512, 380])\n",
            "After layer 1: shape=torch.Size([9, 1024, 48])\n",
            "After layer 2: shape=torch.Size([9, 2048, 1])\n",
            "Input: shape=torch.Size([9, 1024])\n",
            "After reshape: shape=torch.Size([9, 1024, 1])\n",
            "After layer 0: shape=torch.Size([9, 512, 48])\n",
            "After layer 1: shape=torch.Size([9, 256, 378])\n",
            "After layer 2: shape=torch.Size([9, 1, 6034])\n",
            "Epoch 89\n"
          ]
        },
        {
          "output_type": "stream",
          "name": "stderr",
          "text": [
            " 50%|█████     | 1/2 [00:00<00:00,  8.06it/s]"
          ]
        },
        {
          "output_type": "stream",
          "name": "stdout",
          "text": [
            "Input: shape=torch.Size([49, 1, 6067])\n",
            "After layer 0: shape=torch.Size([49, 512, 380])\n",
            "After layer 1: shape=torch.Size([49, 1024, 48])\n",
            "After layer 2: shape=torch.Size([49, 2048, 1])\n",
            "Input: shape=torch.Size([49, 1024])\n",
            "After reshape: shape=torch.Size([49, 1024, 1])\n",
            "After layer 0: shape=torch.Size([49, 512, 48])\n",
            "After layer 1: shape=torch.Size([49, 256, 378])\n",
            "After layer 2: shape=torch.Size([49, 1, 6034])\n"
          ]
        },
        {
          "output_type": "stream",
          "name": "stderr",
          "text": [
            "100%|██████████| 2/2 [00:00<00:00,  4.17it/s]"
          ]
        },
        {
          "output_type": "stream",
          "name": "stdout",
          "text": [
            "Input: shape=torch.Size([40, 1, 6067])\n",
            "After layer 0: shape=torch.Size([40, 512, 380])\n",
            "After layer 1: shape=torch.Size([40, 1024, 48])\n",
            "After layer 2: shape=torch.Size([40, 2048, 1])\n",
            "Input: shape=torch.Size([40, 1024])\n",
            "After reshape: shape=torch.Size([40, 1024, 1])\n",
            "After layer 0: shape=torch.Size([40, 512, 48])\n",
            "After layer 1: shape=torch.Size([40, 256, 378])\n",
            "After layer 2: shape=torch.Size([40, 1, 6034])\n"
          ]
        },
        {
          "output_type": "stream",
          "name": "stderr",
          "text": [
            "\n"
          ]
        },
        {
          "output_type": "stream",
          "name": "stdout",
          "text": [
            "Input: shape=torch.Size([9, 1, 6067])\n",
            "After layer 0: shape=torch.Size([9, 512, 380])\n",
            "After layer 1: shape=torch.Size([9, 1024, 48])\n",
            "After layer 2: shape=torch.Size([9, 2048, 1])\n",
            "Input: shape=torch.Size([9, 1024])\n",
            "After reshape: shape=torch.Size([9, 1024, 1])\n",
            "After layer 0: shape=torch.Size([9, 512, 48])\n",
            "After layer 1: shape=torch.Size([9, 256, 378])\n",
            "After layer 2: shape=torch.Size([9, 1, 6034])\n",
            "Epoch 90\n"
          ]
        },
        {
          "output_type": "stream",
          "name": "stderr",
          "text": [
            " 50%|█████     | 1/2 [00:00<00:00,  8.11it/s]"
          ]
        },
        {
          "output_type": "stream",
          "name": "stdout",
          "text": [
            "Input: shape=torch.Size([49, 1, 6067])\n",
            "After layer 0: shape=torch.Size([49, 512, 380])\n",
            "After layer 1: shape=torch.Size([49, 1024, 48])\n",
            "After layer 2: shape=torch.Size([49, 2048, 1])\n",
            "Input: shape=torch.Size([49, 1024])\n",
            "After reshape: shape=torch.Size([49, 1024, 1])\n",
            "After layer 0: shape=torch.Size([49, 512, 48])\n",
            "After layer 1: shape=torch.Size([49, 256, 378])\n",
            "After layer 2: shape=torch.Size([49, 1, 6034])\n"
          ]
        },
        {
          "output_type": "stream",
          "name": "stderr",
          "text": [
            "100%|██████████| 2/2 [00:00<00:00,  4.13it/s]"
          ]
        },
        {
          "output_type": "stream",
          "name": "stdout",
          "text": [
            "Input: shape=torch.Size([40, 1, 6067])\n",
            "After layer 0: shape=torch.Size([40, 512, 380])\n",
            "After layer 1: shape=torch.Size([40, 1024, 48])\n",
            "After layer 2: shape=torch.Size([40, 2048, 1])\n",
            "Input: shape=torch.Size([40, 1024])\n",
            "After reshape: shape=torch.Size([40, 1024, 1])\n",
            "After layer 0: shape=torch.Size([40, 512, 48])\n",
            "After layer 1: shape=torch.Size([40, 256, 378])\n",
            "After layer 2: shape=torch.Size([40, 1, 6034])\n"
          ]
        },
        {
          "output_type": "stream",
          "name": "stderr",
          "text": [
            "\n"
          ]
        },
        {
          "output_type": "stream",
          "name": "stdout",
          "text": [
            "Input: shape=torch.Size([9, 1, 6067])\n",
            "After layer 0: shape=torch.Size([9, 512, 380])\n",
            "After layer 1: shape=torch.Size([9, 1024, 48])\n",
            "After layer 2: shape=torch.Size([9, 2048, 1])\n",
            "Input: shape=torch.Size([9, 1024])\n",
            "After reshape: shape=torch.Size([9, 1024, 1])\n",
            "After layer 0: shape=torch.Size([9, 512, 48])\n",
            "After layer 1: shape=torch.Size([9, 256, 378])\n",
            "After layer 2: shape=torch.Size([9, 1, 6034])\n",
            "Epoch 91\n"
          ]
        },
        {
          "output_type": "stream",
          "name": "stderr",
          "text": [
            " 50%|█████     | 1/2 [00:00<00:00,  8.11it/s]"
          ]
        },
        {
          "output_type": "stream",
          "name": "stdout",
          "text": [
            "Input: shape=torch.Size([49, 1, 6067])\n",
            "After layer 0: shape=torch.Size([49, 512, 380])\n",
            "After layer 1: shape=torch.Size([49, 1024, 48])\n",
            "After layer 2: shape=torch.Size([49, 2048, 1])\n",
            "Input: shape=torch.Size([49, 1024])\n",
            "After reshape: shape=torch.Size([49, 1024, 1])\n",
            "After layer 0: shape=torch.Size([49, 512, 48])\n",
            "After layer 1: shape=torch.Size([49, 256, 378])\n",
            "After layer 2: shape=torch.Size([49, 1, 6034])\n"
          ]
        },
        {
          "output_type": "stream",
          "name": "stderr",
          "text": [
            "100%|██████████| 2/2 [00:00<00:00,  4.18it/s]"
          ]
        },
        {
          "output_type": "stream",
          "name": "stdout",
          "text": [
            "Input: shape=torch.Size([40, 1, 6067])\n",
            "After layer 0: shape=torch.Size([40, 512, 380])\n",
            "After layer 1: shape=torch.Size([40, 1024, 48])\n",
            "After layer 2: shape=torch.Size([40, 2048, 1])\n",
            "Input: shape=torch.Size([40, 1024])\n",
            "After reshape: shape=torch.Size([40, 1024, 1])\n",
            "After layer 0: shape=torch.Size([40, 512, 48])\n",
            "After layer 1: shape=torch.Size([40, 256, 378])\n",
            "After layer 2: shape=torch.Size([40, 1, 6034])\n"
          ]
        },
        {
          "output_type": "stream",
          "name": "stderr",
          "text": [
            "\n"
          ]
        },
        {
          "output_type": "stream",
          "name": "stdout",
          "text": [
            "Input: shape=torch.Size([9, 1, 6067])\n",
            "After layer 0: shape=torch.Size([9, 512, 380])\n",
            "After layer 1: shape=torch.Size([9, 1024, 48])\n",
            "After layer 2: shape=torch.Size([9, 2048, 1])\n",
            "Input: shape=torch.Size([9, 1024])\n",
            "After reshape: shape=torch.Size([9, 1024, 1])\n",
            "After layer 0: shape=torch.Size([9, 512, 48])\n",
            "After layer 1: shape=torch.Size([9, 256, 378])\n",
            "After layer 2: shape=torch.Size([9, 1, 6034])\n",
            "Epoch 92\n"
          ]
        },
        {
          "output_type": "stream",
          "name": "stderr",
          "text": [
            " 50%|█████     | 1/2 [00:00<00:00,  8.11it/s]"
          ]
        },
        {
          "output_type": "stream",
          "name": "stdout",
          "text": [
            "Input: shape=torch.Size([49, 1, 6067])\n",
            "After layer 0: shape=torch.Size([49, 512, 380])\n",
            "After layer 1: shape=torch.Size([49, 1024, 48])\n",
            "After layer 2: shape=torch.Size([49, 2048, 1])\n",
            "Input: shape=torch.Size([49, 1024])\n",
            "After reshape: shape=torch.Size([49, 1024, 1])\n",
            "After layer 0: shape=torch.Size([49, 512, 48])\n",
            "After layer 1: shape=torch.Size([49, 256, 378])\n",
            "After layer 2: shape=torch.Size([49, 1, 6034])\n"
          ]
        },
        {
          "output_type": "stream",
          "name": "stderr",
          "text": [
            "100%|██████████| 2/2 [00:00<00:00,  4.20it/s]"
          ]
        },
        {
          "output_type": "stream",
          "name": "stdout",
          "text": [
            "Input: shape=torch.Size([40, 1, 6067])\n",
            "After layer 0: shape=torch.Size([40, 512, 380])\n",
            "After layer 1: shape=torch.Size([40, 1024, 48])\n",
            "After layer 2: shape=torch.Size([40, 2048, 1])\n",
            "Input: shape=torch.Size([40, 1024])\n",
            "After reshape: shape=torch.Size([40, 1024, 1])\n",
            "After layer 0: shape=torch.Size([40, 512, 48])\n",
            "After layer 1: shape=torch.Size([40, 256, 378])\n",
            "After layer 2: shape=torch.Size([40, 1, 6034])\n"
          ]
        },
        {
          "output_type": "stream",
          "name": "stderr",
          "text": [
            "\n"
          ]
        },
        {
          "output_type": "stream",
          "name": "stdout",
          "text": [
            "Input: shape=torch.Size([9, 1, 6067])\n",
            "After layer 0: shape=torch.Size([9, 512, 380])\n",
            "After layer 1: shape=torch.Size([9, 1024, 48])\n",
            "After layer 2: shape=torch.Size([9, 2048, 1])\n",
            "Input: shape=torch.Size([9, 1024])\n",
            "After reshape: shape=torch.Size([9, 1024, 1])\n",
            "After layer 0: shape=torch.Size([9, 512, 48])\n",
            "After layer 1: shape=torch.Size([9, 256, 378])\n",
            "After layer 2: shape=torch.Size([9, 1, 6034])\n",
            "Epoch 93\n"
          ]
        },
        {
          "output_type": "stream",
          "name": "stderr",
          "text": [
            " 50%|█████     | 1/2 [00:00<00:00,  8.12it/s]"
          ]
        },
        {
          "output_type": "stream",
          "name": "stdout",
          "text": [
            "Input: shape=torch.Size([49, 1, 6067])\n",
            "After layer 0: shape=torch.Size([49, 512, 380])\n",
            "After layer 1: shape=torch.Size([49, 1024, 48])\n",
            "After layer 2: shape=torch.Size([49, 2048, 1])\n",
            "Input: shape=torch.Size([49, 1024])\n",
            "After reshape: shape=torch.Size([49, 1024, 1])\n",
            "After layer 0: shape=torch.Size([49, 512, 48])\n",
            "After layer 1: shape=torch.Size([49, 256, 378])\n",
            "After layer 2: shape=torch.Size([49, 1, 6034])\n"
          ]
        },
        {
          "output_type": "stream",
          "name": "stderr",
          "text": [
            "100%|██████████| 2/2 [00:00<00:00,  4.19it/s]"
          ]
        },
        {
          "output_type": "stream",
          "name": "stdout",
          "text": [
            "Input: shape=torch.Size([40, 1, 6067])\n",
            "After layer 0: shape=torch.Size([40, 512, 380])\n",
            "After layer 1: shape=torch.Size([40, 1024, 48])\n",
            "After layer 2: shape=torch.Size([40, 2048, 1])\n",
            "Input: shape=torch.Size([40, 1024])\n",
            "After reshape: shape=torch.Size([40, 1024, 1])\n",
            "After layer 0: shape=torch.Size([40, 512, 48])\n",
            "After layer 1: shape=torch.Size([40, 256, 378])\n",
            "After layer 2: shape=torch.Size([40, 1, 6034])\n"
          ]
        },
        {
          "output_type": "stream",
          "name": "stderr",
          "text": [
            "\n"
          ]
        },
        {
          "output_type": "stream",
          "name": "stdout",
          "text": [
            "Input: shape=torch.Size([9, 1, 6067])\n",
            "After layer 0: shape=torch.Size([9, 512, 380])\n",
            "After layer 1: shape=torch.Size([9, 1024, 48])\n",
            "After layer 2: shape=torch.Size([9, 2048, 1])\n",
            "Input: shape=torch.Size([9, 1024])\n",
            "After reshape: shape=torch.Size([9, 1024, 1])\n",
            "After layer 0: shape=torch.Size([9, 512, 48])\n",
            "After layer 1: shape=torch.Size([9, 256, 378])\n",
            "After layer 2: shape=torch.Size([9, 1, 6034])\n",
            "Epoch 94\n"
          ]
        },
        {
          "output_type": "stream",
          "name": "stderr",
          "text": [
            " 50%|█████     | 1/2 [00:00<00:00,  8.19it/s]"
          ]
        },
        {
          "output_type": "stream",
          "name": "stdout",
          "text": [
            "Input: shape=torch.Size([49, 1, 6067])\n",
            "After layer 0: shape=torch.Size([49, 512, 380])\n",
            "After layer 1: shape=torch.Size([49, 1024, 48])\n",
            "After layer 2: shape=torch.Size([49, 2048, 1])\n",
            "Input: shape=torch.Size([49, 1024])\n",
            "After reshape: shape=torch.Size([49, 1024, 1])\n",
            "After layer 0: shape=torch.Size([49, 512, 48])\n",
            "After layer 1: shape=torch.Size([49, 256, 378])\n",
            "After layer 2: shape=torch.Size([49, 1, 6034])\n"
          ]
        },
        {
          "output_type": "stream",
          "name": "stderr",
          "text": [
            "100%|██████████| 2/2 [00:00<00:00,  4.17it/s]"
          ]
        },
        {
          "output_type": "stream",
          "name": "stdout",
          "text": [
            "Input: shape=torch.Size([40, 1, 6067])\n",
            "After layer 0: shape=torch.Size([40, 512, 380])\n",
            "After layer 1: shape=torch.Size([40, 1024, 48])\n",
            "After layer 2: shape=torch.Size([40, 2048, 1])\n",
            "Input: shape=torch.Size([40, 1024])\n",
            "After reshape: shape=torch.Size([40, 1024, 1])\n",
            "After layer 0: shape=torch.Size([40, 512, 48])\n",
            "After layer 1: shape=torch.Size([40, 256, 378])\n",
            "After layer 2: shape=torch.Size([40, 1, 6034])\n"
          ]
        },
        {
          "output_type": "stream",
          "name": "stderr",
          "text": [
            "\n"
          ]
        },
        {
          "output_type": "stream",
          "name": "stdout",
          "text": [
            "Input: shape=torch.Size([9, 1, 6067])\n",
            "After layer 0: shape=torch.Size([9, 512, 380])\n",
            "After layer 1: shape=torch.Size([9, 1024, 48])\n",
            "After layer 2: shape=torch.Size([9, 2048, 1])\n",
            "Input: shape=torch.Size([9, 1024])\n",
            "After reshape: shape=torch.Size([9, 1024, 1])\n",
            "After layer 0: shape=torch.Size([9, 512, 48])\n",
            "After layer 1: shape=torch.Size([9, 256, 378])\n",
            "After layer 2: shape=torch.Size([9, 1, 6034])\n",
            "Epoch 95\n"
          ]
        },
        {
          "output_type": "stream",
          "name": "stderr",
          "text": [
            " 50%|█████     | 1/2 [00:00<00:00,  8.02it/s]"
          ]
        },
        {
          "output_type": "stream",
          "name": "stdout",
          "text": [
            "Input: shape=torch.Size([49, 1, 6067])\n",
            "After layer 0: shape=torch.Size([49, 512, 380])\n",
            "After layer 1: shape=torch.Size([49, 1024, 48])\n",
            "After layer 2: shape=torch.Size([49, 2048, 1])\n",
            "Input: shape=torch.Size([49, 1024])\n",
            "After reshape: shape=torch.Size([49, 1024, 1])\n",
            "After layer 0: shape=torch.Size([49, 512, 48])\n",
            "After layer 1: shape=torch.Size([49, 256, 378])\n",
            "After layer 2: shape=torch.Size([49, 1, 6034])\n"
          ]
        },
        {
          "output_type": "stream",
          "name": "stderr",
          "text": [
            "100%|██████████| 2/2 [00:00<00:00,  4.16it/s]"
          ]
        },
        {
          "output_type": "stream",
          "name": "stdout",
          "text": [
            "Input: shape=torch.Size([40, 1, 6067])\n",
            "After layer 0: shape=torch.Size([40, 512, 380])\n",
            "After layer 1: shape=torch.Size([40, 1024, 48])\n",
            "After layer 2: shape=torch.Size([40, 2048, 1])\n",
            "Input: shape=torch.Size([40, 1024])\n",
            "After reshape: shape=torch.Size([40, 1024, 1])\n",
            "After layer 0: shape=torch.Size([40, 512, 48])\n",
            "After layer 1: shape=torch.Size([40, 256, 378])\n",
            "After layer 2: shape=torch.Size([40, 1, 6034])\n"
          ]
        },
        {
          "output_type": "stream",
          "name": "stderr",
          "text": [
            "\n"
          ]
        },
        {
          "output_type": "stream",
          "name": "stdout",
          "text": [
            "Input: shape=torch.Size([9, 1, 6067])\n",
            "After layer 0: shape=torch.Size([9, 512, 380])\n",
            "After layer 1: shape=torch.Size([9, 1024, 48])\n",
            "After layer 2: shape=torch.Size([9, 2048, 1])\n",
            "Input: shape=torch.Size([9, 1024])\n",
            "After reshape: shape=torch.Size([9, 1024, 1])\n",
            "After layer 0: shape=torch.Size([9, 512, 48])\n",
            "After layer 1: shape=torch.Size([9, 256, 378])\n",
            "After layer 2: shape=torch.Size([9, 1, 6034])\n",
            "Epoch 96\n"
          ]
        },
        {
          "output_type": "stream",
          "name": "stderr",
          "text": [
            " 50%|█████     | 1/2 [00:00<00:00,  8.07it/s]"
          ]
        },
        {
          "output_type": "stream",
          "name": "stdout",
          "text": [
            "Input: shape=torch.Size([49, 1, 6067])\n",
            "After layer 0: shape=torch.Size([49, 512, 380])\n",
            "After layer 1: shape=torch.Size([49, 1024, 48])\n",
            "After layer 2: shape=torch.Size([49, 2048, 1])\n",
            "Input: shape=torch.Size([49, 1024])\n",
            "After reshape: shape=torch.Size([49, 1024, 1])\n",
            "After layer 0: shape=torch.Size([49, 512, 48])\n",
            "After layer 1: shape=torch.Size([49, 256, 378])\n",
            "After layer 2: shape=torch.Size([49, 1, 6034])\n"
          ]
        },
        {
          "output_type": "stream",
          "name": "stderr",
          "text": [
            "100%|██████████| 2/2 [00:00<00:00,  4.17it/s]"
          ]
        },
        {
          "output_type": "stream",
          "name": "stdout",
          "text": [
            "Input: shape=torch.Size([40, 1, 6067])\n",
            "After layer 0: shape=torch.Size([40, 512, 380])\n",
            "After layer 1: shape=torch.Size([40, 1024, 48])\n",
            "After layer 2: shape=torch.Size([40, 2048, 1])\n",
            "Input: shape=torch.Size([40, 1024])\n",
            "After reshape: shape=torch.Size([40, 1024, 1])\n",
            "After layer 0: shape=torch.Size([40, 512, 48])\n",
            "After layer 1: shape=torch.Size([40, 256, 378])\n",
            "After layer 2: shape=torch.Size([40, 1, 6034])\n"
          ]
        },
        {
          "output_type": "stream",
          "name": "stderr",
          "text": [
            "\n"
          ]
        },
        {
          "output_type": "stream",
          "name": "stdout",
          "text": [
            "Input: shape=torch.Size([9, 1, 6067])\n",
            "After layer 0: shape=torch.Size([9, 512, 380])\n",
            "After layer 1: shape=torch.Size([9, 1024, 48])\n",
            "After layer 2: shape=torch.Size([9, 2048, 1])\n",
            "Input: shape=torch.Size([9, 1024])\n",
            "After reshape: shape=torch.Size([9, 1024, 1])\n",
            "After layer 0: shape=torch.Size([9, 512, 48])\n",
            "After layer 1: shape=torch.Size([9, 256, 378])\n",
            "After layer 2: shape=torch.Size([9, 1, 6034])\n",
            "Epoch 97\n"
          ]
        },
        {
          "output_type": "stream",
          "name": "stderr",
          "text": [
            " 50%|█████     | 1/2 [00:00<00:00,  8.08it/s]"
          ]
        },
        {
          "output_type": "stream",
          "name": "stdout",
          "text": [
            "Input: shape=torch.Size([49, 1, 6067])\n",
            "After layer 0: shape=torch.Size([49, 512, 380])\n",
            "After layer 1: shape=torch.Size([49, 1024, 48])\n",
            "After layer 2: shape=torch.Size([49, 2048, 1])\n",
            "Input: shape=torch.Size([49, 1024])\n",
            "After reshape: shape=torch.Size([49, 1024, 1])\n",
            "After layer 0: shape=torch.Size([49, 512, 48])\n",
            "After layer 1: shape=torch.Size([49, 256, 378])\n",
            "After layer 2: shape=torch.Size([49, 1, 6034])\n"
          ]
        },
        {
          "output_type": "stream",
          "name": "stderr",
          "text": [
            "100%|██████████| 2/2 [00:00<00:00,  4.16it/s]"
          ]
        },
        {
          "output_type": "stream",
          "name": "stdout",
          "text": [
            "Input: shape=torch.Size([40, 1, 6067])\n",
            "After layer 0: shape=torch.Size([40, 512, 380])\n",
            "After layer 1: shape=torch.Size([40, 1024, 48])\n",
            "After layer 2: shape=torch.Size([40, 2048, 1])\n",
            "Input: shape=torch.Size([40, 1024])\n",
            "After reshape: shape=torch.Size([40, 1024, 1])\n",
            "After layer 0: shape=torch.Size([40, 512, 48])\n",
            "After layer 1: shape=torch.Size([40, 256, 378])\n",
            "After layer 2: shape=torch.Size([40, 1, 6034])\n"
          ]
        },
        {
          "output_type": "stream",
          "name": "stderr",
          "text": [
            "\n"
          ]
        },
        {
          "output_type": "stream",
          "name": "stdout",
          "text": [
            "Input: shape=torch.Size([9, 1, 6067])\n",
            "After layer 0: shape=torch.Size([9, 512, 380])\n",
            "After layer 1: shape=torch.Size([9, 1024, 48])\n",
            "After layer 2: shape=torch.Size([9, 2048, 1])\n",
            "Input: shape=torch.Size([9, 1024])\n",
            "After reshape: shape=torch.Size([9, 1024, 1])\n",
            "After layer 0: shape=torch.Size([9, 512, 48])\n",
            "After layer 1: shape=torch.Size([9, 256, 378])\n",
            "After layer 2: shape=torch.Size([9, 1, 6034])\n",
            "Epoch 98\n"
          ]
        },
        {
          "output_type": "stream",
          "name": "stderr",
          "text": [
            " 50%|█████     | 1/2 [00:00<00:00,  8.06it/s]"
          ]
        },
        {
          "output_type": "stream",
          "name": "stdout",
          "text": [
            "Input: shape=torch.Size([49, 1, 6067])\n",
            "After layer 0: shape=torch.Size([49, 512, 380])\n",
            "After layer 1: shape=torch.Size([49, 1024, 48])\n",
            "After layer 2: shape=torch.Size([49, 2048, 1])\n",
            "Input: shape=torch.Size([49, 1024])\n",
            "After reshape: shape=torch.Size([49, 1024, 1])\n",
            "After layer 0: shape=torch.Size([49, 512, 48])\n",
            "After layer 1: shape=torch.Size([49, 256, 378])\n",
            "After layer 2: shape=torch.Size([49, 1, 6034])\n"
          ]
        },
        {
          "output_type": "stream",
          "name": "stderr",
          "text": [
            "100%|██████████| 2/2 [00:00<00:00,  4.08it/s]"
          ]
        },
        {
          "output_type": "stream",
          "name": "stdout",
          "text": [
            "Input: shape=torch.Size([40, 1, 6067])\n",
            "After layer 0: shape=torch.Size([40, 512, 380])\n",
            "After layer 1: shape=torch.Size([40, 1024, 48])\n",
            "After layer 2: shape=torch.Size([40, 2048, 1])\n",
            "Input: shape=torch.Size([40, 1024])\n",
            "After reshape: shape=torch.Size([40, 1024, 1])\n",
            "After layer 0: shape=torch.Size([40, 512, 48])\n",
            "After layer 1: shape=torch.Size([40, 256, 378])\n",
            "After layer 2: shape=torch.Size([40, 1, 6034])\n"
          ]
        },
        {
          "output_type": "stream",
          "name": "stderr",
          "text": [
            "\n"
          ]
        },
        {
          "output_type": "stream",
          "name": "stdout",
          "text": [
            "Input: shape=torch.Size([9, 1, 6067])\n",
            "After layer 0: shape=torch.Size([9, 512, 380])\n",
            "After layer 1: shape=torch.Size([9, 1024, 48])\n",
            "After layer 2: shape=torch.Size([9, 2048, 1])\n",
            "Input: shape=torch.Size([9, 1024])\n",
            "After reshape: shape=torch.Size([9, 1024, 1])\n",
            "After layer 0: shape=torch.Size([9, 512, 48])\n",
            "After layer 1: shape=torch.Size([9, 256, 378])\n",
            "After layer 2: shape=torch.Size([9, 1, 6034])\n",
            "Epoch 99\n"
          ]
        },
        {
          "output_type": "stream",
          "name": "stderr",
          "text": [
            " 50%|█████     | 1/2 [00:00<00:00,  8.07it/s]"
          ]
        },
        {
          "output_type": "stream",
          "name": "stdout",
          "text": [
            "Input: shape=torch.Size([49, 1, 6067])\n",
            "After layer 0: shape=torch.Size([49, 512, 380])\n",
            "After layer 1: shape=torch.Size([49, 1024, 48])\n",
            "After layer 2: shape=torch.Size([49, 2048, 1])\n",
            "Input: shape=torch.Size([49, 1024])\n",
            "After reshape: shape=torch.Size([49, 1024, 1])\n",
            "After layer 0: shape=torch.Size([49, 512, 48])\n",
            "After layer 1: shape=torch.Size([49, 256, 378])\n",
            "After layer 2: shape=torch.Size([49, 1, 6034])\n"
          ]
        },
        {
          "output_type": "stream",
          "name": "stderr",
          "text": [
            "100%|██████████| 2/2 [00:00<00:00,  4.15it/s]"
          ]
        },
        {
          "output_type": "stream",
          "name": "stdout",
          "text": [
            "Input: shape=torch.Size([40, 1, 6067])\n",
            "After layer 0: shape=torch.Size([40, 512, 380])\n",
            "After layer 1: shape=torch.Size([40, 1024, 48])\n",
            "After layer 2: shape=torch.Size([40, 2048, 1])\n",
            "Input: shape=torch.Size([40, 1024])\n",
            "After reshape: shape=torch.Size([40, 1024, 1])\n",
            "After layer 0: shape=torch.Size([40, 512, 48])\n",
            "After layer 1: shape=torch.Size([40, 256, 378])\n",
            "After layer 2: shape=torch.Size([40, 1, 6034])\n"
          ]
        },
        {
          "output_type": "stream",
          "name": "stderr",
          "text": [
            "\n"
          ]
        },
        {
          "output_type": "stream",
          "name": "stdout",
          "text": [
            "Input: shape=torch.Size([9, 1, 6067])\n",
            "After layer 0: shape=torch.Size([9, 512, 380])\n",
            "After layer 1: shape=torch.Size([9, 1024, 48])\n",
            "After layer 2: shape=torch.Size([9, 2048, 1])\n",
            "Input: shape=torch.Size([9, 1024])\n",
            "After reshape: shape=torch.Size([9, 1024, 1])\n",
            "After layer 0: shape=torch.Size([9, 512, 48])\n",
            "After layer 1: shape=torch.Size([9, 256, 378])\n",
            "After layer 2: shape=torch.Size([9, 1, 6034])\n"
          ]
        }
      ]
    },
    {
      "cell_type": "code",
      "source": [
        "losses = [loss.cpu().item() if hasattr(loss, 'cpu') else float(loss) for loss in model.losses]\n",
        "val_losses = [loss.cpu().item() if hasattr(loss, 'cpu') else float(loss) for loss in model.val_losses]\n",
        "plt.figure(figsize=(8, 5))\n",
        "plt.plot(losses, label='Train loss')\n",
        "plt.plot(val_losses, label='Val loss')\n",
        "plt.xlabel('Epoch')\n",
        "plt.ylabel('Loss')\n",
        "plt.title('Learning Curve')\n",
        "plt.legend()\n",
        "plt.grid(True)\n",
        "plt.show()\n",
        "print(losses)"
      ],
      "metadata": {
        "colab": {
          "base_uri": "https://localhost:8080/",
          "height": 524
        },
        "id": "hP3cDX2501ny",
        "outputId": "ce30e52c-1d04-4e8f-b690-c37f64f718aa"
      },
      "execution_count": null,
      "outputs": [
        {
          "output_type": "display_data",
          "data": {
            "text/plain": [
              "<Figure size 800x500 with 1 Axes>"
            ],
            "image/png": "[encoded data removed]"
          },
          "metadata": {}
        },
        {
          "output_type": "stream",
          "name": "stdout",
          "text": [
            "[973734.375, 710769.25, 829612.625, 618804.0625, 678589.75, 493028.375, 526499.125, 373604.96875, 388675.09375, 270941.65625, 284189.59375, 203630.671875, 217916.796875, 155695.53125, 171037.875, 121015.6640625, 135988.9375, 97788.5625, 110212.96875, 80779.484375, 92262.609375, 66638.390625, 75602.40625, 59063.2265625, 67193.9609375, 48988.79296875, 57327.390625, 45194.828125, 50880.82421875, 41575.4921875, 48677.13671875, 36990.7109375, 44304.1015625, 37419.9921875, 44383.4765625, 35484.16015625, 44772.27734375, 33930.4140625, 45480.8828125, 32405.6953125, 42150.140625, 34345.8984375, 43222.8515625, 31673.890625, 40273.65625, 33094.4453125, 38141.5078125, 33556.5390625, 39024.4921875, 30495.095703125, 36253.88671875, 31160.1015625, 38439.8359375, 26837.927734375, 35655.12890625, 27170.146484375, 33877.8984375, 26389.91015625, 32427.31640625, 25833.23828125, 32988.3515625, 22824.900390625, 29412.3671875, 24210.640625, 29682.80078125, 21739.703125, 29293.69921875, 20343.357421875, 27301.189453125, 20631.603515625, 24602.4296875, 21389.5625, 25729.36328125, 18318.708984375, 25015.16015625, 17497.673828125, 21759.66015625, 19184.322265625, 23582.625, 16042.900390625, 24553.375, 13967.087890625, 19087.34765625, 17605.55859375, 19819.66015625, 15657.5576171875, 17962.990234375, 17023.09765625, 19662.859375, 14290.6513671875, 16293.775390625, 17003.36328125, 16010.4267578125, 17169.64453125, 17681.15625, 14383.431640625, 16331.017578125, 15317.6328125, 18006.828125, 13236.7890625, 16777.767578125, 14039.623046875, 15858.138671875, 14152.2109375, 17676.49609375, 12679.041015625, 16698.15625, 13213.7109375, 16362.220703125, 12711.7998046875, 17922.57421875, 10486.30078125, 15759.1220703125, 12408.951171875, 15227.076171875, 12140.4033203125, 14821.607421875, 13116.5947265625, 12842.75390625, 14555.1396484375, 15921.0234375, 11085.8623046875, 13157.994140625, 13182.96875, 14528.619140625, 11592.88671875, 14351.591796875, 12085.64453125, 14355.841796875, 13176.720703125, 14436.40234375, 12572.9150390625, 15818.208984375, 11220.8037109375, 15582.5703125, 10937.4267578125, 13425.501953125, 11864.75390625, 15787.841796875, 9922.439453125, 13130.7880859375, 11769.775390625, 13113.623046875, 12321.1796875, 13326.826171875, 12089.8779296875, 14508.712890625, 9905.9375, 14327.380859375, 10807.2646484375, 13088.0517578125, 12181.30078125, 13587.11328125, 10941.642578125, 14575.203125, 10251.091796875, 12679.1953125, 11038.11328125, 13070.31640625, 9821.859375, 13333.1513671875, 9989.7021484375, 13269.353515625, 10712.248046875, 13748.626953125, 10439.3828125, 12916.58203125, 11636.65234375, 12971.05859375, 11076.478515625, 15515.9775390625, 12619.888671875, 13117.900390625, 11283.404296875, 12690.0859375, 10876.033203125, 13369.0498046875, 10675.0791015625, 12057.826171875, 10863.2080078125, 14779.8203125, 10201.3857421875, 13695.9453125, 10186.7900390625, 12740.2890625, 11006.103515625, 12897.1650390625, 11122.076171875, 14060.447265625, 9326.583984375, 11071.330078125, 11324.169921875, 11675.744140625, 11184.716796875, 12538.193359375, 10354.298828125, 12456.9453125, 9291.310546875, 11452.71484375, 9494.01953125]\n"
          ]
        }
      ]
    },
    {
      "cell_type": "code",
      "source": [
        "x = dataset[80][0].unsqueeze(1)\n",
        "x = x.to(device)\n",
        "label = 0\n",
        "model.eval()\n",
        "with torch.no_grad():\n",
        "    sounds, labels, emg_signals = next(iter(loader))\n",
        "    x = sounds[10,0].cpu().numpy()\n",
        "    label = int(labels[0].cpu())\n",
        "    sounds = sounds.to(device)\n",
        "    labels = labels.to(device)\n",
        "    emg_signals = emg_signals.to(device)\n",
        "    #emg_signal = torch.randn(1, 1, 2000).to(device)\n",
        "    recon, _,_ = model(sounds, labels, emg_signals)\n",
        "\n",
        "if label == 0:\n",
        "  print('Acceleration')\n",
        "else:\n",
        "  print('Breaking')\n",
        "display(IPython.display.Audio(sounds[0,0].cpu().numpy().squeeze(), rate = sr))\n",
        "signal = recon[0].cpu().numpy().squeeze()\n",
        "signal_and_augmented_signal(sounds[0,0].cpu().numpy().squeeze(),signal,sr=sr)\n",
        "display(IPython.display.Audio(signal, rate = sr))"
      ],
      "metadata": {
        "id": "f0uSLrpH3lHw",
        "colab": {
          "base_uri": "https://localhost:8080/",
          "height": 776
        },
        "outputId": "170f499e-3f9c-4ba4-c5a8-063b15e7923e"
      },
      "execution_count": null,
      "outputs": [
        {
          "output_type": "stream",
          "name": "stdout",
          "text": [
            "Input: shape=torch.Size([49, 1, 6067])\n",
            "After layer 0: shape=torch.Size([49, 512, 380])\n",
            "After layer 1: shape=torch.Size([49, 1024, 48])\n",
            "After layer 2: shape=torch.Size([49, 2048, 1])\n",
            "Input: shape=torch.Size([49, 1024])\n",
            "After reshape: shape=torch.Size([49, 1024, 1])\n",
            "After layer 0: shape=torch.Size([49, 512, 48])\n",
            "After layer 1: shape=torch.Size([49, 256, 378])\n",
            "After layer 2: shape=torch.Size([49, 1, 6034])\n",
            "Acceleration\n"
          ]
        },
        {
          "output_type": "display_data",
          "data": {
            "text/plain": [
              "<IPython.lib.display.Audio object>"
            ],
            "text/html": [
              "\n",
              "                <audio  controls=\"controls\" >\n",
              "                    <source src=\"data:audio/wav;base64,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\" type=\"audio/wav\" />\n",
              "                    Your browser does not support the audio element.\n",
              "                </audio>\n",
              "              "
            ]
          },
          "metadata": {}
        },
        {
          "output_type": "display_data",
          "data": {
            "text/plain": [
              "<Figure size 640x480 with 2 Axes>"
            ],
            "image/png": "[encoded data removed]"
          },
          "metadata": {}
        },
        {
          "output_type": "display_data",
          "data": {
            "text/plain": [
              "<IPython.lib.display.Audio object>"
            ],
            "text/html": [
              "\n",
              "                <audio  controls=\"controls\" >\n",
              "                    <source src=\"data:audio/wav;base64,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\" type=\"audio/wav\" />\n",
              "                    Your browser does not support the audio element.\n",
              "                </audio>\n",
              "              "
            ]
          },
          "metadata": {}
        }
      ]
    },
    {
      "cell_type": "code",
      "source": [
        "torch.save({\n",
        "    'emg': model.emg.state_dict(),\n",
        "    'encoder': model.encoder.state_dict(),\n",
        "    'decoder': model.decoder.state_dict(),\n",
        "    'class_embed_emg': model.class_embed_emg.state_dict(),\n",
        "    'class_embed_labels': model.class_embed_labels.state_dict(),\n",
        "    'class_embed_conctatination': model.class_embed_conctatination.state_dict(),\n",
        "    'losses': model.losses,\n",
        "    'val_losses': model.val_losses,\n",
        "}, \"SoundVAE1.pth\")\n",
        "\n",
        "\n",
        "#emg_signal = torch.randn(1, 1, 2000).to(device)"
      ],
      "metadata": {
        "id": "AOYCMiqdDq_K"
      },
      "execution_count": null,
      "outputs": []
    },
    {
      "cell_type": "markdown",
      "source": [
        "# Оценка"
      ],
      "metadata": {
        "id": "VT4M2fv-uk4h"
      }
    },
    {
      "cell_type": "code",
      "source": [
        "import torch\n",
        "import numpy as np\n",
        "from sklearn.metrics import classification_report, confusion_matrix\n",
        "import matplotlib.pyplot as plt\n",
        "import seaborn as sns\n",
        "from tqdm import tqdm\n",
        "\n",
        "def evaluate_model(model, test_loader, device='cuda' if torch.cuda.is_available() else 'cpu'):\n",
        "    \"\"\"\n",
        "    Оценка модели на тестовых данных\n",
        "    Возвращает:\n",
        "    - test_loss: средняя ошибка на тестовом наборе\n",
        "    - accuracy: точность классификации\n",
        "    - classification_rep: отчет по метрикам классификации\n",
        "    - confusion_mtx: матрица ошибок\n",
        "    - generated_images: сгенерированные изображения для визуализации\n",
        "    \"\"\"\n",
        "    model.eval()\n",
        "    test_loss = 0.0\n",
        "    correct = 0\n",
        "    total = 0\n",
        "\n",
        "    # Для хранения предсказаний и меток\n",
        "    all_preds = []\n",
        "    all_labels = []\n",
        "    generated_images = []\n",
        "\n",
        "    with torch.no_grad():\n",
        "        for signals, images, labels in tqdm(test_loader, desc=\"Testing\"):\n",
        "            signals = signals.to(device)\n",
        "            images = images.to(device)\n",
        "            labels = labels.to(device)\n",
        "\n",
        "            # Forward pass\n",
        "            recon_images, _, class_logits = model(signals, images)\n",
        "\n",
        "            # Расчет ошибки реконструкции\n",
        "            loss = torch.nn.functional.mse_loss(recon_images, images)\n",
        "            test_loss += loss.item()\n",
        "\n",
        "            # Расчет точности классификации\n",
        "            _, predicted = torch.max(class_logits, 1)\n",
        "            _, true_labels = torch.max(labels, 1)\n",
        "            total += labels.size(0)\n",
        "            correct += (predicted == true_labels).sum().item()\n",
        "\n",
        "            # Сохраняем для метрик\n",
        "            all_preds.extend(predicted.cpu().numpy())\n",
        "            all_labels.extend(true_labels.cpu().numpy())\n",
        "\n",
        "            # Сохраняем примеры для визуализации\n",
        "            if len(generated_images) < 10:  # Сохраняем первые 10 примеров\n",
        "                generated_images.append({\n",
        "                    'original': images[0].cpu(),\n",
        "                    'reconstructed': recon_images[0].cpu(),\n",
        "                    'signal': signals[0].cpu(),\n",
        "                    'true_label': true_labels[0].item(),\n",
        "                    'pred_label': predicted[0].item()\n",
        "                })\n",
        "\n",
        "    # Средняя ошибка и точность\n",
        "    test_loss /= len(test_loader)\n",
        "    accuracy = correct / total\n",
        "\n",
        "    # Отчет по классификации\n",
        "    class_names = [f\"Class_{i}\" for i in range(labels.size(1))]\n",
        "    classification_rep = classification_report(\n",
        "        all_labels, all_preds,\n",
        "        target_names=class_names,\n",
        "        digits=4\n",
        "    )\n",
        "\n",
        "    # Матрица ошибок\n",
        "    confusion_mtx = confusion_matrix(all_labels, all_preds)\n",
        "\n",
        "    # Визуализация\n",
        "    plot_results(generated_images, confusion_mtx, class_names)\n",
        "\n",
        "    return {\n",
        "        'test_loss': test_loss,\n",
        "        'accuracy': accuracy,\n",
        "        'classification_report': classification_rep,\n",
        "        'confusion_matrix': confusion_mtx,\n",
        "        'generated_samples': generated_images\n",
        "    }\n",
        "\n",
        "def plot_results(samples, confusion_mtx, class_names):\n",
        "    \"\"\"Визуализация результатов\"\"\"\n",
        "    plt.figure(figsize=(15, 10))\n",
        "\n",
        "    # 1. Примеры реконструкции\n",
        "    plt.subplot(2, 2, 1)\n",
        "    plt.imshow(samples[0]['original'].squeeze(), cmap='gray')\n",
        "    plt.title(f\"Original (Class {samples[0]['true_label']})\")\n",
        "    plt.axis('off')\n",
        "\n",
        "    plt.subplot(2, 2, 2)\n",
        "    plt.imshow(samples[0]['reconstructed'].squeeze(), cmap='gray')\n",
        "    plt.title(f\"Reconstructed (Pred {samples[0]['pred_label']})\")\n",
        "    plt.axis('off')\n",
        "\n",
        "    # 2. Сигнал\n",
        "    plt.subplot(2, 2, 3)\n",
        "    plt.plot(samples[0]['signal'].squeeze().numpy())\n",
        "    plt.title(\"Input Signal\")\n",
        "\n",
        "    # 3. Матрица ошибок\n",
        "    plt.subplot(2, 2, 4)\n",
        "    sns.heatmap(confusion_mtx, annot=True, fmt='d',\n",
        "                xticklabels=class_names,\n",
        "                yticklabels=class_names)\n",
        "    plt.title(\"Confusion Matrix\")\n",
        "    plt.xlabel(\"Predicted\")\n",
        "    plt.ylabel(\"True\")\n",
        "\n",
        "    plt.tight_layout()\n",
        "    plt.show()"
      ],
      "metadata": {
        "id": "IZ0f3SuurRCm"
      },
      "execution_count": null,
      "outputs": []
    },
    {
      "cell_type": "code",
      "source": [
        "#torch.save(model.state_dict(), 'cvae_emg.pth')\n",
        "\n",
        "device = torch.device(\"cuda\" if torch.cuda.is_available() else \"cpu\")\n",
        "\n",
        "model_read = CombinedModel(\n",
        "    input_size=3000,  # Примерная длина сигнала\n",
        "    num_classes=3,   # Количество классов\n",
        "    pretrained_cnn_path=\"model10_500.pth\",\n",
        "    pretrained_vae_path=\"cvae_class.pth\",\n",
        "    freeze_cnn=True,  # Замораживаем всю CNN\n",
        "    freeze_vae=True,  # Замораживаем всю VAE\n",
        "    tune_cnn_last_layer=True  # Размораживаем последний слой CNN\n",
        "    ).to(device)\n",
        "\n",
        "model_read.load_state_dict(torch.load('cvae_emg.pth', weights_only=True))"
      ],
      "metadata": {
        "id": "BPDKexUsrSq2"
      },
      "execution_count": null,
      "outputs": []
    },
    {
      "cell_type": "code",
      "source": [
        "# Оценка модели\n",
        "results = evaluate_model(model, test_loader, device)\n",
        "\n",
        "# Вывод результатов\n",
        "print(f\"\\nTest Loss: {results['test_loss']:.4f}\")\n",
        "print(f\"Accuracy: {results['accuracy']:.4f}\")\n",
        "print(\"\\nClassification Report:\")\n",
        "print(results['classification_report'])"
      ],
      "metadata": {
        "id": "rMlhvUThrVBF"
      },
      "execution_count": null,
      "outputs": []
    },
    {
      "cell_type": "markdown",
      "metadata": {
        "id": "4qlq6r2Cau2g"
      },
      "source": [
        "# VAE"
      ]
    },
    {
      "cell_type": "markdown",
      "metadata": {
        "id": "gfBSICRSarnu"
      },
      "source": [
        "## Encoder Class"
      ]
    },
    {
      "cell_type": "code",
      "execution_count": null,
      "metadata": {
        "id": "maJOF_JykqjR"
      },
      "outputs": [],
      "source": [
        "class Encoder(nn.Module):\n",
        "    def __init__(self, im_chan=1, output_chan=32, hidden_dim=64):\n",
        "        super(Encoder, self).__init__()\n",
        "        self.z_dim = output_chan\n",
        "        self.encoder = nn.Sequential(\n",
        "            self.init_conv_block(1, 512),\n",
        "            self.init_conv_block(512, 1024, kernel_size=32, stride=8, padding=15,),\n",
        "            self.init_conv_block(1024, 2048, kernel_size=48, stride=1, padding=0, final_layer=True),\n",
        "        )\n",
        "\n",
        "    def init_conv_block(self, input_channels, output_channels, kernel_size=64, stride=16, padding=31, final_layer=False, bias=True):\n",
        "        layers = [\n",
        "            nn.Conv1d(input_channels, output_channels,\n",
        "                          kernel_size=kernel_size,\n",
        "                          padding=padding,\n",
        "                          stride=stride)\n",
        "        ]\n",
        "        if not final_layer:\n",
        "            layers += [\n",
        "                nn.BatchNorm1d(output_channels),\n",
        "                nn.ReLU()\n",
        "            ]\n",
        "        else:\n",
        "            layers += [nn.Tanh()]\n",
        "        return nn.Sequential(*layers)\n",
        "\n",
        "    def forward(self, sound):\n",
        "        x = sound\n",
        "        print(f\"Input: shape={x.shape}\")\n",
        "        for i, layer in enumerate(self.encoder):\n",
        "            x = layer(x)\n",
        "            print(f\"After layer {i}: shape={x.shape}\")\n",
        "        #print(x)\n",
        "        encoding = x.view(len(x), -1)\n",
        "        #print(encoding)\n",
        "        #print(encoding.shape)\n",
        "        #encoder_pred = self.encoder(sound)\n",
        "        #encoding = encoder_pred.view(len(encoder_pred), -1)\n",
        "        mean = encoding[:, :self.z_dim]\n",
        "        logvar = encoding[:, self.z_dim:]\n",
        "        return mean, torch.exp(logvar*0.5)\n"
      ]
    },
    {
      "cell_type": "markdown",
      "metadata": {
        "id": "Ti4_i5imatoD"
      },
      "source": [
        "## Decoder Class"
      ]
    },
    {
      "cell_type": "code",
      "execution_count": null,
      "metadata": {
        "id": "jFSeSmrMkviJ"
      },
      "outputs": [],
      "source": [
        "class Decoder(nn.Module):\n",
        "    def __init__(self, z_dim=32, im_chan=1, hidden_dim=32):\n",
        "        super(Decoder, self).__init__()\n",
        "        self.z_dim = z_dim\n",
        "        self.decoder = nn.Sequential(\n",
        "            self.init_conv_block(1024, 512, kernel_size=48, stride=1, padding=0),\n",
        "            self.init_conv_block(512,256, kernel_size=32, stride=8, padding=15,),\n",
        "            self.init_conv_block(256, 1, final_layer=True),\n",
        "        )\n",
        "\n",
        "    def init_conv_block(self, input_channels, output_channels, kernel_size=64, stride=16, padding=31, final_layer=False, bias=True):\n",
        "        layers = [\n",
        "            nn.ConvTranspose1d(input_channels, output_channels,\n",
        "                               kernel_size=kernel_size,\n",
        "                               stride=stride, padding=padding)\n",
        "        ]\n",
        "        if not final_layer:\n",
        "            layers += [\n",
        "                nn.BatchNorm1d(output_channels),\n",
        "                nn.ReLU()\n",
        "            ]\n",
        "        return nn.Sequential(*layers)\n",
        "\n",
        "    def forward(self, z):\n",
        "        x = z\n",
        "        print(f\"Input: shape={x.shape}\")\n",
        "        x = x.unsqueeze(2)\n",
        "        #x = z.view(-1, self.z_dim, 1)\n",
        "        print(f\"After reshape: shape={x.shape}\")\n",
        "        for i, layer in enumerate(self.decoder):\n",
        "            x = layer(x)\n",
        "            print(f\"After layer {i}: shape={x.shape}\")\n",
        "        return x\n",
        "        #return self.decoder(x)"
      ]
    },
    {
      "cell_type": "markdown",
      "metadata": {
        "id": "M1MqHaETijJI"
      },
      "source": [
        "## VAE Model Class"
      ]
    },
    {
      "cell_type": "code",
      "execution_count": null,
      "metadata": {
        "id": "ESpK39CnkuAa"
      },
      "outputs": [],
      "source": [
        "class VAE(nn.Module):\n",
        "  def __init__(self, z_dim=32, im_chan=1, class_dim=32, num_classes=2):\n",
        "    super(VAE, self).__init__()\n",
        "    self.z_dim = z_dim\n",
        "    self.encoder = Encoder(im_chan, z_dim, )\n",
        "    self.decoder = Decoder(z_dim, im_chan, )\n",
        "    #self.class_embed = ClassEmbedder(num_classes, class_dim)\n",
        "    self.losses = []\n",
        "    self.class_embed_labels = ClassEmbedder(num_classes, 512)\n",
        "    self.class_embed_conctatination = FullConnected(1024, z_dim)\n",
        "\n",
        "  def match_length(self,x, target_length):\n",
        "    current_length = x.shape[-1]\n",
        "    if current_length == target_length:\n",
        "      return x\n",
        "    elif current_length > target_length:\n",
        "        return x[..., :target_length]\n",
        "    else:\n",
        "        pad_len = target_length - current_length\n",
        "        return F.pad(x, (0, pad_len))\n",
        "\n",
        "  def forward(self, sounds, labels):\n",
        "    mean, std = self.encoder(sounds)\n",
        "    #print(mean)\n",
        "    z_dist = Normal(mean, std)\n",
        "    z = z_dist.rsample()\n",
        "    #print(z)\n",
        "    #z = z.unsqueeze(2)\n",
        "    print(z.shape)\n",
        "    #print()\n",
        "    #class_vec_labels = self.class_embed_labels(labels)\n",
        "    #z = torch.cat([z, class_vec_labels], dim=1)\n",
        "    #z = self.class_embed_conctatination(z)\n",
        "    print(z.shape)\n",
        "    decoding = self.decoder(z)\n",
        "    return decoding, z_dist"
      ]
    },
    {
      "cell_type": "markdown",
      "metadata": {
        "id": "eWtrkaBia0D9"
      },
      "source": [
        "## KL divergence"
      ]
    },
    {
      "cell_type": "code",
      "execution_count": null,
      "metadata": {
        "id": "NgbeFvJ7k6Qd"
      },
      "outputs": [],
      "source": [
        "from torch.distributions.kl import kl_divergence\n",
        "def kl_divergence_loss(z_dist):\n",
        "    return kl_divergence(z_dist,\n",
        "                         Normal(torch.zeros_like(z_dist.mean),\n",
        "                                torch.ones_like(z_dist.stddev))\n",
        "                         ).sum(-1).sum()"
      ]
    },
    {
      "cell_type": "markdown",
      "metadata": {
        "id": "C2CN_wPya2py"
      },
      "source": [
        "## Reconstruction loss"
      ]
    },
    {
      "cell_type": "code",
      "execution_count": null,
      "metadata": {
        "id": "mi-a0rVrk4x1"
      },
      "outputs": [],
      "source": [
        "reconstruction_loss = nn.MSELoss(reduction='sum')"
      ]
    },
    {
      "cell_type": "markdown",
      "metadata": {
        "id": "rNRrXmIVa4Vf"
      },
      "source": [
        "## Train VAE"
      ]
    },
    {
      "cell_type": "code",
      "execution_count": null,
      "metadata": {
        "id": "S1aczDWUlhkV"
      },
      "outputs": [],
      "source": [
        "def train_model(epochs=10, z_dim = 32):\n",
        "  model = VAE(z_dim=z_dim).to(device)\n",
        "  model_opt = torch.optim.Adam(model.parameters(),) #lr = 5e-5, weight_decay=5e-5)\n",
        "  for epoch in range(epochs):\n",
        "      model.train()\n",
        "      print(f\"Epoch {epoch}\")\n",
        "      for sounds, labels, _ in tqdm(loader):\n",
        "          sounds = sounds.to(device)\n",
        "          labels = labels.to(device)\n",
        "          model_opt.zero_grad()\n",
        "          recon_sounds, encoding = model(sounds, labels)\n",
        "          recon_sounds = model.match_length(recon_sounds, sounds.shape[-1])\n",
        "          loss = reconstruction_loss(recon_sounds, sounds) # + kl_divergence_loss(encoding)\n",
        "          model.losses.append(loss)\n",
        "          loss.backward()\n",
        "          #nn_utils.clip_grad_norm_(model.parameters(), max_norm=1000.0)\n",
        "          model_opt.step()\n",
        "          #original = sounds[0, 0].detach().cpu().numpy()\n",
        "          #reconstructed = recon_sounds[0, 0].detach().cpu().numpy()\n",
        "          #signal_and_augmented_signal(original,reconstructed,sr=sr)\n",
        "          #print(\"loss:\", loss.item())\n",
        "\n",
        "  return model"
      ]
    },
    {
      "cell_type": "code",
      "execution_count": null,
      "metadata": {
        "id": "vFTjsDqUuJZe",
        "colab": {
          "base_uri": "https://localhost:8080/",
          "height": 1000
        },
        "outputId": "09acfdc8-29b7-49ff-de9f-f927fdbf8364"
      },
      "outputs": [
        {
          "output_type": "stream",
          "name": "stdout",
          "text": [
            "Epoch 0\n"
          ]
        },
        {
          "output_type": "stream",
          "name": "stderr",
          "text": [
            "\r  0%|          | 0/6 [00:00<?, ?it/s]"
          ]
        },
        {
          "output_type": "stream",
          "name": "stdout",
          "text": [
            "Input: shape=torch.Size([16, 1, 6067])\n",
            "After layer 0: shape=torch.Size([16, 64, 759])\n",
            "After layer 1: shape=torch.Size([16, 128, 95])\n",
            "After layer 2: shape=torch.Size([16, 256, 24])\n",
            "After layer 3: shape=torch.Size([16, 512, 6])\n",
            "After layer 4: shape=torch.Size([16, 512, 1])\n",
            "torch.Size([16, 512])\n",
            "torch.Size([16, 512])\n",
            "Input: shape=torch.Size([16, 512])\n",
            "After reshape: shape=torch.Size([16, 512, 1])\n",
            "After layer 0: shape=torch.Size([16, 512, 6])\n",
            "After layer 1: shape=torch.Size([16, 256, 52])\n",
            "After layer 2: shape=torch.Size([16, 128, 236])\n",
            "After layer 3: shape=torch.Size([16, 64, 1912])\n",
            "After layer 4: shape=torch.Size([16, 1, 15352])\n"
          ]
        },
        {
          "output_type": "stream",
          "name": "stderr",
          "text": [
            "\r 17%|█▋        | 1/6 [00:04<00:20,  4.01s/it]"
          ]
        },
        {
          "output_type": "stream",
          "name": "stdout",
          "text": [
            "Input: shape=torch.Size([16, 1, 6067])\n",
            "After layer 0: shape=torch.Size([16, 64, 759])\n",
            "After layer 1: shape=torch.Size([16, 128, 95])\n",
            "After layer 2: shape=torch.Size([16, 256, 24])\n",
            "After layer 3: shape=torch.Size([16, 512, 6])\n",
            "After layer 4: shape=torch.Size([16, 512, 1])\n",
            "torch.Size([16, 512])\n",
            "torch.Size([16, 512])\n",
            "Input: shape=torch.Size([16, 512])\n",
            "After reshape: shape=torch.Size([16, 512, 1])\n",
            "After layer 0: shape=torch.Size([16, 512, 6])\n",
            "After layer 1: shape=torch.Size([16, 256, 52])\n",
            "After layer 2: shape=torch.Size([16, 128, 236])\n",
            "After layer 3: shape=torch.Size([16, 64, 1912])\n",
            "After layer 4: shape=torch.Size([16, 1, 15352])\n"
          ]
        },
        {
          "output_type": "stream",
          "name": "stderr",
          "text": [
            "\r 33%|███▎      | 2/6 [00:05<00:09,  2.49s/it]"
          ]
        },
        {
          "output_type": "stream",
          "name": "stdout",
          "text": [
            "Input: shape=torch.Size([16, 1, 6067])\n",
            "After layer 0: shape=torch.Size([16, 64, 759])\n",
            "After layer 1: shape=torch.Size([16, 128, 95])\n",
            "After layer 2: shape=torch.Size([16, 256, 24])\n",
            "After layer 3: shape=torch.Size([16, 512, 6])\n",
            "After layer 4: shape=torch.Size([16, 512, 1])\n",
            "torch.Size([16, 512])\n",
            "torch.Size([16, 512])\n",
            "Input: shape=torch.Size([16, 512])\n",
            "After reshape: shape=torch.Size([16, 512, 1])\n",
            "After layer 0: shape=torch.Size([16, 512, 6])\n",
            "After layer 1: shape=torch.Size([16, 256, 52])\n",
            "After layer 2: shape=torch.Size([16, 128, 236])\n",
            "After layer 3: shape=torch.Size([16, 64, 1912])\n",
            "After layer 4: shape=torch.Size([16, 1, 15352])\n"
          ]
        },
        {
          "output_type": "stream",
          "name": "stderr",
          "text": [
            "\r 50%|█████     | 3/6 [00:07<00:06,  2.08s/it]"
          ]
        },
        {
          "output_type": "stream",
          "name": "stdout",
          "text": [
            "Input: shape=torch.Size([16, 1, 6067])\n",
            "After layer 0: shape=torch.Size([16, 64, 759])\n",
            "After layer 1: shape=torch.Size([16, 128, 95])\n",
            "After layer 2: shape=torch.Size([16, 256, 24])\n",
            "After layer 3: shape=torch.Size([16, 512, 6])\n",
            "After layer 4: shape=torch.Size([16, 512, 1])\n",
            "torch.Size([16, 512])\n",
            "torch.Size([16, 512])\n",
            "Input: shape=torch.Size([16, 512])\n",
            "After reshape: shape=torch.Size([16, 512, 1])\n",
            "After layer 0: shape=torch.Size([16, 512, 6])\n",
            "After layer 1: shape=torch.Size([16, 256, 52])\n",
            "After layer 2: shape=torch.Size([16, 128, 236])\n",
            "After layer 3: shape=torch.Size([16, 64, 1912])\n",
            "After layer 4: shape=torch.Size([16, 1, 15352])\n"
          ]
        },
        {
          "output_type": "stream",
          "name": "stderr",
          "text": [
            "\r 67%|██████▋   | 4/6 [00:08<00:03,  1.72s/it]"
          ]
        },
        {
          "output_type": "stream",
          "name": "stdout",
          "text": [
            "Input: shape=torch.Size([16, 1, 6067])\n",
            "After layer 0: shape=torch.Size([16, 64, 759])\n",
            "After layer 1: shape=torch.Size([16, 128, 95])\n",
            "After layer 2: shape=torch.Size([16, 256, 24])\n",
            "After layer 3: shape=torch.Size([16, 512, 6])\n",
            "After layer 4: shape=torch.Size([16, 512, 1])\n",
            "torch.Size([16, 512])\n",
            "torch.Size([16, 512])\n",
            "Input: shape=torch.Size([16, 512])\n",
            "After reshape: shape=torch.Size([16, 512, 1])\n",
            "After layer 0: shape=torch.Size([16, 512, 6])\n",
            "After layer 1: shape=torch.Size([16, 256, 52])\n",
            "After layer 2: shape=torch.Size([16, 128, 236])\n",
            "After layer 3: shape=torch.Size([16, 64, 1912])\n",
            "After layer 4: shape=torch.Size([16, 1, 15352])\n"
          ]
        },
        {
          "output_type": "stream",
          "name": "stderr",
          "text": [
            "\r 83%|████████▎ | 5/6 [00:09<00:01,  1.39s/it]"
          ]
        },
        {
          "output_type": "stream",
          "name": "stdout",
          "text": [
            "Input: shape=torch.Size([9, 1, 6067])\n",
            "After layer 0: shape=torch.Size([9, 64, 759])\n",
            "After layer 1: shape=torch.Size([9, 128, 95])\n",
            "After layer 2: shape=torch.Size([9, 256, 24])\n",
            "After layer 3: shape=torch.Size([9, 512, 6])\n",
            "After layer 4: shape=torch.Size([9, 512, 1])\n",
            "torch.Size([9, 512])\n",
            "torch.Size([9, 512])\n",
            "Input: shape=torch.Size([9, 512])\n",
            "After reshape: shape=torch.Size([9, 512, 1])\n",
            "After layer 0: shape=torch.Size([9, 512, 6])\n",
            "After layer 1: shape=torch.Size([9, 256, 52])\n",
            "After layer 2: shape=torch.Size([9, 128, 236])\n",
            "After layer 3: shape=torch.Size([9, 64, 1912])\n",
            "After layer 4: shape=torch.Size([9, 1, 15352])\n"
          ]
        },
        {
          "output_type": "stream",
          "name": "stderr",
          "text": [
            "100%|██████████| 6/6 [00:10<00:00,  1.81s/it]\n"
          ]
        },
        {
          "output_type": "stream",
          "name": "stdout",
          "text": [
            "Epoch 1\n"
          ]
        },
        {
          "output_type": "stream",
          "name": "stderr",
          "text": [
            "\r  0%|          | 0/6 [00:00<?, ?it/s]"
          ]
        },
        {
          "output_type": "stream",
          "name": "stdout",
          "text": [
            "Input: shape=torch.Size([16, 1, 6067])\n",
            "After layer 0: shape=torch.Size([16, 64, 759])\n",
            "After layer 1: shape=torch.Size([16, 128, 95])\n",
            "After layer 2: shape=torch.Size([16, 256, 24])\n",
            "After layer 3: shape=torch.Size([16, 512, 6])\n",
            "After layer 4: shape=torch.Size([16, 512, 1])\n",
            "torch.Size([16, 512])\n",
            "torch.Size([16, 512])\n",
            "Input: shape=torch.Size([16, 512])\n",
            "After reshape: shape=torch.Size([16, 512, 1])\n",
            "After layer 0: shape=torch.Size([16, 512, 6])\n",
            "After layer 1: shape=torch.Size([16, 256, 52])\n",
            "After layer 2: shape=torch.Size([16, 128, 236])\n",
            "After layer 3: shape=torch.Size([16, 64, 1912])\n",
            "After layer 4: shape=torch.Size([16, 1, 15352])\n"
          ]
        },
        {
          "output_type": "stream",
          "name": "stderr",
          "text": [
            "\r 17%|█▋        | 1/6 [00:01<00:06,  1.20s/it]"
          ]
        },
        {
          "output_type": "stream",
          "name": "stdout",
          "text": [
            "Input: shape=torch.Size([16, 1, 6067])\n",
            "After layer 0: shape=torch.Size([16, 64, 759])\n",
            "After layer 1: shape=torch.Size([16, 128, 95])\n",
            "After layer 2: shape=torch.Size([16, 256, 24])\n",
            "After layer 3: shape=torch.Size([16, 512, 6])\n",
            "After layer 4: shape=torch.Size([16, 512, 1])\n",
            "torch.Size([16, 512])\n",
            "torch.Size([16, 512])\n",
            "Input: shape=torch.Size([16, 512])\n",
            "After reshape: shape=torch.Size([16, 512, 1])\n",
            "After layer 0: shape=torch.Size([16, 512, 6])\n",
            "After layer 1: shape=torch.Size([16, 256, 52])\n",
            "After layer 2: shape=torch.Size([16, 128, 236])\n",
            "After layer 3: shape=torch.Size([16, 64, 1912])\n",
            "After layer 4: shape=torch.Size([16, 1, 15352])\n"
          ]
        },
        {
          "output_type": "stream",
          "name": "stderr",
          "text": [
            "\r 33%|███▎      | 2/6 [00:02<00:03,  1.01it/s]"
          ]
        },
        {
          "output_type": "stream",
          "name": "stdout",
          "text": [
            "Input: shape=torch.Size([16, 1, 6067])\n",
            "After layer 0: shape=torch.Size([16, 64, 759])\n",
            "After layer 1: shape=torch.Size([16, 128, 95])\n",
            "After layer 2: shape=torch.Size([16, 256, 24])\n",
            "After layer 3: shape=torch.Size([16, 512, 6])\n",
            "After layer 4: shape=torch.Size([16, 512, 1])\n",
            "torch.Size([16, 512])\n",
            "torch.Size([16, 512])\n",
            "Input: shape=torch.Size([16, 512])\n",
            "After reshape: shape=torch.Size([16, 512, 1])\n",
            "After layer 0: shape=torch.Size([16, 512, 6])\n",
            "After layer 1: shape=torch.Size([16, 256, 52])\n",
            "After layer 2: shape=torch.Size([16, 128, 236])\n",
            "After layer 3: shape=torch.Size([16, 64, 1912])\n",
            "After layer 4: shape=torch.Size([16, 1, 15352])\n"
          ]
        },
        {
          "output_type": "stream",
          "name": "stderr",
          "text": [
            "\r 33%|███▎      | 2/6 [00:02<00:05,  1.39s/it]\n"
          ]
        },
        {
          "output_type": "error",
          "ename": "KeyboardInterrupt",
          "evalue": "",
          "traceback": [
            "\u001b[0;31m---------------------------------------------------------------------------\u001b[0m",
            "\u001b[0;31mKeyboardInterrupt\u001b[0m                         Traceback (most recent call last)",
            "\u001b[0;32m<ipython-input-20-a2d47fba424e>\u001b[0m in \u001b[0;36m<cell line: 0>\u001b[0;34m()\u001b[0m\n\u001b[1;32m      1\u001b[0m \u001b[0mz_dim\u001b[0m \u001b[0;34m=\u001b[0m \u001b[0;36m256\u001b[0m\u001b[0;34m\u001b[0m\u001b[0;34m\u001b[0m\u001b[0m\n\u001b[0;32m----> 2\u001b[0;31m \u001b[0mvae\u001b[0m \u001b[0;34m=\u001b[0m \u001b[0mtrain_model\u001b[0m\u001b[0;34m(\u001b[0m\u001b[0mepochs\u001b[0m\u001b[0;34m=\u001b[0m\u001b[0;36m100\u001b[0m\u001b[0;34m,\u001b[0m \u001b[0mz_dim\u001b[0m\u001b[0;34m=\u001b[0m\u001b[0mz_dim\u001b[0m\u001b[0;34m)\u001b[0m\u001b[0;34m\u001b[0m\u001b[0;34m\u001b[0m\u001b[0m\n\u001b[0m",
            "\u001b[0;32m<ipython-input-19-6c28c2db5864>\u001b[0m in \u001b[0;36mtrain_model\u001b[0;34m(epochs, z_dim)\u001b[0m\n\u001b[1;32m     13\u001b[0m           \u001b[0mloss\u001b[0m \u001b[0;34m=\u001b[0m \u001b[0mreconstruction_loss\u001b[0m\u001b[0;34m(\u001b[0m\u001b[0mrecon_sounds\u001b[0m\u001b[0;34m,\u001b[0m \u001b[0msounds\u001b[0m\u001b[0;34m)\u001b[0m \u001b[0;31m# + kl_divergence_loss(encoding)\u001b[0m\u001b[0;34m\u001b[0m\u001b[0;34m\u001b[0m\u001b[0m\n\u001b[1;32m     14\u001b[0m           \u001b[0mmodel\u001b[0m\u001b[0;34m.\u001b[0m\u001b[0mlosses\u001b[0m\u001b[0;34m.\u001b[0m\u001b[0mappend\u001b[0m\u001b[0;34m(\u001b[0m\u001b[0mloss\u001b[0m\u001b[0;34m)\u001b[0m\u001b[0;34m\u001b[0m\u001b[0;34m\u001b[0m\u001b[0m\n\u001b[0;32m---> 15\u001b[0;31m           \u001b[0mloss\u001b[0m\u001b[0;34m.\u001b[0m\u001b[0mbackward\u001b[0m\u001b[0;34m(\u001b[0m\u001b[0;34m)\u001b[0m\u001b[0;34m\u001b[0m\u001b[0;34m\u001b[0m\u001b[0m\n\u001b[0m\u001b[1;32m     16\u001b[0m           \u001b[0;31m#nn_utils.clip_grad_norm_(model.parameters(), max_norm=1000.0)\u001b[0m\u001b[0;34m\u001b[0m\u001b[0;34m\u001b[0m\u001b[0m\n\u001b[1;32m     17\u001b[0m           \u001b[0mmodel_opt\u001b[0m\u001b[0;34m.\u001b[0m\u001b[0mstep\u001b[0m\u001b[0;34m(\u001b[0m\u001b[0;34m)\u001b[0m\u001b[0;34m\u001b[0m\u001b[0;34m\u001b[0m\u001b[0m\n",
            "\u001b[0;32m/usr/local/lib/python3.11/dist-packages/torch/_tensor.py\u001b[0m in \u001b[0;36mbackward\u001b[0;34m(self, gradient, retain_graph, create_graph, inputs)\u001b[0m\n\u001b[1;32m    624\u001b[0m                 \u001b[0minputs\u001b[0m\u001b[0;34m=\u001b[0m\u001b[0minputs\u001b[0m\u001b[0;34m,\u001b[0m\u001b[0;34m\u001b[0m\u001b[0;34m\u001b[0m\u001b[0m\n\u001b[1;32m    625\u001b[0m             )\n\u001b[0;32m--> 626\u001b[0;31m         torch.autograd.backward(\n\u001b[0m\u001b[1;32m    627\u001b[0m             \u001b[0mself\u001b[0m\u001b[0;34m,\u001b[0m \u001b[0mgradient\u001b[0m\u001b[0;34m,\u001b[0m \u001b[0mretain_graph\u001b[0m\u001b[0;34m,\u001b[0m \u001b[0mcreate_graph\u001b[0m\u001b[0;34m,\u001b[0m \u001b[0minputs\u001b[0m\u001b[0;34m=\u001b[0m\u001b[0minputs\u001b[0m\u001b[0;34m\u001b[0m\u001b[0;34m\u001b[0m\u001b[0m\n\u001b[1;32m    628\u001b[0m         )\n",
            "\u001b[0;32m/usr/local/lib/python3.11/dist-packages/torch/autograd/__init__.py\u001b[0m in \u001b[0;36mbackward\u001b[0;34m(tensors, grad_tensors, retain_graph, create_graph, grad_variables, inputs)\u001b[0m\n\u001b[1;32m    345\u001b[0m     \u001b[0;31m# some Python versions print out the first line of a multi-line function\u001b[0m\u001b[0;34m\u001b[0m\u001b[0;34m\u001b[0m\u001b[0m\n\u001b[1;32m    346\u001b[0m     \u001b[0;31m# calls in the traceback and some print out the last line\u001b[0m\u001b[0;34m\u001b[0m\u001b[0;34m\u001b[0m\u001b[0m\n\u001b[0;32m--> 347\u001b[0;31m     _engine_run_backward(\n\u001b[0m\u001b[1;32m    348\u001b[0m         \u001b[0mtensors\u001b[0m\u001b[0;34m,\u001b[0m\u001b[0;34m\u001b[0m\u001b[0;34m\u001b[0m\u001b[0m\n\u001b[1;32m    349\u001b[0m         \u001b[0mgrad_tensors_\u001b[0m\u001b[0;34m,\u001b[0m\u001b[0;34m\u001b[0m\u001b[0;34m\u001b[0m\u001b[0m\n",
            "\u001b[0;32m/usr/local/lib/python3.11/dist-packages/torch/autograd/graph.py\u001b[0m in \u001b[0;36m_engine_run_backward\u001b[0;34m(t_outputs, *args, **kwargs)\u001b[0m\n\u001b[1;32m    821\u001b[0m         \u001b[0munregister_hooks\u001b[0m \u001b[0;34m=\u001b[0m \u001b[0m_register_logging_hooks_on_whole_graph\u001b[0m\u001b[0;34m(\u001b[0m\u001b[0mt_outputs\u001b[0m\u001b[0;34m)\u001b[0m\u001b[0;34m\u001b[0m\u001b[0;34m\u001b[0m\u001b[0m\n\u001b[1;32m    822\u001b[0m     \u001b[0;32mtry\u001b[0m\u001b[0;34m:\u001b[0m\u001b[0;34m\u001b[0m\u001b[0;34m\u001b[0m\u001b[0m\n\u001b[0;32m--> 823\u001b[0;31m         return Variable._execution_engine.run_backward(  # Calls into the C++ engine to run the backward pass\n\u001b[0m\u001b[1;32m    824\u001b[0m             \u001b[0mt_outputs\u001b[0m\u001b[0;34m,\u001b[0m \u001b[0;34m*\u001b[0m\u001b[0margs\u001b[0m\u001b[0;34m,\u001b[0m \u001b[0;34m**\u001b[0m\u001b[0mkwargs\u001b[0m\u001b[0;34m\u001b[0m\u001b[0;34m\u001b[0m\u001b[0m\n\u001b[1;32m    825\u001b[0m         )  # Calls into the C++ engine to run the backward pass\n",
            "\u001b[0;31mKeyboardInterrupt\u001b[0m: "
          ]
        }
      ],
      "source": [
        "z_dim = 256\n",
        "vae = train_model(epochs=100, z_dim=z_dim)"
      ]
    },
    {
      "cell_type": "code",
      "source": [
        "x = dataset[8][0].unsqueeze(1)\n",
        "display(IPython.display.Audio(x.squeeze(), rate = sr))\n"
      ],
      "metadata": {
        "id": "oh3w931wOMcM",
        "colab": {
          "base_uri": "https://localhost:8080/",
          "height": 76
        },
        "outputId": "110335ea-d84e-470c-fdde-0908436e1ffe"
      },
      "execution_count": null,
      "outputs": [
        {
          "output_type": "display_data",
          "data": {
            "text/plain": [
              "<IPython.lib.display.Audio object>"
            ],
            "text/html": [
              "\n",
              "                <audio  controls=\"controls\" >\n",
              "                    <source src=\"data:audio/wav;base64,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\" type=\"audio/wav\" />\n",
              "                    Your browser does not support the audio element.\n",
              "                </audio>\n",
              "              "
            ]
          },
          "metadata": {}
        }
      ]
    },
    {
      "cell_type": "code",
      "source": [
        "device = next(vae.parameters()).device  # автоматически определяет, где модель (cpu или cuda)\n",
        "x = x.to(device)\n",
        "vae.eval()\n",
        "with torch.no_grad():\n",
        "    mean, std = vae.encoder(x)\n",
        "    z_dist = Normal(mean, std)\n",
        "    z = mean #z_dist.rsample()\n",
        "    recon = vae.decoder(z)\n",
        "\n",
        "\n",
        "print(recon.shape)\n",
        "signal = recon[0,0].cpu().numpy()\n",
        "display(IPython.display.Audio(signal, rate = sr))"
      ],
      "metadata": {
        "colab": {
          "base_uri": "https://localhost:8080/",
          "height": 284
        },
        "id": "4272O5ze4Ocs",
        "outputId": "42d1473e-9b23-4af5-da07-af39d454b2c2"
      },
      "execution_count": null,
      "outputs": [
        {
          "output_type": "stream",
          "name": "stdout",
          "text": [
            "Input: shape=torch.Size([1, 1, 6067])\n",
            "After layer 0: shape=torch.Size([1, 64, 759])\n",
            "After layer 1: shape=torch.Size([1, 128, 95])\n",
            "After layer 2: shape=torch.Size([1, 256, 24])\n",
            "After layer 3: shape=torch.Size([1, 512, 6])\n",
            "After layer 4: shape=torch.Size([1, 512, 1])\n",
            "Input: shape=torch.Size([1, 512])\n",
            "After reshape: shape=torch.Size([1, 512, 1])\n",
            "After layer 0: shape=torch.Size([1, 512, 48])\n",
            "After layer 1: shape=torch.Size([1, 256, 378])\n",
            "After layer 2: shape=torch.Size([1, 1, 6034])\n",
            "torch.Size([1, 1, 6034])\n"
          ]
        },
        {
          "output_type": "display_data",
          "data": {
            "text/plain": [
              "<IPython.lib.display.Audio object>"
            ],
            "text/html": [
              "\n",
              "                <audio  controls=\"controls\" >\n",
              "                    <source src=\"data:audio/wav;base64,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\" type=\"audio/wav\" />\n",
              "                    Your browser does not support the audio element.\n",
              "                </audio>\n",
              "              "
            ]
          },
          "metadata": {}
        }
      ]
    },
    {
      "cell_type": "code",
      "source": [
        "losses = [loss.cpu().item() if hasattr(loss, 'cpu') else float(loss) for loss in vae.losses]\n",
        "plt.figure(figsize=(8, 5))\n",
        "plt.plot(losses, label='Train loss')\n",
        "plt.xlabel('Epoch')\n",
        "plt.ylabel('Loss')\n",
        "plt.title('Learning Curve')\n",
        "plt.legend()\n",
        "plt.grid(True)\n",
        "plt.show()\n",
        "print(losses)"
      ],
      "metadata": {
        "id": "Qgi4b42rGsip",
        "colab": {
          "base_uri": "https://localhost:8080/",
          "height": 524
        },
        "outputId": "b6f234e2-167b-4fd8-c6ec-5ab9b1b39a7e"
      },
      "execution_count": null,
      "outputs": [
        {
          "output_type": "display_data",
          "data": {
            "text/plain": [
              "<Figure size 800x500 with 1 Axes>"
            ],
            "image/png": "[encoded data removed]"
          },
          "metadata": {}
        },
        {
          "output_type": "stream",
          "name": "stdout",
          "text": [
            "[527793.1875, 523848.46875, 591971.5, 577857.4375, 712003.25, 122627.1484375, 315224.125, 206828.21875, 215607.78125, 131793.1875, 82827.15625, 34412.4375, 58949.64453125, 46426.796875, 37522.0703125, 30419.8125, 26414.53125, 14235.37109375, 27834.818359375, 25730.330078125, 23068.048828125, 19888.7421875, 17151.21875, 6385.5185546875, 12979.4453125, 12060.5029296875, 12954.75390625, 11753.0244140625, 9928.599609375, 6906.9716796875, 10579.880859375, 9834.8388671875, 7601.0947265625, 8416.96875, 7046.7890625, 4027.666015625, 6107.83544921875, 7580.052734375, 6802.60205078125, 6302.5283203125, 6853.1904296875, 2551.318359375, 7373.6865234375, 5653.85546875, 4464.0810546875, 4309.5830078125, 6620.5, 2603.54931640625, 6709.3935546875, 4253.6552734375, 5032.21630859375, 5328.73046875, 3887.218017578125, 2010.1005859375, 5872.1640625, 5013.87353515625, 3697.16455078125, 3745.971923828125, 4153.3896484375, 3148.83837890625, 6173.9306640625, 5238.66015625, 4513.6572265625, 3656.23828125, 3690.69189453125, 1652.0869140625, 3675.807861328125, 4480.73095703125, 4856.150390625, 4820.9951171875, 4116.103515625, 2186.41650390625, 4852.171875, 2668.72265625, 4361.5966796875, 4264.7099609375, 5826.59375, 1781.911376953125, 2080.71337890625, 3210.2314453125, 6213.3564453125, 7255.10302734375, 2006.4912109375, 3124.40478515625, 3992.884033203125, 3732.44580078125, 3903.11376953125, 4297.95361328125, 5094.896484375, 2533.770751953125, 4350.42626953125, 4013.4443359375, 3850.451171875, 3878.27734375, 4964.3681640625, 2288.31689453125, 4112.17236328125, 5100.224609375, 2047.2977294921875, 4734.3642578125, 3882.017822265625, 3265.7216796875, 4999.216796875, 3928.840087890625, 5248.0947265625, 2756.674560546875, 5029.58203125, 1500.279052734375, 3375.2900390625, 7390.54736328125, 3287.497314453125, 3403.84130859375, 3326.43359375, 2565.357421875, 4034.191650390625, 4625.7744140625, 5381.5546875, 2839.193359375, 4801.91357421875, 1661.291259765625, 2961.851318359375, 4833.8154296875, 4040.96826171875, 5616.0341796875, 4414.78759765625, 1497.2874755859375, 5438.236328125, 3307.53857421875, 4656.54638671875, 3358.94189453125, 4091.41650390625, 2725.279052734375, 4199.216796875, 4281.48828125, 3098.0673828125, 4972.3212890625, 4022.0615234375, 2907.74853515625, 2184.81787109375, 3528.758056640625, 6124.94921875, 6125.1826171875, 3689.7509765625, 1799.015625, 2379.697021484375, 4310.42626953125, 5090.625, 4712.1416015625, 3119.45849609375, 3489.243896484375, 4168.40771484375, 2863.14599609375, 4601.9775390625, 3096.8828125, 6225.47265625, 2037.2978515625, 4637.2705078125, 3947.3134765625, 2482.357421875, 5102.2197265625, 5412.587890625, 1637.161865234375, 3495.89697265625, 5664.232421875, 3421.624755859375, 2605.5498046875, 5040.794921875, 2699.348876953125, 2382.710205078125, 4466.9736328125, 4230.91748046875, 6605.2568359375, 2586.70556640625, 2783.645263671875, 4068.28857421875, 3411.9755859375, 3586.24853515625, 4779.478515625, 4652.1728515625, 2409.808837890625, 3187.00244140625, 3457.068115234375, 4471.97607421875, 4674.7626953125, 4791.4833984375, 2395.033203125, 5477.53271484375, 3554.619873046875, 2662.4501953125, 2684.00244140625, 6136.9853515625, 2411.09423828125, 5200.787109375, 4010.367919921875, 3747.90625, 3437.44287109375, 3385.751708984375, 3277.99755859375, 3424.923583984375, 3905.57568359375, 4145.810546875, 4835.93701171875, 4695.63037109375, 1991.555419921875, 5250.67822265625, 4679.2236328125, 3770.935546875, 3522.46044921875, 2755.171875, 3056.5986328125, 3377.62939453125, 4968.02197265625, 3632.59228515625, 3875.03369140625, 3680.31005859375, 3335.07470703125, 2894.78515625, 4593.27880859375, 3060.476806640625, 6235.232421875, 4309.064453125, 1970.3118896484375, 3724.10595703125, 5053.5263671875, 4926.9921875, 1849.7677001953125, 4141.8759765625, 3192.2646484375, 3287.57373046875, 5480.74560546875, 3577.87451171875, 4475.06982421875, 3656.27197265625, 2467.751953125, 2844.451904296875, 4000.88916015625, 3971.400390625, 3366.012451171875, 5824.65966796875, 2380.6474609375, 5745.41162109375, 3761.599609375, 4787.119140625, 1946.55126953125, 4380.814453125, 2365.22900390625, 4670.9423828125, 4072.083984375, 4084.961669921875, 3597.884033203125, 3327.692626953125, 3005.4951171875, 3847.87255859375, 4890.779296875, 4272.576171875, 3200.613525390625, 4579.3544921875, 1804.369873046875, 4010.45458984375, 3063.579345703125, 3984.916015625, 4275.9296875, 3869.380859375, 3122.0390625, 4694.44873046875, 3517.608642578125, 4365.57958984375, 2756.53955078125, 4831.189453125, 2188.16796875, 3615.125, 3481.0849609375, 3773.456787109375, 5010.09765625, 3488.92138671875, 3102.80859375, 4719.5263671875, 2345.060546875, 4295.0693359375, 3507.2763671875, 4836.142578125, 2379.1484375, 4592.9091796875, 3668.70947265625, 6324.73828125, 3171.2294921875, 3307.5439453125, 1126.598388671875, 3197.89306640625, 4697.93896484375, 5057.9521484375, 1380.510009765625, 5276.4150390625, 2933.76806640625, 2543.28515625, 2815.376708984375, 5561.4443359375, 4647.5498046875, 4024.561279296875, 2482.09716796875, 2058.87939453125, 4816.5703125, 2603.436279296875, 4050.03173828125, 4433.3564453125, 3949.82421875, 3397.83349609375, 5519.9267578125, 2538.903564453125, 3736.878173828125, 4427.404296875, 2331.68701171875, 4899.0927734375, 3703.168212890625, 3560.1865234375, 4289.6953125, 3689.2099609375, 2065.7734375, 3717.948486328125, 4562.48583984375, 4058.9677734375, 3585.34716796875, 5227.818359375, 1085.460205078125, 5139.396484375, 2961.469482421875, 3048.376220703125, 4395.1572265625, 4966.1904296875, 1155.41796875, 3180.69091796875, 5061.98583984375, 2122.166015625, 4467.0478515625, 4611.275390625, 2193.632568359375, 3024.70458984375, 4402.16748046875, 3943.695556640625, 4139.83642578125, 3347.663330078125, 2952.489501953125, 3346.111328125, 3372.973876953125, 4863.53076171875, 5450.12939453125, 2703.6103515625, 1890.9775390625, 4177.875, 4467.36083984375, 2865.628173828125, 3225.275390625, 4401.45849609375, 2387.7060546875, 3764.28662109375, 4693.1728515625, 3619.84716796875, 3989.6748046875, 2428.19287109375, 2870.6875, 2498.2578125, 4047.1845703125, 3613.22998046875, 2741.177490234375, 6004.0146484375, 2425.49462890625, 2619.347412109375, 3423.2607421875, 2069.325927734375, 6019.4072265625, 4588.6640625, 2504.608154296875, 3302.2041015625, 5622.62158203125, 3018.76220703125, 3680.7021484375, 3560.63720703125, 2079.3955078125, 3661.00830078125, 5019.373046875, 4218.00341796875, 3173.165771484375, 3613.574462890625, 1581.0738525390625, 3275.462890625, 4222.41162109375, 3454.188720703125, 3390.477294921875, 5377.53564453125, 1436.085693359375, 4749.73974609375, 4314.44580078125, 3007.89892578125, 3192.123779296875, 3907.64990234375, 2130.73681640625, 3190.632568359375, 3524.624267578125, 3406.54833984375, 6649.77197265625, 4035.47705078125, 590.9872436523438, 3027.9326171875, 4978.97705078125, 2929.21875, 2501.517333984375, 4871.9443359375, 2713.448974609375, 3322.24169921875, 5322.3486328125, 3337.751708984375, 2006.6781005859375, 3502.27587890625, 3705.625244140625, 3727.74853515625, 4264.3974609375, 2670.679931640625, 5439.26318359375, 3462.28662109375, 1875.1036376953125, 4117.623046875, 2303.232421875, 4030.427490234375, 4576.8759765625, 3666.266845703125, 2090.616943359375, 5040.5458984375, 4872.64208984375, 4178.419921875, 2424.169677734375, 2978.27001953125, 1598.4033203125, 3938.396728515625, 4641.57861328125, 4414.5517578125, 3401.94384765625, 3190.81591796875, 1360.2962646484375, 3938.05419921875, 1806.441162109375, 3666.2626953125, 3203.791015625, 5000.53515625, 3117.57470703125, 5497.8583984375, 2457.894287109375, 2684.048095703125, 4615.20166015625, 3349.981689453125, 2108.8603515625, 3042.599365234375, 3862.1376953125, 2458.97900390625, 2618.6787109375, 5558.2060546875, 2862.519287109375, 3682.32763671875, 2376.902587890625, 3589.2236328125, 4525.8046875, 3759.586181640625, 2264.5849609375, 2270.650390625, 3864.09228515625, 3185.484375, 4503.064453125, 3502.685546875, 2858.201171875, 4201.10546875, 4361.080078125, 4014.99658203125, 3741.0107421875, 2366.7724609375, 1282.055908203125, 3276.3896484375, 5107.1962890625, 3503.8642578125, 2189.8740234375, 3187.93017578125, 2304.31494140625, 4810.2568359375, 3134.9716796875, 2917.87890625, 3018.23046875, 4156.08154296875, 1867.020263671875, 3403.2373046875, 3236.85498046875, 5555.189453125, 2384.3642578125, 2623.121337890625, 2779.47216796875, 2473.999755859375, 4702.1435546875, 4741.05859375, 1934.7005615234375, 4251.2265625, 1627.5250244140625, 4516.88525390625, 3844.9482421875, 2308.3427734375, 3371.591796875, 4730.4990234375, 1208.6729736328125, 4447.1396484375, 2808.865234375, 3897.6103515625, 3678.6865234375, 3924.447265625, 989.2069091796875, 2889.09716796875, 4560.46337890625, 5898.22216796875, 2335.63330078125, 2208.59619140625, 1627.84765625, 2092.34814453125, 5403.0361328125, 4133.7236328125, 3355.627685546875, 2488.0947265625, 1704.6092529296875, 4286.6806640625, 4077.996337890625, 3748.0380859375, 2390.42626953125, 3497.6845703125, 1047.59375, 3582.537353515625, 3672.939208984375, 4046.716796875, 3247.3408203125, 3973.04150390625, 805.723388671875, 2638.45947265625, 4290.03515625, 4185.11083984375, 3138.209228515625, 2815.60009765625, 1677.438232421875, 4088.49267578125, 3259.072021484375, 2579.5107421875, 3111.99169921875, 3621.2314453125, 1844.59912109375, 2587.39990234375, 3339.697265625, 3957.955078125, 3890.3662109375, 3204.0634765625, 1655.119384765625, 2458.35302734375, 3859.582763671875, 4251.345703125, 2481.44921875, 3568.4853515625, 2404.9228515625, 3136.54345703125, 1596.811767578125, 3795.900146484375, 4892.1708984375, 3153.371826171875, 2353.85009765625, 3901.1171875, 3385.08154296875, 4259.572265625, 2357.57373046875, 4026.08740234375, 928.0841064453125, 4001.820068359375, 2403.970458984375, 2930.48193359375, 3513.4697265625, 3451.83642578125, 2306.765869140625, 2210.565673828125, 3425.6015625, 3863.805908203125, 3264.55029296875, 3652.0615234375, 2192.245361328125, 2404.01953125, 4208.85595703125, 3113.80419921875, 5028.96630859375, 2588.444580078125, 1422.740966796875, 2791.17822265625, 2045.5693359375, 3520.0361328125, 3029.742431640625, 4715.6708984375, 2043.32470703125, 3012.928955078125, 2666.078125, 2780.233642578125, 2727.7646484375, 4672.6142578125, 2019.6844482421875]\n"
          ]
        }
      ]
    },
    {
      "cell_type": "code",
      "source": [
        "torch.save(vae, './full_model.pth')\n"
      ],
      "metadata": {
        "id": "mfFza5WPrtov"
      },
      "execution_count": null,
      "outputs": []
    },
    {
      "cell_type": "code",
      "source": [],
      "metadata": {
        "id": "KP29ZD-NsFw-"
      },
      "execution_count": null,
      "outputs": []
    },
    {
      "cell_type": "code",
      "source": [
        "class Encoder(nn.Module):\n",
        "    def __init__(self, im_chan=1, output_chan=32, hidden_dim=16):\n",
        "        super(Encoder, self).__init__()\n",
        "        self.z_dim = output_chan\n",
        "        self.encoder = nn.Sequential(\n",
        "            self.init_conv_block(im_chan, hidden_dim),\n",
        "            self.init_conv_block(hidden_dim, hidden_dim * 2, kernel_size=32, stride=2, padding=0,),\n",
        "            self.init_conv_block(hidden_dim * 2, output_chan, kernel_size=48, stride=2, padding=0, final_layer=True),\n",
        "        )\n",
        "\n",
        "    def init_conv_block(self, input_channels, output_channels, kernel_size=64, stride=2, padding=0, final_layer=False, bias=True):\n",
        "        layers = [\n",
        "            nn.Conv1d(input_channels, output_channels,\n",
        "                          kernel_size=kernel_size,\n",
        "                          padding=padding,\n",
        "                          stride=stride)\n",
        "        ]\n",
        "        if not final_layer:\n",
        "            layers += [\n",
        "                nn.BatchNorm1d(output_channels),\n",
        "                nn.ReLU()\n",
        "            ]\n",
        "        else:\n",
        "            layers += [nn.Tanh()]\n",
        "        return nn.Sequential(*layers)\n",
        "\n",
        "    def forward(self, sound):\n",
        "        x = sound\n",
        "        print(f\"Input: shape={x.shape}\")\n",
        "        for i, layer in enumerate(self.encoder):\n",
        "            x = layer(x)\n",
        "            print(f\"After layer {i}: shape={x.shape}\")\n",
        "        #print(x)\n",
        "        encoding = x.view(len(x), -1)\n",
        "        #print(encoding)\n",
        "        #print(encoding.shape)\n",
        "        #encoder_pred = self.encoder(sound)\n",
        "        #encoding = encoder_pred.view(len(encoder_pred), -1)\n",
        "        mean = encoding#[:, :self.z_dim]\n",
        "        logvar = encoding#[:, self.z_dim:]\n",
        "        return mean, torch.abs(logvar*0.5)\n"
      ],
      "metadata": {
        "id": "0SYHVa83wKoN"
      },
      "execution_count": null,
      "outputs": []
    },
    {
      "cell_type": "code",
      "source": [
        "class Decoder(nn.Module):\n",
        "    def __init__(self, z_dim=32, im_chan=1, hidden_dim=32):\n",
        "        super(Decoder, self).__init__()\n",
        "        self.z_dim = z_dim\n",
        "        self.decoder = nn.Sequential(\n",
        "            self.init_conv_block(z_dim, hidden_dim * 2, kernel_size=48, stride=1, padding=0),\n",
        "            self.init_conv_block(hidden_dim * 2, hidden_dim, kernel_size=32, stride=8, padding=0,),\n",
        "            self.init_conv_block(hidden_dim, im_chan, final_layer=True),\n",
        "        )\n",
        "\n",
        "    def init_conv_block(self, input_channels, output_channels, kernel_size=64, stride=16, padding=0, final_layer=False, bias=True):\n",
        "        layers = [\n",
        "            nn.ConvTranspose1d(input_channels, output_channels,\n",
        "                               kernel_size=kernel_size,\n",
        "                               stride=stride, padding=padding)\n",
        "        ]\n",
        "        if not final_layer:\n",
        "            layers += [\n",
        "                nn.BatchNorm1d(output_channels),\n",
        "                nn.ReLU()\n",
        "            ]\n",
        "        return nn.Sequential(*layers)\n",
        "\n",
        "    def forward(self, z):\n",
        "        x = z\n",
        "        print(f\"Input: shape={x.shape}\")\n",
        "        x = z.view(-1, self.z_dim, 1)\n",
        "        print(f\"After reshape: shape={x.shape}\")\n",
        "        for i, layer in enumerate(self.decoder):\n",
        "            x = layer(x)\n",
        "            print(f\"After layer {i}: shape={x.shape}\")\n",
        "        return x\n",
        "        #return self.decoder(x)"
      ],
      "metadata": {
        "id": "wyFuctCXxivw"
      },
      "execution_count": null,
      "outputs": []
    },
    {
      "cell_type": "code",
      "source": [],
      "metadata": {
        "id": "wuwBXW3Zx-bz"
      },
      "execution_count": null,
      "outputs": []
    }
  ]
}